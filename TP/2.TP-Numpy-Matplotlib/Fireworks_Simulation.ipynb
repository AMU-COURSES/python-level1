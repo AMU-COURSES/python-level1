{
 "cells": [
  {
   "cell_type": "markdown",
   "metadata": {},
   "source": [
    "# Fireworks Simulation \n",
    "\n",
    "## Overview\n",
    "Students will simulate and visualize **fireworks explosions** using **NumPy** for mathematical operations and **Matplotlib** for animations.\n",
    "\n",
    "### Concepts Covered\n",
    "- **NumPy**:\n",
    "  - Array creation (`np.linspace`, `np.random.rand`)\n",
    "  - Mathematical operations (`np.sin`, `np.cos`, `np.exp`)\n",
    "  - Aggregation functions (`np.mean`, `np.std`)\n",
    "\n",
    "- **Matplotlib**:\n",
    "  - Basic plotting (`scatter`, `imshow`)\n",
    "  - Animations (`FuncAnimation`)\n",
    "\n",
    "## Step-by-Step Practical Work\n",
    "\n",
    "### Generate Firework Explosions\n",
    "Use **NumPy** to simulate firework particles moving outward from a center point.\n"
   ]
  },
  {
   "cell_type": "code",
   "execution_count": null,
   "metadata": {},
   "outputs": [],
   "source": [
    "import numpy as np\n",
    "\n",
    "# Number of particles\n",
    "num_particles = 100\n",
    "\n",
    "# 1- Define the initial position of the particles (x, y)\n",
    "# All particles are initialized at the origin (0, 0)\n",
    "\n",
    "# 2- Define the initial speed of the particles\n",
    "# All particles have a random speed between 0 and 3\n",
    "\n",
    "# 3- Define the initial direction of the particles\n",
    "# All particles have a direction spread evenly in a circle\n"
   ]
  },
  {
   "cell_type": "markdown",
   "metadata": {},
   "source": [
    "### Use Mathematical Functions\n",
    "Use **mathematical functions** to simulate the particles movement."
   ]
  },
  {
   "cell_type": "code",
   "execution_count": null,
   "metadata": {},
   "outputs": [],
   "source": [
    "# 1- Compute motion over time for each particle\n",
    "import math as m\n",
    "\n",
    "num_steps = 100\n",
    "for p in range(num_particles):\n",
    "    for i in range(num_steps):\n",
    "        pass # Compute the new position of the particle\n",
    "    \n",
    "# 3- replace the loop on time by a vectorized computation\n",
    "# Compare the computation time of the two methods\n"
   ]
  },
  {
   "cell_type": "markdown",
   "metadata": {},
   "source": [
    "### Visualize the Fireworks\n",
    "Use **Matplotlib's animation** to show the explosion dynamically."
   ]
  },
  {
   "cell_type": "code",
   "execution_count": null,
   "metadata": {},
   "outputs": [],
   "source": [
    "# 1- Use NumPy arrays to compute motion over time for each particle\n",
    "\n",
    "# 2- Use Matplotlib scatter to plot position of the particles\n",
    "import matplotlib.pyplot as plt\n",
    "\n",
    "# 3- Use Matplotlib animation to animate the motion of the particles\n",
    "from matplotlib.animation import FuncAnimation\n",
    "# Update function for animation\n",
    "def update(frame):\n",
    "    pass # Offset the position of the particles at each frame\n",
    "# if the animation doesn't display with plt.show(), use HTML(ani.to_jshtml())"
   ]
  },
  {
   "cell_type": "markdown",
   "metadata": {},
   "source": [
    "### Implement Bounding Box\n",
    "Add a **bounding box** to contain the fireworks and simulate gravity."
   ]
  },
  {
   "cell_type": "code",
   "execution_count": null,
   "metadata": {},
   "outputs": [],
   "source": [
    "box_size = 10  # Box boundary size\n",
    "x_min, x_max = -box_size, box_size\n",
    "y_min, y_max = -box_size, box_size\n",
    "\n",
    "# reduce the time step (to slow down the animation)\n",
    "time_step = 0.1\n",
    "\n",
    "# Do not forget to reinitialize the particles position and speed\n",
    "\n",
    "# 1- Reverse the direction of the particles when they hit the boundary\n",
    "def update_positions():\n",
    "    global x, y, vx, vy\n",
    "    pass # Update the position of the particles with bouncing effect\n",
    "# if you keep gravity, do not forget simulate the floor effect ;p\n",
    "\n",
    "# 2- Also slow down the particles when they hit the boundary\n",
    "slowdown_factor = 0.8  # Speed reduction factor on collision\n",
    "\n",
    "# 3- Update the animation to include the boundary effect"
   ]
  },
  {
   "cell_type": "markdown",
   "metadata": {},
   "source": [
    "### Show the cumulative heatmap\n",
    "Improving the visualization using a **cumulative heatmap** to show the explosion over time."
   ]
  },
  {
   "cell_type": "code",
   "execution_count": null,
   "metadata": {},
   "outputs": [],
   "source": [
    "# Do not forget to reinitialize the particles position and speed\n",
    "\n",
    "# 1- Compute the histogram of the particles position\n",
    "\n",
    "# 2- Compute the cumulative histogram of the particles position\n",
    "\n",
    "# 3- Update the animation to include the histogram of the particles position"
   ]
  }
 ],
 "metadata": {
  "kernelspec": {
   "display_name": "Python 3",
   "language": "python",
   "name": "python3"
  },
  "language_info": {
   "codemirror_mode": {
    "name": "ipython",
    "version": 3
   },
   "file_extension": ".py",
   "mimetype": "text/x-python",
   "name": "python",
   "nbconvert_exporter": "python",
   "pygments_lexer": "ipython3",
   "version": "3.12.8"
  }
 },
 "nbformat": 4,
 "nbformat_minor": 2
}
