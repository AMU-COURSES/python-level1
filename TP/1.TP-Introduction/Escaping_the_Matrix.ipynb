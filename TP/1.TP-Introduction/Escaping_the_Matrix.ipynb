{
 "cells": [
  {
   "cell_type": "markdown",
   "metadata": {
    "editable": true,
    "slideshow": {
     "slide_type": ""
    },
    "tags": []
   },
   "source": [
    "# Escape from the Matrix\n",
    "\n",
    "## Introduction\n",
    "\n",
    "Welcome to **Escape from the Matrix**, a text-based adventure game where you must navigate a simulated world, collect resources, and avoid obstacles to escape. \n",
    "This project will introduce you to **Python fundamentals**, including:\n",
    "\n",
    "- Variables and data types\n",
    "- Control structures (loops, conditionals)\n",
    "- Functions and modular programming\n",
    "- Using lists and dictionaries to manage data\n",
    "- Writing structured, reusable code\n",
    "\n",
    "By the end of this part, you'll implement **basic movement and an inventory system**, creating the foundation for the game.\n",
    "\n",
    "### Instructions:\n",
    "1. Implement the functions `display_world()`, `move_player(direction)`, and `collect_item(position)`.\n",
    "2. Run `display_world()` to see the initial world state.\n",
    "3. Move using `move_player('up')`, `move_player('down')`, `move_player('left')`, or `move_player('right')`.\n",
    "4. Collect items using `collect_item('position')`.\n",
    "5. Experiment with different movement and inventory operations.\n",
    "6. Once you are confident, **move everything into a Python file (`game.py`) and import it in the notebook**.\n",
    "\n",
    "### Final Task:\n",
    "- Create a new Python file: `game.py`\n",
    "- Copy all functions and variables into `game.py`\n",
    "- Import and test them in the notebook:\n",
    "```python\n",
    "from game import move_player, collect_item, display_world\n",
    "```\n",
    "\n",
    "### Expected Outcome:\n",
    "- The player should move within the grid.\n",
    "- The inventory system should store collected items as a dictionary `{item_name: quantity}`.\n",
    "- Everything should be reusable from `game.py`.\n",
    "\n",
    "Have fun!"
   ]
  },
  {
   "cell_type": "code",
   "execution_count": 1,
   "metadata": {},
   "outputs": [],
   "source": [
    "# Game settings\n",
    "\n",
    "# Define the grid size\n",
    "GRID_SIZE = (5, 5)  # 5x5 world\n",
    "\n",
    "# Define player properties\n",
    "player_position = [0, 0]  # Starting position (top-left corner)\n",
    "inventory = {}  # Inventory as a dictionary\n",
    "\n",
    "# Place items in the world\n",
    "item_positions = {\n",
    "    'cle': [1, 1],\n",
    "    'map': [2, 2]\n",
    "}\n",
    "\n",
    "# Place the exit in the world\n",
    "exit_position = [4, 4]"
   ]
  },
  {
   "cell_type": "markdown",
   "metadata": {
    "editable": true,
    "slideshow": {
     "slide_type": ""
    },
    "tags": []
   },
   "source": [
    "## Task 1: Implement the `display_world()` Function\n",
    "- The function should print a **5x5 grid** where:\n",
    "  - Empty spaces are represented by '.'\n",
    "  - The player's position is represented by 'P'\n",
    "  - The exit is represented by 'E'\n",
    "- Example Output:\n",
    "  ```\n",
    "  . . . . .\n",
    "  . . . . .\n",
    "  . . P . .\n",
    "  . . . . .\n",
    "  . . . E .\n",
    "  ```"
   ]
  },
  {
   "cell_type": "code",
   "execution_count": 2,
   "metadata": {},
   "outputs": [
    {
     "name": "stdout",
     "output_type": "stream",
     "text": [
      "P . . . . \n",
      ". . . . . \n",
      ". . . . . \n",
      ". . . . . \n",
      ". . . . E \n"
     ]
    }
   ],
   "source": [
    "def display_world():\n",
    "    for i in range(GRID_SIZE[0]):\n",
    "        for j in range(GRID_SIZE[1]):\n",
    "            if [i, j] == player_position:\n",
    "                print('P', end=' ')\n",
    "            #elif [i, j] == exit_position:\n",
    "            elif i == exit_position[0] and j == exit_position[1]:\n",
    "                print('E', end=' ')\n",
    "            else:\n",
    "                print('.', end=' ')\n",
    "        print()\n",
    "display_world()"
   ]
  },
  {
   "cell_type": "markdown",
   "metadata": {},
   "source": [
    "## Task 2: Implement the `move_player(direction)` Function\n",
    "- The function should move the player **up, down, left, or right** within the grid.\n",
    "- It should prevent movement **outside the grid boundaries**.\n",
    "- Example usage:\n",
    "  ```python\n",
    "  move_player('right')  # Moves the player one step to the right\n",
    "  ```\n"
   ]
  },
  {
   "cell_type": "code",
   "execution_count": 3,
   "metadata": {},
   "outputs": [
    {
     "name": "stdout",
     "output_type": "stream",
     "text": [
      "Initial\n",
      "P . . . . \n",
      ". . . . . \n",
      ". . . . . \n",
      ". . . . . \n",
      ". . . . E \n",
      "right\n",
      ". P . . . \n",
      ". . . . . \n",
      ". . . . . \n",
      ". . . . . \n",
      ". . . . E \n"
     ]
    }
   ],
   "source": [
    "def move_player(direction):\n",
    "    if direction[0] == \"r\":\n",
    "        player_position[1] += 1\n",
    "        if player_position[1] >= GRID_SIZE[1]:\n",
    "            player_position[1] = 0\n",
    "    elif direction[0] == \"l\":\n",
    "        player_position[1] -= 1\n",
    "        if player_position[1] <0 :\n",
    "            player_position[1] = GRID_SIZE[1]-1\n",
    "    elif direction[0] == \"u\":\n",
    "        player_position[0] -= 1\n",
    "        if player_position[0] <0:\n",
    "            player_position[0] = GRID_SIZE[0]-1\n",
    "    elif direction[0] == \"d\":\n",
    "        player_position[0] += 1\n",
    "        if player_position[0] >= GRID_SIZE[0]:\n",
    "            player_position[0] = 0\n",
    "    else:\n",
    "        print(\"Wrong command, please use : right, left, up, down\")\n",
    "    return player_position\n",
    "\n",
    "print(\"Initial\")\n",
    "display_world()\n",
    "print(\"right\")\n",
    "player_position = move_player(\"right\")\n",
    "display_world()"
   ]
  },
  {
   "cell_type": "markdown",
   "metadata": {},
   "source": [
    "## Task 3: Implement the `collect_item(position)` Function\n",
    "- The function should:\n",
    "  - Check if an item exists at the given position.\n",
    "  - Add the item to the inventory as a dictionary `{item_name: quantity}`.\n",
    "  - If an item already exists, increase the quantity.\n",
    "- Example usage:\n",
    "  ```python\n",
    "  collect_item() \n",
    "  ```"
   ]
  },
  {
   "cell_type": "code",
   "execution_count": 4,
   "metadata": {},
   "outputs": [],
   "source": [
    "def collect_item():\n",
    "    \"\"\"\n",
    "    This function check if an item is at the position and collect it.\n",
    "\n",
    "    params:\n",
    "        - position: position of the player, typr: list\n",
    "    \"\"\"\n",
    "    # loop other items\n",
    "    for key, val in item_positions.items():\n",
    "        if val == player_position:\n",
    "            if key in inventory:\n",
    "                inventory[key] += 1\n",
    "            else:\n",
    "                inventory[key] = 1\n",
    "            print(\"Item collected:\", key)                \n"
   ]
  },
  {
   "cell_type": "code",
   "execution_count": 5,
   "metadata": {},
   "outputs": [
    {
     "name": "stdout",
     "output_type": "stream",
     "text": [
      "{}\n"
     ]
    }
   ],
   "source": [
    "collect_item()\n",
    "print(inventory)"
   ]
  },
  {
   "cell_type": "markdown",
   "metadata": {},
   "source": [
    "## Task 4: Implement the map and the key\n",
    "\n",
    "- Implement the `display_real_world()`, the exit should be hidden until the player collects the map.\n",
    "- Implement the exit game logic, the player should collect the key before leaving the game.\n",
    "- If the player reach the exit without the key, the game should print a message and the player should not be able to leave the game.\n",
    "- If the player reach the exit with the key, the game should print the credits."
   ]
  },
  {
   "cell_type": "code",
   "execution_count": 6,
   "metadata": {},
   "outputs": [],
   "source": [
    "def display_real_world():\n",
    "    if 'map' in inventory:\n",
    "        display_world()\n",
    "    else:\n",
    "        for i in range(GRID_SIZE[0]):\n",
    "            for j in range(GRID_SIZE[1]):\n",
    "                if [i, j] == player_position:\n",
    "                    print('P', end=' ')\n",
    "                else:\n",
    "                    print('.', end=' ')\n",
    "            print()\n",
    "\n",
    "def exit_game():\n",
    "    if player_position == exit_position:\n",
    "        if 'cle' in inventory:\n",
    "            print(\"Congratulation! Game over\")\n",
    "            exit()\n",
    "        else: \n",
    "            print(\"The door is closed\")\n",
    "        "
   ]
  },
  {
   "cell_type": "code",
   "execution_count": 7,
   "metadata": {},
   "outputs": [
    {
     "name": "stdout",
     "output_type": "stream",
     "text": [
      ". P . . . \n",
      ". . . . . \n",
      ". . . . . \n",
      ". . . . . \n",
      ". . . . . \n",
      ". P . . . \n",
      ". . . . . \n",
      ". . . . . \n",
      ". . . . . \n",
      ". . . . E \n",
      "The door is closed\n"
     ]
    }
   ],
   "source": [
    "inventory = {}\n",
    "display_real_world()\n",
    "inventory['map'] = 1\n",
    "display_real_world()\n",
    "\n",
    "player_position = [4,4]\n",
    "exit_game()\n",
    "inventory['cle'] = 1\n",
    "# exit_game() # exit the notebook"
   ]
  },
  {
   "cell_type": "markdown",
   "metadata": {},
   "source": [
    "## Task 5: Move everything to a Python file\n",
    "\n",
    "- Create a new Python file: `game.py`\n",
    "- Copy all functions and variables into `game.py`\n",
    "- Import and test them in the notebook:\n",
    "```python\n",
    "from game import move_player, collect_item, display_world\n",
    "```"
   ]
  },
  {
   "cell_type": "markdown",
   "metadata": {},
   "source": [
    "## Task 6: Implement the main game loop\n",
    "\n",
    "- Randomly place the key, the map and the exit in the game world.\n",
    "- Implement the main game loop that will run the game until the player reaches the exit or quits the game.\n",
    "- The game loop should display the game world, ask the player for input, and update the game state based on the player's input.\n",
    "- The game loop should check if the player has reached the exit. If the player has reached the exit, the game should print the credits and end the game.\n",
    "    \n",
    "You can use the `input()` function to get the player's input, check the python documentation for more information.\n",
    "\n",
    "```python\n",
    "def main():\n",
    "    pass\n",
    "\n",
    "if __name__ == '__main__':\n",
    "    main()\n",
    "```\n",
    "\n",
    "You can also run it in the notebook:"
   ]
  },
  {
   "cell_type": "code",
   "execution_count": null,
   "metadata": {},
   "outputs": [
    {
     "name": "stdout",
     "output_type": "stream",
     "text": [
      "{'cle': [4, 4], 'map': [2, 3]}\n",
      "[1, 0]\n",
      "P . . . . \n",
      ". . . . . \n",
      ". . . . . \n",
      ". . . . . \n",
      ". . . . . \n"
     ]
    },
    {
     "name": "stdin",
     "output_type": "stream",
     "text": [
      "right (r) left (l) up (u) down (d) d\n"
     ]
    },
    {
     "name": "stdout",
     "output_type": "stream",
     "text": [
      "The door is closed\n",
      ". . . . . \n",
      "P . . . . \n",
      ". . . . . \n",
      ". . . . . \n",
      ". . . . . \n"
     ]
    },
    {
     "name": "stdin",
     "output_type": "stream",
     "text": [
      "right (r) left (l) up (u) down (d) d\n"
     ]
    },
    {
     "name": "stdout",
     "output_type": "stream",
     "text": [
      ". . . . . \n",
      ". . . . . \n",
      "P . . . . \n",
      ". . . . . \n",
      ". . . . . \n"
     ]
    },
    {
     "name": "stdin",
     "output_type": "stream",
     "text": [
      "right (r) left (l) up (u) down (d) r\n"
     ]
    },
    {
     "name": "stdout",
     "output_type": "stream",
     "text": [
      ". . . . . \n",
      ". . . . . \n",
      ". P . . . \n",
      ". . . . . \n",
      ". . . . . \n"
     ]
    },
    {
     "name": "stdin",
     "output_type": "stream",
     "text": [
      "right (r) left (l) up (u) down (d) r\n"
     ]
    },
    {
     "name": "stdout",
     "output_type": "stream",
     "text": [
      ". . . . . \n",
      ". . . . . \n",
      ". . P . . \n",
      ". . . . . \n",
      ". . . . . \n"
     ]
    },
    {
     "name": "stdin",
     "output_type": "stream",
     "text": [
      "right (r) left (l) up (u) down (d) r\n"
     ]
    },
    {
     "name": "stdout",
     "output_type": "stream",
     "text": [
      "Item collected: map\n",
      ". . . . . \n",
      "E . . . . \n",
      ". . . P . \n",
      ". . . . . \n",
      ". . . . . \n"
     ]
    },
    {
     "name": "stdin",
     "output_type": "stream",
     "text": [
      "right (r) left (l) up (u) down (d) r\n"
     ]
    },
    {
     "name": "stdout",
     "output_type": "stream",
     "text": [
      ". . . . . \n",
      "E . . . . \n",
      ". . . . P \n",
      ". . . . . \n",
      ". . . . . \n"
     ]
    },
    {
     "name": "stdin",
     "output_type": "stream",
     "text": [
      "right (r) left (l) up (u) down (d) d\n"
     ]
    },
    {
     "name": "stdout",
     "output_type": "stream",
     "text": [
      ". . . . . \n",
      "E . . . . \n",
      ". . . . . \n",
      ". . . . P \n",
      ". . . . . \n"
     ]
    },
    {
     "name": "stdin",
     "output_type": "stream",
     "text": [
      "right (r) left (l) up (u) down (d) d\n"
     ]
    },
    {
     "name": "stdout",
     "output_type": "stream",
     "text": [
      "Item collected: cle\n",
      ". . . . . \n",
      "E . . . . \n",
      ". . . . . \n",
      ". . . . . \n",
      ". . . . P \n"
     ]
    },
    {
     "name": "stdin",
     "output_type": "stream",
     "text": [
      "right (r) left (l) up (u) down (d) d\n"
     ]
    },
    {
     "name": "stdout",
     "output_type": "stream",
     "text": [
      ". . . . P \n",
      "E . . . . \n",
      ". . . . . \n",
      ". . . . . \n",
      ". . . . . \n"
     ]
    },
    {
     "name": "stdin",
     "output_type": "stream",
     "text": [
      "right (r) left (l) up (u) down (d) r\n"
     ]
    },
    {
     "name": "stdout",
     "output_type": "stream",
     "text": [
      "P . . . . \n",
      "E . . . . \n",
      ". . . . . \n",
      ". . . . . \n",
      ". . . . . \n"
     ]
    },
    {
     "name": "stdin",
     "output_type": "stream",
     "text": [
      "right (r) left (l) up (u) down (d) d\n"
     ]
    },
    {
     "name": "stdout",
     "output_type": "stream",
     "text": [
      "Congratulation! Game over\n",
      ". . . . . \n",
      "P . . . . \n",
      ". . . . . \n",
      ". . . . . \n",
      ". . . . . \n"
     ]
    }
   ],
   "source": [
    "# reset player position and inventory\n",
    "player_position = [0, 0]  # Starting position (top-left corner)\n",
    "inventory = {}  # Inventory as a dictionary\n",
    "\n",
    "# Place items in the world with random position\n",
    "import random\n",
    "\n",
    "item_positions = {\n",
    "    'cle': random.choices(range(5), k=2),\n",
    "    'map': random.choices(range(5), k=2),\n",
    "}\n",
    "\n",
    "# Place the exit in the world\n",
    "exit_position = random.choices(range(5), k=2)\n",
    "\n",
    "# print the position (to debug this is cheating)\n",
    "print(item_positions)\n",
    "print(exit_position)\n",
    "\n",
    "def main():\n",
    "    while True:\n",
    "        display_real_world()\n",
    "        action = input(\"right (r) left (l) up (u) down (d)\")\n",
    "        player_position = move_player(action)\n",
    "        collect_item()\n",
    "        exit_game()\n",
    "\n",
    "main()"
   ]
  },
  {
   "cell_type": "code",
   "execution_count": null,
   "metadata": {},
   "outputs": [],
   "source": []
  }
 ],
 "metadata": {
  "kernelspec": {
   "display_name": "Python 3 (ipykernel)",
   "language": "python",
   "name": "python3"
  },
  "language_info": {
   "codemirror_mode": {
    "name": "ipython",
    "version": 3
   },
   "file_extension": ".py",
   "mimetype": "text/x-python",
   "name": "python",
   "nbconvert_exporter": "python",
   "pygments_lexer": "ipython3",
   "version": "3.12.8"
  }
 },
 "nbformat": 4,
 "nbformat_minor": 4
}
