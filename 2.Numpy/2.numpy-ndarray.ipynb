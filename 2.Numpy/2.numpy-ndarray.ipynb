{
 "cells": [
  {
   "cell_type": "markdown",
   "id": "d2147e4233406b74",
   "metadata": {
    "editable": true,
    "slideshow": {
     "slide_type": "slide"
    },
    "tags": []
   },
   "source": [
    "# Calcul scientifique: [numpy](https://numpy.org/doc/stable/)\n"
   ]
  },
  {
   "cell_type": "code",
   "execution_count": 1,
   "id": "18ea670b54a2eff9",
   "metadata": {
    "ExecuteTime": {
     "end_time": "2025-02-28T17:53:44.390332Z",
     "start_time": "2025-02-28T17:52:36.241451Z"
    },
    "editable": true,
    "slideshow": {
     "slide_type": "subslide"
    },
    "tags": []
   },
   "outputs": [],
   "source": [
    "#!pip install numpy\n",
    "import numpy as np"
   ]
  },
  {
   "cell_type": "markdown",
   "id": "99f14bd6e4c23acd",
   "metadata": {
    "editable": true,
    "slideshow": {
     "slide_type": "subslide"
    },
    "tags": []
   },
   "source": [
    "[Documentation de numpy](https://numpy.org/doc/stable/)\n"
   ]
  },
  {
   "cell_type": "markdown",
   "id": "888f9256-4bde-4dd9-a2fd-9109a84b7424",
   "metadata": {},
   "source": [
    "---"
   ]
  },
  {
   "cell_type": "markdown",
   "id": "462fac87-ece9-4cc7-b094-c1c0c6173439",
   "metadata": {
    "editable": true,
    "slideshow": {
     "slide_type": "slide"
    },
    "tags": []
   },
   "source": [
    "<h1> Sommaire <span class=\"tocSkip\"> </span> </h1>\n",
    "<div class =\"toc\"> <ul class =\"toc-item\">\n",
    "<li > <span><a href=\"#Bases-sur-les-tableaux-numpy\" data-toc-modified-id=\"Bases-sur-les-tableaux-numpy-1\">\n",
    "<span class=\"toc-item-num\" > 1 &nbsp;&nbsp; </span> Bases sur les tableaux <code> numpy </code > </a>\n",
    "</span> <ul class=\"toc-item\"> <li>\n",
    "<span> <a href=\"#Rappels-sur-les-collections-de-base-en-Python\" data-toc-modified-id=\"Rappels-sur-les-collections-de-base-en-Python-1.1\">\n",
    "<span class=\"toc-item-num\"> 1.1 &nbsp;&nbsp; </span> Rappels sur les collections de base en Python </a> </span> </li>\n",
    "<li> <span> <a href=\"#Bases-sur-les-tableaux-numpy\" data-toc-modified-id=\"Bases-sur-les-tableaux-numpy-1.2\" >\n",
    "<span class=\"toc-item-num\"> 1.2 &nbsp;&nbsp; </span> Bases sur les tableaux\n",
    "<code> numpy </code> </a> </span> </li> </ul> </li > <li>\n",
    "<span> <a href=\"#Créer-des-tableaux\" data-toc-modified-id=\"Créer-des-tableaux-2\">\n",
    "<span class =\"toc-item-num\" > 2 &nbsp;&nbsp; </span> Créer des tableaux </a> </span> </li> <li> \n",
    "<span> <a href=\"#Manipuler-des-tableaux\" data-toc-modified-id=\"Manipuler-des-tableaux-3\" > \n",
    "<span class=\"toc-item-num\" > 3 &nbsp;&nbsp; </span> Manipuler des tableaux </a> </span>\n",
    "<ul class=\"toc-item\"> <li> <span> <a href=\"#Dimensions-(shape)\" data-toc-modified-id=\"Dimensions-(shape)-3.1\"> \n",
    "<span class=\"toc-item-num\"> 3.1 &nbsp; &nbsp; </span> Dimensions ( <code> shape </code> ) </a> </span> </li>\n",
    "<li> <span> <a href=\"#Opérations-de-base\" data-toc-modified-id=\"Opérations-de-base-3.2\">\n",
    "<span class=\"toc-item-num\" > 3.2 &nbsp; &nbsp; </span > Opérations de base </a> </span> </li>\n",
    "<li> <span> <a href=\"#Fonctions-universelles-(ufunc)\" data-toc-modified-id=\"Fonctions-universelles-(ufunc)-3.3\"> \n",
    "<span class=\"toc-item-num\"> 3.3 &nbsp; &nbsp; </span> Fonctions universelles ( <em> ufunc </em> ) </a> </span> </li>\n",
    "<li> <span> <a href=\"#Indexation-de-base\" data-toc-modified-id=\"Indexation-de-base-3.4\"> \n",
    "<span class =\"toc-item-num\"> 3.4 &nbsp; &nbsp; </span > Indexation de base </a> </span> <ul class =\"toc-item\"> \n",
    "<li> <span> <a href=\"#Accès-aux-éléments\" data-toc-modified-id=\"Accès-aux-éléments-3.4.1\"> <span class=\"toc-item-num\"> 3.4.1 &nbsp; &nbsp; </span> Accès aux éléments </a> </span> </li> <li> <span> <a href=\"#Les-slices\" data-toc-modified-id=\"Les-slices-3.4.2\"> <span class=\"toc-item-num\"> 3.4.2 &nbsp; &nbsp; </span> Les slices </a> </span> </li> </ul> </li> <li> <span> <a href=\"#Entrées/sorties\" data-toc-modified-id=\"Entrées/sorties-3.5\"> <span class=\"toc-item-num\"> 3.5 &nbsp; &nbsp; </span> Entrées / sorties </a> </span> <ul class=\"toc-item\"> <li> <span> <a href=\"#Formats-spécifiques-à-numpy:-npy-et-npz\" data-toc-modified-id=\"Formats-spécifiques-à-numpy:-npy-et-npz-3.5.1\"> <span class=\"toc-item-num\"> 3.5.1 &nbsp; &nbsp; </span> Formats spécifiques à numpy: npy et npz </a> </span> </li> <li> <span> <a href=\"#Format-générique-csv\" data-toc-modified-id=\"Format-générique-csv-3.5.2\"> <span class=\"toc-item-num\"> 3.5.2 &nbsp; &nbsp; </span> Format générique csv </a> </span> </li> </ul> </li> <li> <span> <a href=\"#Autres-fonctions-de-base\" data-toc-modified-id=\"Autres-fonctions-de-base-3.6\"> <span class =\"toc-item-num\" > 3.6 &nbsp; &nbsp; </span> Autres fonctions de base </a> </span> </li> </ul> </li> \n",
    "<li> <span> <a href=\"#Manipulations-avancées\" data-toc-modified-id=\"Manipulations-avancées-4\"> \n",
    "<span class =\"toc-item-num\"> 4 &nbsp; &nbsp; </span> Manipulations avancées </a> </span>\n",
    "<ul class=\"toc-item\"> <li> <span> <a href=\"#Broadcasting\" data-toc-modified-id=\"Broadcasting-4.1\">\n",
    "<span class=\"toc-item-num\"> 4.1 &nbsp; &nbsp; </span> Broadcasting </a> </span> </li> <li> <span> <a href=\"#Indexation-avancée\" data-toc-modified-id=\"Indexation-avancée-4.2\"> <span class =\"toc-item-num\"> 4.2 &nbsp; &nbsp; </span> Indexation avancée </a> </span> \n",
    "<ul class=\"toc-item\"><li><span> <a href=\"#Indexation-avancée-avec-des-séquences-d'entiers\" data-toc-modified-id=\"Indexation-avancée-avec-des-séquences-d'entiers-4.2.1\">\n",
    "<span class=\"toc-item-num\"> 4.2.1 &nbsp;&nbsp; </span> Indexation avancée avec des séquences d' entiers</a></span></li>\n",
    "<li><span><a href=\"#Indexation-avancée-avec-des-booléens\" data-toc-modified-id=\"Indexation-avancée-avec-des-booléens-4.2.2\">\n",
    "<span class=\"toc-item-num\">4.2.2 &nbsp;&nbsp;</span>Indexation avancée avec des booléens</a></span></li></ul></li></ul</li>\n",
    "<li><span><a href=\"#Vues-et-copies\" data-toc-modified-id=\"Vues-et-copies-5\">\n",
    "<span class=\"toc-item-num\">5 &nbsp;&nbsp;</span>\n",
    "Vues et copies</a></span></li></ul>\n",
    "<li> <span> <a href=\"#Quelques-mots-sur-panda\" data-toc-modified-id=\"#Quelques-mots-sur-panda-6\"> \n",
    "<span class =\"toc-item-num\"> 6 &nbsp; &nbsp; </span> Quelques mots sur `panda`</a> </span></li></ul>\n",
    "</div>"
   ]
  },
  {
   "cell_type": "markdown",
   "id": "2733b29e-a142-414b-a8c6-7ba37d9b7cd5",
   "metadata": {
    "editable": true,
    "slideshow": {
     "slide_type": "slide"
    },
    "tags": []
   },
   "source": [
    "---\n",
    "## Bases sur les tableaux `numpy`\n",
    "\n",
    "### Rappels sur les collections de base en Python\n",
    "\n",
    "* Tuples: indexation avec des entiers, contenu figé\n",
    "* Listes: indexation avec des entiers, contenu modifiable\n",
    "* Dictionnaires: indexation avec des clés, contenu modifiable\n",
    "\n",
    "Remarques:\n",
    "* Les éléments peuvent être de types différents.\n",
    "* Accès aux éléments via les crochets `[]`."
   ]
  },
  {
   "cell_type": "code",
   "execution_count": 2,
   "id": "74028e4468b6804",
   "metadata": {
    "ExecuteTime": {
     "end_time": "2025-02-28T17:54:30.076464Z",
     "start_time": "2025-02-28T17:54:30.059903Z"
    },
    "editable": true,
    "slideshow": {
     "slide_type": "subslide"
    },
    "tags": []
   },
   "outputs": [
    {
     "name": "stdout",
     "output_type": "stream",
     "text": [
      "Un tuple: ('Bonjour', 2.1)\n",
      "Longueur: 2\n",
      "Premier élément: Bonjour\n",
      "Deuxième élément: 2.1\n",
      "Concaténation: ('Bonjour', 2.1, 'Hello', 'World')\n",
      "Une liste: ['Bonjour', 2.1]\n",
      "Élément 0: Bonjour\n",
      "Élément 1: 2.1\n",
      "Concaténation: ['Bonjour', 2.1, 'Hello', 'World']\n",
      "Après modification: ['Bonjour', 1, '**']\n",
      "Clé Valentin, valeur 25\n",
      "Clé Arthur, valeur 42\n",
      "Clé 123, valeur hello\n",
      "Clé (12, 'bonjour'), valeur v\n"
     ]
    }
   ],
   "source": [
    "un_tuple = ('Bonjour', 2.1)\n",
    "print('Un tuple:', un_tuple)\n",
    "## ***********        Remplissez les trous     *************\n",
    "print('Longueur:', len(un_tuple))\n",
    "print('Premier élément:', un_tuple[0])\n",
    "print('Deuxième élément:', un_tuple[1])\n",
    "print('Concaténation:', un_tuple + ('Hello', 'World'))\n",
    "## ~~~~~~~~~~     Déboguez     ~~~~~~~~~~\n",
    "une_liste = ['Bonjour', 2.1]\n",
    "print('Une liste:', une_liste)\n",
    "#print(f'Une liste: {une_liste}')\n",
    "#print('Une liste: {}'.format(une_liste))\n",
    "#print('Une liste: % s'% une_liste)\n",
    "## ~~~~~~~~~~     Déboguez     ~~~~~~~~~~\n",
    "for i in range(len(une_liste)):\n",
    "    print(f'Élément {i}: {une_liste[i]}')\n",
    "print('Concaténation:', une_liste + ['Hello', 'World'])\n",
    "une_liste[1] = 1\n",
    "une_liste.append('**')\n",
    "print('Après modification:', une_liste)\n",
    "un_dict = {'Valentin': 25, 'Arthur': 42, 123: 'hello'}\n",
    "un_dict[(12, 'bonjour')] = 'v'\n",
    "# print(un_dict)\n",
    "## ~~~~~~~~~~     Déboguez     ~~~~~~~~~~\n",
    "for k in un_dict.keys():\n",
    "    print(f'Clé {k}, valeur {un_dict[k]}')"
   ]
  },
  {
   "cell_type": "markdown",
   "id": "fd125ade-7fee-40bf-bb36-0f85d695ef2f",
   "metadata": {
    "editable": true,
    "slideshow": {
     "slide_type": "slide"
    },
    "tags": []
   },
   "source": [
    "### Bases sur les tableaux `numpy`\n",
    "\n",
    "#### Généralités\n",
    "##### Propriétés fondamentales\n",
    "- Taille des tableaux fixée à la création. Changer le nombre d’éléments\n",
    "d’un tableau = créer un nouveau tableau et supprimer l’ancien.\n",
    "- Tous les éléments d’un tableau sont de même type.\n",
    "- Les opérations ont des syntaxes invariables suivant les dimensions des\n",
    "tableaux.\n",
    "##### Les 2 concepts fondamentaux de Numpy :\n",
    "- La vectorisation : Numpy est optimisé pour ne jamais utiliser de boucles.\n",
    "- La diffusion (broadcasting) : Numpy gère les différences de tailles de tableaux\n",
    "durant les opérations arithmétiques de façon optimale. "
   ]
  },
  {
   "cell_type": "markdown",
   "id": "f1e5a976-e044-4684-874c-0bb1a706c65a",
   "metadata": {
    "editable": true,
    "slideshow": {
     "slide_type": "slide"
    },
    "tags": []
   },
   "source": [
    "#### La pratique\n",
    "\n",
    "Remarque de notation\n",
    "- Pour utiliser numpy, il est recommandé d’importer le module avec la syntaxe :\n",
    "``import numpy as np``\n",
    "- Ensuite tous les objets de numpy seront appelés avec\n",
    "``np.objet_numpy.``\n",
    "- Par commodité, nous n’avons pas recopié systématiquement l’instruction d’importation dans les exemples. Partout dans ce cours numpy est\n",
    "importé sous le diminutif ``np.``\n",
    "\n",
    "#### Objet ''ndarray''\n",
    "**Propriétés**\n",
    "- Collection N-dimensions d’éléments de même type continûment\n",
    "représentés en mémoire (un seul segment).\n",
    "- L’indexation d’un tableau numpy commence à **0**.\n",
    "- Les dimensions sont accessibles par l’attribut **shape**.\n",
    "- Le type des données est accessible par l’attribut **dtype**.\n",
    "\n",
    "```python\n",
    "  import numpy as np\n",
    "  a = np.array([[1,2,3],[4,5,6]])\n",
    "  a[0,0]\n",
    "  1\n",
    "  a.shape\n",
    "  (2, 3)\n",
    "  a.dtype\n",
    "  dtype('int64')\n",
    "```"
   ]
  },
  {
   "cell_type": "markdown",
   "id": "740c697c-1d3e-4357-8bb7-2ff09678b795",
   "metadata": {
    "editable": true,
    "slideshow": {
     "slide_type": "slide"
    },
    "tags": []
   },
   "source": [
    "* objets de la classe `numpy.ndarray`\n",
    "* indexation avec crochets `[]`\n",
    "* éléments d'un seul type : le data type `dtype`\n",
    "* multidimensionnel\n",
    "* nombre d'éléments fixé à la création\n",
    "\n",
    "Exemple: un tableau 1D"
   ]
  },
  {
   "cell_type": "code",
   "execution_count": 3,
   "id": "a7c1e45977d16952",
   "metadata": {
    "ExecuteTime": {
     "end_time": "2025-02-28T17:54:36.328225Z",
     "start_time": "2025-02-28T17:54:36.315746Z"
    },
    "editable": true,
    "slideshow": {
     "slide_type": "subslide"
    },
    "tags": []
   },
   "outputs": [
    {
     "name": "stdout",
     "output_type": "stream",
     "text": [
      "[1.  2.  3.4]\n",
      "<class 'numpy.ndarray'>\n",
      "float64\n",
      "1\n",
      "3\n",
      "(3,)\n"
     ]
    }
   ],
   "source": [
    "a = np.array([1, 2, 3.4])\n",
    "print(a)\n",
    "print(type(a))\n",
    "print(a.dtype)\n",
    "print(a.ndim)  # Nombre de dimensions\n",
    "print(a.size)  # Nombre d'éléments\n",
    "print(a.shape)  # Dimensions"
   ]
  },
  {
   "cell_type": "markdown",
   "id": "4f219066b0c25b16",
   "metadata": {
    "editable": true,
    "slideshow": {
     "slide_type": "subslide"
    },
    "tags": []
   },
   "source": [
    "Exemple: un tableau 2D"
   ]
  },
  {
   "cell_type": "code",
   "execution_count": 4,
   "id": "a90aee66b141f0f3",
   "metadata": {
    "ExecuteTime": {
     "end_time": "2025-02-28T17:54:52.278274Z",
     "start_time": "2025-02-28T17:54:52.267840Z"
    },
    "editable": true,
    "slideshow": {
     "slide_type": "subslide"
    },
    "tags": []
   },
   "outputs": [
    {
     "name": "stdout",
     "output_type": "stream",
     "text": [
      "[[1 2 3]\n",
      " [4 5 6]]\n",
      "<class 'numpy.ndarray'>\n",
      "int64\n",
      "2\n",
      "6\n",
      "(2, 3)\n"
     ]
    }
   ],
   "source": [
    "a = np.array([[1, 2, 3], [4, 5, 6]])\n",
    "print(a)\n",
    "print(type(a))\n",
    "print(a.dtype)\n",
    "print(a.ndim)  # Nombre de dimensions\n",
    "print(a.size)  # Nombre d'éléments\n",
    "print(a.shape)  # Dimensions"
   ]
  },
  {
   "cell_type": "markdown",
   "id": "1bb447da-22c4-468e-bcdf-6e7cd55de581",
   "metadata": {
    "editable": true,
    "slideshow": {
     "slide_type": "slide"
    },
    "tags": []
   },
   "source": [
    "## Créer des tableaux\n",
    "Nombreuses fonctions!\n",
    "Quelques exemples utiles."
   ]
  },
  {
   "cell_type": "code",
   "execution_count": 5,
   "id": "3633d45d777e2b9d",
   "metadata": {
    "editable": true,
    "slideshow": {
     "slide_type": "subslide"
    },
    "tags": []
   },
   "outputs": [
    {
     "name": "stdout",
     "output_type": "stream",
     "text": [
      "******************************\n",
      "float64\n"
     ]
    }
   ],
   "source": [
    "## ***********        Remplissez les trous     *************\n",
    "print('*' * 30)\n",
    "a = np.array([1, 2, 3.4])\n",
    "print(a.dtype)"
   ]
  },
  {
   "cell_type": "code",
   "execution_count": 6,
   "id": "d2afa38624f42799",
   "metadata": {
    "editable": true,
    "slideshow": {
     "slide_type": "subslide"
    },
    "tags": []
   },
   "outputs": [
    {
     "name": "stdout",
     "output_type": "stream",
     "text": [
      "******************************\n"
     ]
    }
   ],
   "source": [
    "print('*' * 30)"
   ]
  },
  {
   "cell_type": "code",
   "execution_count": 7,
   "id": "5a40b149cf545b42",
   "metadata": {
    "editable": true,
    "slideshow": {
     "slide_type": "subslide"
    },
    "tags": []
   },
   "outputs": [
    {
     "name": "stdout",
     "output_type": "stream",
     "text": [
      "[[0. 0. 0. 0.]\n",
      " [0. 0. 0. 0.]\n",
      " [0. 0. 0. 0.]]\n",
      "******************************\n"
     ]
    }
   ],
   "source": [
    "print(np.zeros((3, 4)))\n",
    "print('*' * 30)"
   ]
  },
  {
   "cell_type": "code",
   "execution_count": 8,
   "id": "682147d82356ec33",
   "metadata": {
    "editable": true,
    "slideshow": {
     "slide_type": "subslide"
    },
    "tags": []
   },
   "outputs": [
    {
     "name": "stdout",
     "output_type": "stream",
     "text": [
      "[[1 1 1 1 1]\n",
      " [1 1 1 1 1]] int64\n",
      "******************************\n"
     ]
    }
   ],
   "source": [
    "uns = np.ones((2, 5), dtype=int)\n",
    "print(uns, uns.dtype)\n",
    "print('*' * 30)"
   ]
  },
  {
   "cell_type": "code",
   "execution_count": 9,
   "id": "17fd048911fae97d",
   "metadata": {
    "editable": true,
    "slideshow": {
     "slide_type": "subslide"
    },
    "tags": []
   },
   "outputs": [
    {
     "name": "stdout",
     "output_type": "stream",
     "text": [
      "[[1 1 1 1 1]\n",
      " [1 1 1 1 1]] int32\n",
      "******************************\n"
     ]
    }
   ],
   "source": [
    "uns = np.ones((2, 5), dtype=np.int32)\n",
    "print(uns, uns.dtype)\n",
    "print('*' * 30)"
   ]
  },
  {
   "cell_type": "code",
   "execution_count": 10,
   "id": "c57f6a9e7a0103dd",
   "metadata": {
    "ExecuteTime": {
     "end_time": "2025-02-28T17:58:58.290798Z",
     "start_time": "2025-02-28T17:58:58.273553Z"
    },
    "editable": true,
    "slideshow": {
     "slide_type": "subslide"
    },
    "tags": []
   },
   "outputs": [
    {
     "name": "stdout",
     "output_type": "stream",
     "text": [
      "[[False False False False]\n",
      " [False False False False]\n",
      " [False False False False]]\n",
      "[[2 0 0]\n",
      " [0 5 0]\n",
      " [0 0 6]]\n",
      "[[1. 0. 0.]\n",
      " [0. 1. 0.]\n",
      " [0. 0. 1.]]\n",
      "[[1. 0. 0. 0. 0.]\n",
      " [0. 1. 0. 0. 0.]\n",
      " [0. 0. 1. 0. 0.]]\n",
      "[[6 6 6 6 5 4 6 4 4 5]\n",
      " [4 3 3 6 4 4 6 3 3 3]]\n",
      "[0 1 2 3 4 5 6 7 8 9]\n",
      "[ 3  5  7  9 11 13 15 17]\n",
      "[0.    0.125 0.25  0.375 0.5   0.625 0.75  0.875 1.   ]\n"
     ]
    }
   ],
   "source": [
    "print(np.empty([3, 4], dtype=bool))\n",
    "print(np.diag([2, 5, 6]))\n",
    "print(np.identity(3))\n",
    "print(np.eye(3, 5))\n",
    "print(np.random.randint(low=3, high=7, size=(2, 10)))\n",
    "#print(np.random.randint(3, 7, (2,10)))\n",
    "print(np.arange(10))  # array + range =arange\n",
    "print(np.arange(start=3, stop=19, step=2))  # array + range =arange\n",
    "print(np.linspace(start=0, stop=1, num=9))"
   ]
  },
  {
   "cell_type": "markdown",
   "id": "22179e4f-72e0-400c-80d3-5ca6f21bf04f",
   "metadata": {
    "ExecuteTime": {
     "end_time": "2025-02-28T17:59:02.183464Z",
     "start_time": "2025-02-28T17:59:02.175515Z"
    },
    "editable": true,
    "slideshow": {
     "slide_type": "slide"
    },
    "tags": []
   },
   "source": [
    "## Manipuler des tableaux\n",
    "### Dimensions (`shape`)"
   ]
  },
  {
   "cell_type": "code",
   "execution_count": 11,
   "id": "bcd597b6-a2e3-4c09-b48c-220b211b9b9e",
   "metadata": {
    "editable": true,
    "slideshow": {
     "slide_type": "subslide"
    },
    "tags": []
   },
   "outputs": [
    {
     "name": "stdout",
     "output_type": "stream",
     "text": [
      "[[-2.2385403  -1.69208651 -0.07002794  1.211029   -0.71361621]\n",
      " [ 0.94162514  1.42461397  0.92307966 -0.49293688  0.0620376 ]\n",
      " [-0.52577465 -0.3697924  -2.46580989 -0.38438146  0.4990371 ]\n",
      " [-0.0302144  -0.75013312 -1.10914985 -1.92327823  0.39780296]]\n",
      "Dimensions: (4, 5)\n",
      "Nombre de lignes 4\n",
      "Nombre de colonnes 5\n"
     ]
    }
   ],
   "source": [
    "a = np.random.randn(4, 5)\n",
    "print(a)\n",
    "print(\"Dimensions:\", a.shape)\n",
    "print(\"Nombre de lignes\", a.shape[0])\n",
    "print(\"Nombre de colonnes\", a.shape[1])"
   ]
  },
  {
   "cell_type": "markdown",
   "id": "da772af54072a8ed",
   "metadata": {
    "editable": true,
    "slideshow": {
     "slide_type": "subslide"
    },
    "tags": []
   },
   "source": [
    "Le nombre d 'éléments étant fixés, on peut facilement redimensionner un tableau (*reshape*)."
   ]
  },
  {
   "cell_type": "code",
   "execution_count": 12,
   "id": "41aa0acb-2c49-4934-a54a-141e366253ae",
   "metadata": {
    "editable": true,
    "slideshow": {
     "slide_type": ""
    },
    "tags": []
   },
   "outputs": [
    {
     "name": "stdout",
     "output_type": "stream",
     "text": [
      "[ 0  1  2  3  4  5  6  7  8  9 10 11 12 13 14 15 16 17 18 19 20 21 22 23]\n",
      "(24,)\n"
     ]
    }
   ],
   "source": [
    "# Un tableau 1D\n",
    "a = np.arange(24)\n",
    "print(a)\n",
    "print(a.shape)"
   ]
  },
  {
   "cell_type": "code",
   "execution_count": 13,
   "id": "0dc29071-8ce0-4ec5-8f09-a63307455f21",
   "metadata": {
    "editable": true,
    "slideshow": {
     "slide_type": "subslide"
    },
    "tags": []
   },
   "outputs": [
    {
     "name": "stdout",
     "output_type": "stream",
     "text": [
      "(24,)\n",
      "(2, 3, 4)\n",
      "[[[ 0  1  2  3]\n",
      "  [ 4  5  6  7]\n",
      "  [ 8  9 10 11]]\n",
      "\n",
      " [[12 13 14 15]\n",
      "  [16 17 18 19]\n",
      "  [20 21 22 23]]]\n",
      "[[ 0  1  2  3  4  5]\n",
      " [ 6  7  8  9 10 11]\n",
      " [12 13 14 15 16 17]\n",
      " [18 19 20 21 22 23]]\n"
     ]
    }
   ],
   "source": [
    "# Redimensionnement en tableau 3D\n",
    "b = a.reshape(2, 3, 4)\n",
    "print(a.shape)\n",
    "print(b.shape)\n",
    "##%%\n",
    "print(b)\n",
    "c = b.reshape(4, 6)\n",
    "print(c)"
   ]
  },
  {
   "cell_type": "code",
   "execution_count": 14,
   "id": "207985dc-f53c-4d4c-8f3e-cd289af4f50f",
   "metadata": {
    "editable": true,
    "slideshow": {
     "slide_type": "subslide"
    },
    "tags": []
   },
   "outputs": [
    {
     "name": "stdout",
     "output_type": "stream",
     "text": [
      "(24,)\n",
      "(2, 12)\n",
      "[[ 0  1  2  3  4  5  6  7  8  9 10 11]\n",
      " [12 13 14 15 16 17 18 19 20 21 22 23]]\n",
      "(2, 4, 3)\n",
      "[[[ 0  1  2]\n",
      "  [ 3  4  5]\n",
      "  [ 6  7  8]\n",
      "  [ 9 10 11]]\n",
      "\n",
      " [[12 13 14]\n",
      "  [15 16 17]\n",
      "  [18 19 20]\n",
      "  [21 22 23]]]\n"
     ]
    }
   ],
   "source": [
    "# Redimensionnement en tableau 2D\n",
    "b = a.reshape(-1, 12)  # -1 pour laisser le calcul se faire selon une des dimensions\n",
    "print(a.shape)\n",
    "print(b.shape)\n",
    "##%%\n",
    "print(b)\n",
    "##%%\n",
    "b = a.reshape(2, 4, -1)\n",
    "print(b.shape)\n",
    "##%%\n",
    "print(b)"
   ]
  },
  {
   "cell_type": "markdown",
   "id": "a5219e976f34534c",
   "metadata": {
    "editable": true,
    "slideshow": {
     "slide_type": "slide"
    },
    "tags": []
   },
   "source": [
    "### Opérations de base\n",
    "Addition, soustraction, multiplication, division, puissance, etc.:\n",
    "\n",
    "* entre tableaux de mêmes dimensions\n",
    "* coefficient par coefficient"
   ]
  },
  {
   "cell_type": "code",
   "execution_count": 15,
   "id": "a52dc1c01771d3aa",
   "metadata": {
    "editable": true,
    "slideshow": {
     "slide_type": "subslide"
    },
    "tags": []
   },
   "outputs": [
    {
     "name": "stdout",
     "output_type": "stream",
     "text": [
      "[[0 1 2]\n",
      " [3 4 5]]\n",
      "[[ 6  7  8]\n",
      " [ 9 10 11]]\n",
      "[[ 6  8 10]\n",
      " [12 14 16]]\n",
      "[[0 1 2]\n",
      " [3 4 5]]\n",
      "[[ 6  7  8]\n",
      " [ 9 10 11]]\n"
     ]
    }
   ],
   "source": [
    "a = np.arange(6).reshape(2, 3)\n",
    "b = np.arange(6, 12).reshape(2, 3)\n",
    "print(a)\n",
    "print(b)\n",
    "# addition\n",
    "print(a + b)\n",
    "print(a)\n",
    "print(b)"
   ]
  },
  {
   "cell_type": "code",
   "execution_count": 16,
   "id": "a320393b-c937-4fa1-ad7b-f167858ae9e1",
   "metadata": {
    "editable": true,
    "slideshow": {
     "slide_type": "subslide"
    },
    "tags": []
   },
   "outputs": [
    {
     "name": "stdout",
     "output_type": "stream",
     "text": [
      "[[-6 -6 -6]\n",
      " [-6 -6 -6]]\n",
      "[[0 1 2]\n",
      " [3 4 5]]\n",
      "[[ 6  7  8]\n",
      " [ 9 10 11]]\n"
     ]
    }
   ],
   "source": [
    "# Soustraction\n",
    "print(a - b)\n",
    "print(a)\n",
    "print(b)"
   ]
  },
  {
   "cell_type": "code",
   "execution_count": 17,
   "id": "0922869e-3d36-4a33-a5c8-bacb85d9fa17",
   "metadata": {
    "editable": true,
    "slideshow": {
     "slide_type": "subslide"
    },
    "tags": []
   },
   "outputs": [
    {
     "name": "stdout",
     "output_type": "stream",
     "text": [
      "[[ 0  7 16]\n",
      " [27 40 55]]\n",
      "[[0 1 2]\n",
      " [3 4 5]]\n",
      "[[ 6  7  8]\n",
      " [ 9 10 11]]\n",
      "[[0.         0.14285714 0.25      ]\n",
      " [0.33333333 0.4        0.45454545]]\n",
      "[[       0        1      256]\n",
      " [   19683  1048576 48828125]]\n"
     ]
    }
   ],
   "source": [
    "# Multiplication\n",
    "print(a * b)\n",
    "print(a)\n",
    "print(b)\n",
    "# Division\n",
    "print(a / b)\n",
    "# Puissance\n",
    "print(a ** b)"
   ]
  },
  {
   "cell_type": "markdown",
   "id": "0bf186a7-659e-4bce-9247-f92a947c75cd",
   "metadata": {},
   "source": [
    "Produit matriciel avec ` @ ` ou ` dot() `"
   ]
  },
  {
   "cell_type": "code",
   "execution_count": 18,
   "id": "1a7bd77fa5df37a7",
   "metadata": {
    "ExecuteTime": {
     "end_time": "2025-02-28T18:09:45.561870Z",
     "start_time": "2025-02-28T18:09:45.549360Z"
    },
    "editable": true,
    "slideshow": {
     "slide_type": "subslide"
    },
    "tags": []
   },
   "outputs": [
    {
     "name": "stdout",
     "output_type": "stream",
     "text": [
      "[[0 1 2]\n",
      " [3 4 5]]\n",
      "[[ 0  1  2  3]\n",
      " [ 4  5  6  7]\n",
      " [ 8  9 10 11]]\n",
      "[[20 23 26 29]\n",
      " [56 68 80 92]]\n",
      "[[20 23 26 29]\n",
      " [56 68 80 92]]\n",
      "[[20 23 26 29]\n",
      " [56 68 80 92]]\n",
      "[[20 23 26 29]\n",
      " [56 68 80 92]]\n"
     ]
    }
   ],
   "source": [
    "a = np.arange(6).reshape(2, 3)\n",
    "b = np.arange(12).reshape(3, 4)\n",
    "print(a)\n",
    "print(b)\n",
    "print(a @ b)  # Opérateur\n",
    "print(np.matmul(a, b))  # fonction de numpy\n",
    "print(np.dot(a, b))  # fonction de numpy\n",
    "print(a.dot(b))  # méthode de np.ndarray\n",
    "# équivalent pour les matrices, pas pour les tenseurs"
   ]
  },
  {
   "cell_type": "markdown",
   "id": "0a0bc9af-2c48-4475-89ed-5b0032031a13",
   "metadata": {
    "editable": true,
    "slideshow": {
     "slide_type": "slide"
    },
    "tags": []
   },
   "source": [
    "### Fonctions universelles (*ufunc*)\n",
    "\n",
    "$\\equiv$ fonctions qui s'appliquent à des tableaux numpy élément par élément.\n",
    "\n",
    "Voir [documentation complète](https://numpy.org/doc/stable/reference/ufuncs.html)."
   ]
  },
  {
   "cell_type": "code",
   "execution_count": 19,
   "id": "eadebb475b94f948",
   "metadata": {
    "editable": true,
    "slideshow": {
     "slide_type": "subslide"
    },
    "tags": []
   },
   "outputs": [
    {
     "name": "stdout",
     "output_type": "stream",
     "text": [
      "a = [ 0  1  4  9 16 25 36 49 64 81]\n",
      "b = [0. 1. 2. 3. 4. 5. 6. 7. 8. 9.]\n"
     ]
    }
   ],
   "source": [
    "a = np.arange(10) ** 2\n",
    "b = np.sqrt(a)\n",
    "print('a =', a)\n",
    "print('b =', b)"
   ]
  },
  {
   "cell_type": "markdown",
   "id": "32bcd9e1e3e44ebe",
   "metadata": {
    "editable": true,
    "slideshow": {
     "slide_type": "slide"
    },
    "tags": []
   },
   "source": [
    "Il existe de nombreuses fonctions universelles:\n",
    "* opérateurs précédents (*, +, /, **, etc.)\n",
    "* fonctions mathématiques (add, abs, log, sign, etc.)\n",
    "* fonctions trigonométriques (cos, sin, etc.)\n",
    "* fonctions de manipulation de bits (bitwise_and, etc.)\n",
    "* fonctions de comparaisons de deux tableaux (greater, logical_and, maximum, etc.)\n",
    "* fonctions pour les flottants (isinf, isnan, floor, ceil, etc.)\n",
    "\n",
    "[Liste des fonctions universelles disponibles dans numpy](https://numpy.org/doc/stable/reference/ufuncs.html#available-ufuncs)\n",
    "### Indexation de base\n",
    "Idées principales:\n",
    "* utiliser les crochets `a[..., ..., ...]`\n",
    "* utiliser les *slices* de la forme `start:stop:step`\n",
    "#### Accès aux éléments\n",
    "Dans un tableau à $n$ dimensions, on accède à l'élément d'indices $(i_1, i_2, \\ldots, i_n)$ via la notation $[i_1, i_2, \\ldots, i_n]$.\n"
   ]
  },
  {
   "cell_type": "code",
   "execution_count": 20,
   "id": "a772943bd690e52c",
   "metadata": {
    "editable": true,
    "slideshow": {
     "slide_type": "subslide"
    },
    "tags": []
   },
   "outputs": [
    {
     "name": "stdout",
     "output_type": "stream",
     "text": [
      "[[0 1 2]\n",
      " [3 4 5]]\n",
      "5\n",
      "a[0, 0] = 0\n",
      "a[0, 1] = 1\n",
      "a[0, 2] = 2\n",
      "a[1, 0] = 3\n",
      "a[1, 1] = 4\n",
      "a[1, 2] = 5\n"
     ]
    }
   ],
   "source": [
    "a = np.arange(6).reshape(2, -1)\n",
    "print(a)\n",
    "print(a[1, 2])\n",
    "## ~~~~~~~~~~     Déboguez     ~~~~~~~~~~\n",
    "for i in range(a.shape[0]):\n",
    "    for j in range(a.shape[1]):\n",
    "        print(f'a[{i}, {j}] = {a[i, j]}')"
   ]
  },
  {
   "cell_type": "code",
   "execution_count": 21,
   "id": "4a436663-0501-4289-bf69-a6a2dde05f22",
   "metadata": {
    "editable": true,
    "slideshow": {
     "slide_type": "subslide"
    },
    "tags": []
   },
   "outputs": [
    {
     "name": "stdout",
     "output_type": "stream",
     "text": [
      "[[-1  1 -1]\n",
      " [ 3 -1  5]]\n"
     ]
    }
   ],
   "source": [
    "for i in range(a.shape[0]):\n",
    "    for j in range(a.shape[1]):\n",
    "        if a[i, j] % 2 == 0:\n",
    "            a[i, j] = -1\n",
    "print(a)"
   ]
  },
  {
   "cell_type": "markdown",
   "id": "c49a02e3-bce8-4cad-a15d-88fa9ef14ec9",
   "metadata": {
    "editable": true,
    "slideshow": {
     "slide_type": "subslide"
    },
    "tags": []
   },
   "source": [
    "Les indices négatifs désignent les éléments à partir de la fin (`-1` pour le dernier, `-2` pour l'avant dernier, etc.)"
   ]
  },
  {
   "cell_type": "code",
   "execution_count": 22,
   "id": "20c249db-d1b3-4c8f-ba33-959b9094765e",
   "metadata": {
    "editable": true,
    "slideshow": {
     "slide_type": "subslide"
    },
    "tags": []
   },
   "outputs": [
    {
     "name": "stdout",
     "output_type": "stream",
     "text": [
      "[[-1  1 -1]\n",
      " [ 3 -1  5]]\n",
      "-1\n",
      "3\n"
     ]
    }
   ],
   "source": [
    "print(a)\n",
    "print(a[0, -1])\n",
    "print(a[-1, -3])"
   ]
  },
  {
   "cell_type": "markdown",
   "id": "18e8e263-d6e4-46aa-a288-14a92c3dd639",
   "metadata": {
    "editable": true,
    "slideshow": {
     "slide_type": "subslide"
    },
    "tags": []
   },
   "source": [
    "Remarque: utiliser une seule paire de crochet avec $n$ indices ou $n$ paires de crochets avec un seul indice donne le même résultat mais la première méthode est plus efficace."
   ]
  },
  {
   "cell_type": "code",
   "execution_count": 23,
   "id": "f2e81bec-3f64-449b-b966-6041089241ed",
   "metadata": {},
   "outputs": [
    {
     "name": "stdout",
     "output_type": "stream",
     "text": [
      "-0.01738654258700574 -0.01738654258700574\n",
      "142 ns ± 34 ns per loop (mean ± std. dev. of 7 runs, 10,000,000 loops each)\n",
      "282 ns ± 35.2 ns per loop (mean ± std. dev. of 7 runs, 1,000,000 loops each)\n"
     ]
    }
   ],
   "source": [
    "a = np.random.randn(200, 100)\n",
    "print(a[123, -45], a[123][-45])\n",
    "%timeit a[123, -45]\n",
    "%timeit a[123][-45]"
   ]
  },
  {
   "cell_type": "markdown",
   "id": "98c356f4-48e2-4815-810c-fb70938fcf82",
   "metadata": {
    "editable": true,
    "slideshow": {
     "slide_type": "slide"
    },
    "tags": []
   },
   "source": [
    "#### Les slices\n",
    "Sélection d'un ensemble d'indices via `start:stop:step` ou `start:stop`:\n",
    "\n",
    "* indice de début (inclus) `start`\n",
    "* indice de fin (exclus): `stop`\n",
    "* pas `step`\n",
    "\n",
    "`start` et `stop` peuvent être omis."
   ]
  },
  {
   "cell_type": "code",
   "execution_count": 24,
   "id": "70391f8d-d23d-46e6-a712-c3e3cb616f82",
   "metadata": {
    "editable": true,
    "slideshow": {
     "slide_type": "subslide"
    },
    "tags": []
   },
   "outputs": [
    {
     "name": "stdout",
     "output_type": "stream",
     "text": [
      "[[ 0  1  2  3  4  5  6]\n",
      " [ 7  8  9 10 11 12 13]\n",
      " [14 15 16 17 18 19 20]\n",
      " [21 22 23 24 25 26 27]\n",
      " [28 29 30 31 32 33 34]\n",
      " [35 36 37 38 39 40 41]]\n"
     ]
    }
   ],
   "source": [
    "a = np.arange(42).reshape(6, 7)\n",
    "print(a)"
   ]
  },
  {
   "cell_type": "code",
   "execution_count": 25,
   "id": "4dc87cfc-4e74-45f6-936c-617a82fd9f27",
   "metadata": {
    "editable": true,
    "slideshow": {
     "slide_type": "subslide"
    },
    "tags": []
   },
   "outputs": [
    {
     "name": "stdout",
     "output_type": "stream",
     "text": [
      "ligne 3: [21 22 23 24 25 26 27]\n",
      "colonne 5: [ 5 12 19 26 33 40]\n"
     ]
    }
   ],
   "source": [
    "print(\"ligne 3:\", a[3, :])\n",
    "print(\"colonne 5:\", a[:, 5])"
   ]
  },
  {
   "cell_type": "code",
   "execution_count": 26,
   "id": "76bec8e3-e6e5-4dcf-8daf-372bd0b3f276",
   "metadata": {
    "editable": true,
    "slideshow": {
     "slide_type": "subslide"
    },
    "tags": []
   },
   "outputs": [
    {
     "name": "stdout",
     "output_type": "stream",
     "text": [
      "[[ 0  1  2  3  4  5  6]\n",
      " [ 7  8  9 10 11 12 13]\n",
      " [14 15 16 17 18 19 20]\n",
      " [21 22 23 24 25 26 27]\n",
      " [28 29 30 31 32 33 34]\n",
      " [35 36 37 38 39 40 41]]\n",
      "dernière ligne: [35 36 37 38 39 40 41]\n",
      "avant dernière colonne: [ 5 12 19 26 33 40]\n"
     ]
    }
   ],
   "source": [
    "print(a)\n",
    "print(\"dernière ligne:\", a[-1, :])\n",
    "print(\"avant dernière colonne:\", a[:, -2])"
   ]
  },
  {
   "cell_type": "code",
   "execution_count": 27,
   "id": "76473b63-b4cd-4f1e-ac67-5630633ff2cc",
   "metadata": {
    "editable": true,
    "slideshow": {
     "slide_type": "subslide"
    },
    "tags": []
   },
   "outputs": [
    {
     "name": "stdout",
     "output_type": "stream",
     "text": [
      "[[ 0  1  2  3  4  5  6]\n",
      " [ 7  8  9 10 11 12 13]\n",
      " [14 15 16 17 18 19 20]\n",
      " [21 22 23 24 25 26 27]\n",
      " [28 29 30 31 32 33 34]\n",
      " [35 36 37 38 39 40 41]]\n",
      "Sous-matrice des lignes 2 à 4 et colonnes 1 à 5:\n",
      "[[15 16 17 18 19]\n",
      " [22 23 24 25 26]\n",
      " [29 30 31 32 33]]\n"
     ]
    }
   ],
   "source": [
    "print(a)\n",
    "print(\"Sous-matrice des lignes 2 à 4 et colonnes 1 à 5:\")\n",
    "print(a[2:5, 1:6])"
   ]
  },
  {
   "cell_type": "code",
   "execution_count": 28,
   "id": "5ec2ba80-b974-45c0-8678-5271d0844b8e",
   "metadata": {
    "editable": true,
    "slideshow": {
     "slide_type": "subslide"
    },
    "tags": []
   },
   "outputs": [
    {
     "name": "stdout",
     "output_type": "stream",
     "text": [
      "[[ 0  1  2  3  4  5  6]\n",
      " [ 7  8  9 10 11 12 13]\n",
      " [14 15 16 17 18 19 20]\n",
      " [21 22 23 24 25 26 27]\n",
      " [28 29 30 31 32 33 34]\n",
      " [35 36 37 38 39 40 41]]\n",
      "Sous-matrice des 5 premières lignes et colonnes 2 à fin:\n",
      "[[ 2  3  4  5  6]\n",
      " [ 9 10 11 12 13]\n",
      " [16 17 18 19 20]\n",
      " [23 24 25 26 27]\n",
      " [30 31 32 33 34]]\n"
     ]
    }
   ],
   "source": [
    "print(a)\n",
    "print(\"Sous-matrice des 5 premières lignes et colonnes 2 à fin:\")\n",
    "print(a[:5, 2:])"
   ]
  },
  {
   "cell_type": "code",
   "execution_count": 29,
   "id": "d6718f73-7b77-4eba-be95-1c561ccfbdad",
   "metadata": {
    "editable": true,
    "slideshow": {
     "slide_type": "subslide"
    },
    "tags": []
   },
   "outputs": [
    {
     "name": "stdout",
     "output_type": "stream",
     "text": [
      "[[ 0  1  2  3  4  5  6]\n",
      " [ 7  8  9 10 11 12 13]\n",
      " [14 15 16 17 18 19 20]\n",
      " [21 22 23 24 25 26 27]\n",
      " [28 29 30 31 32 33 34]\n",
      " [35 36 37 38 39 40 41]]\n",
      "une colonne sur 2 des colonnes 1 à 5:\n",
      "[[ 1  3  5]\n",
      " [ 8 10 12]\n",
      " [15 17 19]\n",
      " [22 24 26]\n",
      " [29 31 33]\n",
      " [36 38 40]]\n",
      "les colonnes 5, 4, 3:\n",
      "[[ 5  4  3]\n",
      " [12 11 10]\n",
      " [19 18 17]\n",
      " [26 25 24]\n",
      " [33 32 31]\n",
      " [40 39 38]]\n"
     ]
    }
   ],
   "source": [
    "print(a)\n",
    "print(\"une colonne sur 2 des colonnes 1 à 5:\")\n",
    "print(a[:, 1:6:2])\n",
    "print(\"les colonnes 5, 4, 3:\")\n",
    "print(a[:, 5:2:-1])"
   ]
  },
  {
   "cell_type": "markdown",
   "id": "f0d9a04f-05e4-40fa-b684-d5bab6a23db4",
   "metadata": {
    "editable": true,
    "raw_mimetype": "",
    "slideshow": {
     "slide_type": "slide"
    },
    "tags": []
   },
   "source": [
    "### Entrées/sorties\n",
    "* Format spécifique: npy/npz\n",
    "* Formats génériques: txt, csv, json, etc.\n",
    "\n",
    "#### Formats spécifiques à numpy: npy et npz\n",
    "\n",
    "Permettent de sauvegarder un ou plusieurs ndarray(s).\n",
    "\n",
    "* npy: un seul tableau\n",
    "* npz: plusieurs tableaux avec leurs noms\n",
    "\n",
    "Les données sont compressées.\n",
    "\n",
    "Lire et écrire un tableau dans un fichier `npy` avec `np.load` et `np.save`."
   ]
  },
  {
   "cell_type": "markdown",
   "id": "79a5e902-5b05-4743-8d7c-b0aa6b80e590",
   "metadata": {
    "editable": true,
    "slideshow": {
     "slide_type": "subslide"
    },
    "tags": []
   },
   "source": [
    "a = np.random.randn(4,5)\n",
    "print(a)"
   ]
  },
  {
   "cell_type": "code",
   "execution_count": 30,
   "id": "7a07c3da-ab45-4384-a2d6-4f7e1db5e8a4",
   "metadata": {
    "editable": true,
    "slideshow": {
     "slide_type": "subslide"
    },
    "tags": []
   },
   "outputs": [],
   "source": [
    "np.save(\"mon_tableau.npy\", arr=a)"
   ]
  },
  {
   "cell_type": "code",
   "execution_count": 31,
   "id": "e18b00f8-80bd-4a50-b6ab-f8aa38b8cb8c",
   "metadata": {
    "editable": true,
    "slideshow": {
     "slide_type": "subslide"
    },
    "tags": []
   },
   "outputs": [
    {
     "name": "stdout",
     "output_type": "stream",
     "text": [
      "[[ 0  1  2  3  4  5  6]\n",
      " [ 7  8  9 10 11 12 13]\n",
      " [14 15 16 17 18 19 20]\n",
      " [21 22 23 24 25 26 27]\n",
      " [28 29 30 31 32 33 34]\n",
      " [35 36 37 38 39 40 41]]\n",
      "[[0 0 0 0 0 0 0]\n",
      " [0 0 0 0 0 0 0]\n",
      " [0 0 0 0 0 0 0]\n",
      " [0 0 0 0 0 0 0]\n",
      " [0 0 0 0 0 0 0]\n",
      " [0 0 0 0 0 0 0]]\n"
     ]
    }
   ],
   "source": [
    "b = np.load(\"mon_tableau.npy\")\n",
    "print(b)\n",
    "print(a-b)"
   ]
  },
  {
   "cell_type": "markdown",
   "id": "d25f97f6-b6c9-4fa0-9699-ae87435c3eca",
   "metadata": {
    "editable": true,
    "slideshow": {
     "slide_type": "subslide"
    },
    "tags": []
   },
   "source": [
    "Lire et écrire plusieurs tableaux dans un fichier `npz` avec `np.load` et `np.savez`."
   ]
  },
  {
   "cell_type": "code",
   "execution_count": 32,
   "id": "d9c856c6-38e1-49cc-82fd-2b28ee0e29c8",
   "metadata": {
    "editable": true,
    "slideshow": {
     "slide_type": "subslide"
    },
    "tags": []
   },
   "outputs": [
    {
     "name": "stdout",
     "output_type": "stream",
     "text": [
      "{'a': array([[ 0,  1,  2,  3,  4,  5,  6],\n",
      "       [ 7,  8,  9, 10, 11, 12, 13],\n",
      "       [14, 15, 16, 17, 18, 19, 20],\n",
      "       [21, 22, 23, 24, 25, 26, 27],\n",
      "       [28, 29, 30, 31, 32, 33, 34],\n",
      "       [35, 36, 37, 38, 39, 40, 41]]), 'sonde48': array([[ 0,  1,  2,  3,  4,  5,  6],\n",
      "       [ 7,  8,  9, 10, 11, 12, 13],\n",
      "       [14, 15, 16, 17, 18, 19, 20],\n",
      "       [21, 22, 23, 24, 25, 26, 27],\n",
      "       [28, 29, 30, 31, 32, 33, 34],\n",
      "       [35, 36, 37, 38, 39, 40, 41]])}\n",
      "[[ 0  1  2  3  4  5  6]\n",
      " [ 7  8  9 10 11 12 13]\n",
      " [14 15 16 17 18 19 20]\n",
      " [21 22 23 24 25 26 27]\n",
      " [28 29 30 31 32 33 34]\n",
      " [35 36 37 38 39 40 41]]\n",
      "[[0 0 0 0 0 0 0]\n",
      " [0 0 0 0 0 0 0]\n",
      " [0 0 0 0 0 0 0]\n",
      " [0 0 0 0 0 0 0]\n",
      " [0 0 0 0 0 0 0]\n",
      " [0 0 0 0 0 0 0]]\n"
     ]
    }
   ],
   "source": [
    "np.savez(\"mes_tableaux.npz\", a=a, sonde48=b)\n",
    "##%%\n",
    "data = np.load(\"mes_tableaux.npz\")\n",
    "print(dict(data))\n",
    "z = data['sonde48']\n",
    "print(z)\n",
    "print(b-z)"
   ]
  },
  {
   "cell_type": "markdown",
   "id": "5af79ba5-f922-49a8-a9e2-9fbc8619667c",
   "metadata": {
    "editable": true,
    "raw_mimetype": "",
    "slideshow": {
     "slide_type": "subslide"
    },
    "tags": []
   },
   "source": [
    "Voir aussi: [np.savez_compressed](https://numpy.org/doc/stable/reference/generated/numpy.savez_compressed.html).\n",
    "\n",
    "\n",
    "#### Format générique csv\n",
    "Manipulation standard de fichiers `.csv` avec `np.savetxt` et `np.loadtxt` pour le stockage de données tabulaires: choix de l'entête, du délimiteur, etc."
   ]
  },
  {
   "cell_type": "code",
   "execution_count": 33,
   "id": "d7e73f5f-93cf-409c-b52d-3e5c60c27c15",
   "metadata": {
    "editable": true,
    "slideshow": {
     "slide_type": "subslide"
    },
    "tags": []
   },
   "outputs": [
    {
     "name": "stdout",
     "output_type": "stream",
     "text": [
      "[[ 0  1]\n",
      " [ 2  3]\n",
      " [ 4  5]\n",
      " [ 6  7]\n",
      " [ 8  9]\n",
      " [10 11]]\n",
      "[[ 0.  1.]\n",
      " [ 2.  3.]\n",
      " [ 4.  5.]\n",
      " [ 6.  7.]\n",
      " [ 8.  9.]\n",
      " [10. 11.]]\n"
     ]
    }
   ],
   "source": [
    "a = np.arange(12, dtype=int).reshape(-1, 2)\n",
    "print(a)\n",
    "np.savetxt(\"mon_tableau.csv\", X=a, header=\"x, y\", delimiter=\",\")\n",
    "b = np.loadtxt(\"mon_tableau.csv\", delimiter=\",\")\n",
    "print(b)"
   ]
  },
  {
   "cell_type": "code",
   "execution_count": 34,
   "id": "38156e7d-6d5b-43ed-96ac-d7518f6a7ce4",
   "metadata": {
    "editable": true,
    "slideshow": {
     "slide_type": "subslide"
    },
    "tags": []
   },
   "outputs": [
    {
     "name": "stdout",
     "output_type": "stream",
     "text": [
      "# x, y\n",
      "0.000000000000000000e+00,1.000000000000000000e+00\n",
      "2.000000000000000000e+00,3.000000000000000000e+00\n",
      "4.000000000000000000e+00,5.000000000000000000e+00\n",
      "6.000000000000000000e+00,7.000000000000000000e+00\n",
      "8.000000000000000000e+00,9.000000000000000000e+00\n",
      "1.000000000000000000e+01,1.100000000000000000e+01\n"
     ]
    }
   ],
   "source": [
    "!cat mon_tableau.csv"
   ]
  },
  {
   "cell_type": "markdown",
   "id": "b58c1f45-1250-497e-b5a3-36deb53a06ff",
   "metadata": {
    "editable": true,
    "slideshow": {
     "slide_type": "slide"
    },
    "tags": []
   },
   "source": [
    "Voir aussi: [pandas](https://pandas.pydata.org/).\n",
    "\n",
    "### Autres fonctions de base\n",
    "\n",
    "Exemple de la somme:"
   ]
  },
  {
   "cell_type": "code",
   "execution_count": 35,
   "id": "58cdea7a-4ac2-4038-a31b-843fed805b4c",
   "metadata": {
    "editable": true,
    "slideshow": {
     "slide_type": "subslide"
    },
    "tags": []
   },
   "outputs": [
    {
     "name": "stdout",
     "output_type": "stream",
     "text": [
      "[[ 0  1]\n",
      " [ 2  3]\n",
      " [ 4  5]\n",
      " [ 6  7]\n",
      " [ 8  9]\n",
      " [10 11]]\n",
      "Somme de tous les éléments: 66\n",
      "Somme verticalement: [30 36]\n",
      "Somme horizontalement: [ 1  5  9 13 17 21]\n"
     ]
    }
   ],
   "source": [
    "a = np.arange(12, dtype=int).reshape(-1, 2)\n",
    "print(a)\n",
    "print('Somme de tous les éléments:', np.sum(a))\n",
    "print('Somme verticalement:', np.sum(a, axis=0))\n",
    "print('Somme horizontalement:', np.sum(a, axis=1))"
   ]
  },
  {
   "cell_type": "markdown",
   "id": "9e692332-721b-4bde-8edf-c64a67eed96f",
   "metadata": {
    "editable": true,
    "slideshow": {
     "slide_type": "slide"
    },
    "tags": []
   },
   "source": [
    "De nombreuses autres fonctions dans le même genre:\n",
    "* `np.prod`: produit\n",
    "* `np.diff`: différence entre éléments consécutifs\n",
    "* `np.cumsum`: somme cumulée\n",
    "* `np.cumprod`: produit cumulé\n",
    "* `np.mean`: moyenne\n",
    "* `np.std`: écart-type\n",
    "* `np.min`, `np.argmin`, `np.max`, `np.argmax`: min, max\n",
    "* `np.sort`, `np.argsort`: tri\n",
    "* etc.\n",
    "\n",
    "Sous-modules:\n",
    "\n",
    "* `np.random`: générateurs aléatoires\n",
    "* `np.linalg`: algèbre linéaire\n",
    "* `np.fft`: transformée de Fourier\n",
    "* `np.testing`: pour des tests unitaires avec des ndarray\n",
    "* `np.matrix`: type spécifique pour les matrices, **obsolète**.\n",
    "\n",
    "## Manipulations avancées\n",
    "\n",
    "### Broadcasting\n",
    "= redimensionnement naturel si opérations entre tableaux de tailles différentes"
   ]
  },
  {
   "cell_type": "markdown",
   "id": "8af863e5-05e0-4c3e-8489-2f42ad977cba",
   "metadata": {
    "editable": true,
    "slideshow": {
     "slide_type": "slide"
    },
    "tags": []
   },
   "source": [
    "---\n",
    "$$\n",
    "\\begin{pmatrix}\n",
    "a_{11} & a_{12} & \\ldots & a_{1N}\\\\\n",
    "\\vdots & \\vdots & \\vdots & \\vdots\\\\\n",
    "a_{M1} & a_{M2} & \\ldots & a_{MN}\\\\\n",
    "\\end{pmatrix}\n",
    "+ b\n",
    "=\n",
    "\\begin{pmatrix}\n",
    "a_{11} + b & a_{12} + b & \\ldots & a_{1N}+ b \\\\\n",
    "\\vdots & \\vdots & \\vdots & \\vdots\\\\\n",
    "a_{M1} + b & a_{M2}+ b  & \\ldots & a_{MN}+ b \\\\\n",
    "\\end{pmatrix}\n",
    "$$\n",
    "\n",
    "$$\n",
    "=\n",
    "\\begin{pmatrix}\n",
    "a_{11} & a_{12} & \\ldots & a_{1N}\\\\\n",
    "\\vdots & \\vdots & \\vdots & \\vdots\\\\\n",
    "a_{M1} & a_{M2} & \\ldots & a_{MN}\\\\\n",
    "\\end{pmatrix}\n",
    "+\n",
    "\\begin{pmatrix}\n",
    "b & b & \\ldots & b\\\\\n",
    "\\vdots & \\vdots & \\vdots & \\vdots\\\\\n",
    "b & b & \\ldots & b\\\\\n",
    "\\end{pmatrix}\n",
    "$$"
   ]
  },
  {
   "cell_type": "code",
   "execution_count": 36,
   "id": "b18205a4-4735-4c43-aa3a-d18b64bdac64",
   "metadata": {
    "editable": true,
    "slideshow": {
     "slide_type": "subslide"
    },
    "tags": []
   },
   "outputs": [
    {
     "name": "stdout",
     "output_type": "stream",
     "text": [
      "[[0 1 2]\n",
      " [3 4 5]]\n",
      "[[2 3 4]\n",
      " [5 6 7]]\n"
     ]
    }
   ],
   "source": [
    "# Addition d'un valeur\n",
    "a = np.arange(6).reshape(2, 3)\n",
    "print(a)\n",
    "print(a + 2)"
   ]
  },
  {
   "cell_type": "markdown",
   "id": "a5c140b7-a8dd-4e69-9b91-442bd7bd9289",
   "metadata": {
    "editable": true,
    "slideshow": {
     "slide_type": "slide"
    },
    "tags": []
   },
   "source": [
    "---\n",
    "$$\n",
    "\\begin{pmatrix}\n",
    "a_{11} & a_{12} & \\ldots & a_{1N}\\\\\n",
    "\\vdots & \\vdots & \\vdots & \\vdots\\\\\n",
    "a_{M1} & a_{M2} & \\ldots & a_{MN}\\\\\n",
    "\\end{pmatrix}\n",
    "+\n",
    "\\begin{pmatrix}\n",
    "b_{1} & b_{2} & \\ldots & b_{N}\\\\\n",
    "\\end{pmatrix}\n",
    "=\n",
    "\\begin{pmatrix}\n",
    "a_{11} & a_{12} & \\ldots & a_{1N}\\\\\n",
    "\\vdots & \\vdots & \\vdots & \\vdots\\\\\n",
    "a_{M1} & a_{M2} & \\ldots & a_{MN}\\\\\n",
    "\\end{pmatrix}\n",
    "+\n",
    "\\begin{pmatrix}\n",
    "b_{1} & b_{2} & \\ldots & b_{N}\\\\\n",
    "\\vdots & \\vdots & \\vdots & \\vdots\\\\\n",
    "b_{1} & b_{2} & \\ldots & b_{N}\\\\\n",
    "\\end{pmatrix}\n",
    "$$\n",
    "\n",
    "$$\n",
    "=\n",
    "\\begin{pmatrix}\n",
    "a_{11} + b_{1} & a_{12} + b_{2}& \\ldots & a_{1N} + b_{N}\\\\\n",
    "\\vdots & \\vdots & \\vdots & \\vdots\\\\\n",
    "a_{M1} + b_{1} & a_{M2} + b_{2} & \\ldots & a_{MN} + b_{N}\\\\\n",
    "\\end{pmatrix}\n",
    "$$"
   ]
  },
  {
   "cell_type": "code",
   "execution_count": 37,
   "id": "abfd1a68-30a3-4efa-aa33-d7111b90c98c",
   "metadata": {
    "editable": true,
    "slideshow": {
     "slide_type": "subslide"
    },
    "tags": []
   },
   "outputs": [
    {
     "name": "stdout",
     "output_type": "stream",
     "text": [
      "[[0 1 2]\n",
      " [3 4 5]]\n",
      "[[0 1 2]]\n",
      "[[0 2 4]\n",
      " [3 5 7]]\n"
     ]
    }
   ],
   "source": [
    "a = np.arange(6).reshape(2, 3)\n",
    "b = np.arange(3).reshape(1, 3)  # b est de dimensions (1, 3)\n",
    "print(a)\n",
    "print(b)\n",
    "print(a + b)"
   ]
  },
  {
   "cell_type": "markdown",
   "id": "1bd88dc8-0e27-4770-92d4-88c15076c01f",
   "metadata": {
    "editable": true,
    "slideshow": {
     "slide_type": "slide"
    },
    "tags": []
   },
   "source": [
    "---\n",
    "$$\n",
    "\\begin{pmatrix}\n",
    "a_{1} & a_{2} & \\ldots & a_{N}\\\\\n",
    "\\end{pmatrix}\n",
    "+\n",
    "\\begin{pmatrix}\n",
    "b_{1} \\\\ \\vdots \\\\ b_{M}\\\\\n",
    "\\end{pmatrix}\n",
    "=\n",
    "\\begin{pmatrix}\n",
    "a_{1} & a_{2} & \\ldots & a_{N}\\\\\n",
    "\\vdots & \\vdots & \\vdots & \\vdots\\\\\n",
    "a_{1} & a_{2} & \\ldots & a_{N}\\\\\n",
    "\\end{pmatrix}\n",
    "+\n",
    "\\begin{pmatrix}\n",
    "b_{1} & b_{1} & \\ldots & b_{1}\\\\\n",
    "\\vdots & \\vdots & \\vdots & \\vdots\\\\\n",
    "b_{M} & b_{M} & \\ldots & b_{M}\\\\\n",
    "\\end{pmatrix}\n",
    "$$\n",
    "$$=\n",
    "\\begin{pmatrix}\n",
    "a_{1} + b_{1} & a_{2} + b_{1}& \\ldots & a_{N} + b_{1}\\\\\n",
    "\\vdots & \\vdots & \\vdots & \\vdots\\\\\n",
    "a_{1} + b_{M} & a_{2} + b_{M} & \\ldots & a_{N} + b_{M}\\\\\n",
    "\\end{pmatrix}\n",
    "$$"
   ]
  },
  {
   "cell_type": "code",
   "execution_count": 38,
   "id": "11b2d24c-e3cd-4d31-9999-f05ed0237361",
   "metadata": {
    "editable": true,
    "slideshow": {
     "slide_type": "subslide"
    },
    "tags": []
   },
   "outputs": [
    {
     "name": "stdout",
     "output_type": "stream",
     "text": [
      "[[0 1 2]]\n",
      "[[0]\n",
      " [1]]\n",
      "[[0 1 2]\n",
      " [1 2 3]]\n"
     ]
    }
   ],
   "source": [
    "a = np.arange(3).reshape(1, 3)  # 1 est de dimensions (1, 3)\n",
    "b = np.arange(2).reshape(2, 1)  # b est de dimensions (2, 1)\n",
    "print(a)\n",
    "print(b)\n",
    "print(a + b)"
   ]
  },
  {
   "cell_type": "markdown",
   "id": "d99152c7-8237-44a9-a63f-d60b1002954e",
   "metadata": {
    "editable": true,
    "slideshow": {
     "slide_type": "slide"
    },
    "tags": []
   },
   "source": [
    "---\n",
    "Règle de broadcasting: on peut effectuer un broadcasting entre deux tableaux de dimensions $d_1 \\times d_2 \\times \\ldots \\times d_n$ et $e_1 \\times e_2 \\times \\ldots \\times e_n$ si pour chaque dimension $i$, l'un des deux cas est vérifié:\n",
    "* les deux dimensions sont égale: $d_i=e_i$\n",
    "* une des deux dimensions vaut $1$: $d_i=1$ ou $e_i=1$\n",
    "\n",
    "Si les deux tableaux n'ont pas le même nombre de dimensions, on applique la règle *de droite à gauche* puis on complète par des $1$\n",
    "\n",
    "\n",
    "\n",
    "Exemples:\n",
    "\n",
    "|           |    |    |    |\n",
    "|:---------:|:--:|:--:|:--:|\n",
    "| Tableau 1 | 10 | 10 | 1  |\n",
    "| Tableau 2 | 10 |  1 | 2  |\n",
    "| Résultat  | 10 | 10 | 2  |\n",
    "\n",
    "|           |    |    |    |\n",
    "|:---------:|:--:|:--:|:--:|\n",
    "| Tableau 1 | 10 | 10 | 2  |\n",
    "| Tableau 2 |    |    | 2  |\n",
    "| Résultat  | 10 | 10 | 2  |\n",
    "\n",
    "\n",
    "|           |   |   |   |   |\n",
    "|:---------:|:-:|:-:|:-:|:-:|\n",
    "| Tableau 1 | 8 | 1 | 6 | 1 | \n",
    "| Tableau 2 |   | 7 | 1 | 5 |\n",
    "| Résultat  | 8 | 7 | 6 | 5 |\n",
    "\n",
    "Voir aussi: [documentation officielle sur le broadcasting](https://numpy.org/doc/stable/user/basics.broadcasting.html).\n",
    "\n",
    "### Indexation avancée\n",
    "Voir aussi: [Documentation officielle numpy sur l'indexation](https://numpy.org/doc/stable/user/basics.indexing.html)\n",
    "\n",
    "**Indexation simple**: `a[obj]` où `obj` est un entier (`a[3]`), un tuple d'entiers (`a[2, 3]`), un slice (`a[1:5, 0, :]`) $\\rightarrow$ vu plus haut.\n",
    "\n",
    "**Indexation avancée**: `a[obj]` où `obj` fait notamment intervenir des séquences d'entiers ou de booléens.\n",
    "\n",
    "#### Indexation avancée avec des séquences d'entiers\n",
    "\n",
    "Cas 1D : `obj` désigne les indices à retenir. L'ordre peut être arbitraire, les répétitions sont possibles."
   ]
  },
  {
   "cell_type": "code",
   "execution_count": 39,
   "id": "65871fc8-95a2-4793-bf9a-4e1756f2acc0",
   "metadata": {
    "editable": true,
    "slideshow": {
     "slide_type": "subslide"
    },
    "tags": []
   },
   "outputs": [
    {
     "name": "stdout",
     "output_type": "stream",
     "text": [
      "a = [  0  10  20  30  40  50  60  70  80  90 100 110 120 130 140 150 160 170\n",
      " 180 190]\n",
      "b = [ 0  0 10 30 50 60 10]\n",
      "  = [ 0  0 10 30 50 60 10]\n"
     ]
    }
   ],
   "source": [
    "a = np.arange(0, 200, 10)\n",
    "obj = [0, 0, 1, 3, 5, 6, 1]\n",
    "b = a[obj]\n",
    "print(\"a =\", a)\n",
    "print(\"b =\", b)\n",
    "print(\"  =\", a[[0, 0, 1, 3, 5, 6, 1]]) # idem sans variable intermédiaire"
   ]
  },
  {
   "cell_type": "markdown",
   "id": "df55d4e2-4929-41de-a270-109f9eb04e45",
   "metadata": {},
   "source": [
    "Cas n-D: `obj` est un tuple de taille $n$, dont chaque élément est une séquence de même taille $m$. Résultat de taille $m$."
   ]
  },
  {
   "cell_type": "code",
   "execution_count": 40,
   "id": "47f271e8-7ada-411e-8756-c8c36c7a27a8",
   "metadata": {
    "editable": true,
    "slideshow": {
     "slide_type": "subslide"
    },
    "tags": []
   },
   "outputs": [
    {
     "name": "stdout",
     "output_type": "stream",
     "text": [
      "a = [[  0  10  20  30]\n",
      " [ 40  50  60  70]\n",
      " [ 80  90 100 110]\n",
      " [120 130 140 150]\n",
      " [160 170 180 190]]\n",
      "b = [  0  90 160]\n",
      "  = [  0  90 160]\n"
     ]
    }
   ],
   "source": [
    "a = a.reshape(5, 4)\n",
    "obj = [0, 2, 4], [0, 1, 0]\n",
    "b = a[obj]  # 2 listes de taille 3\n",
    "print(\"a =\", a)\n",
    "print(\"b =\", b)\n",
    "print(\"  =\", a[[0, 2, 4], [0, 1, 0]])  # idem sans variable intermédiaire"
   ]
  },
  {
   "cell_type": "markdown",
   "id": "a50589aa-b3f0-4433-a806-bfb013b73cc7",
   "metadata": {
    "editable": true,
    "slideshow": {
     "slide_type": "subslide"
    },
    "tags": []
   },
   "source": [
    "Les séquences d'indices peuvent être multi-dimensionnelles!"
   ]
  },
  {
   "cell_type": "code",
   "execution_count": 41,
   "id": "077e431a-eb10-431f-9b5d-63acdf515508",
   "metadata": {
    "editable": true,
    "slideshow": {
     "slide_type": "subslide"
    },
    "tags": []
   },
   "outputs": [
    {
     "name": "stdout",
     "output_type": "stream",
     "text": [
      "a = [0 1 2 3 4 5 6 7 8 9]\n",
      "Indices:\n",
      "[[ 0  0]\n",
      " [ 2 -1]]\n",
      "Résultat:\n",
      "[[0 0]\n",
      " [2 9]]\n"
     ]
    }
   ],
   "source": [
    "a = np.arange(10)\n",
    "print(\"a =\", a)\n",
    "obj = np.array([[0, 0], [2, -1]])\n",
    "print('Indices:')\n",
    "print(obj)\n",
    "print('Résultat:')\n",
    "print(a[obj])"
   ]
  },
  {
   "cell_type": "code",
   "execution_count": 42,
   "id": "41bdb8f1-8a53-4eae-8496-b5cdf51dde0f",
   "metadata": {
    "editable": true,
    "slideshow": {
     "slide_type": "subslide"
    },
    "tags": []
   },
   "outputs": [
    {
     "name": "stdout",
     "output_type": "stream",
     "text": [
      "a = [[0 1 2 3 4]\n",
      " [5 6 7 8 9]]\n",
      "Indices:\n",
      "[[ 0  0  0]\n",
      " [ 1 -1  1]]\n",
      "[[0 1 2]\n",
      " [2 3 4]]\n",
      "Résultat:\n",
      "[[0 1 2]\n",
      " [7 8 9]]\n"
     ]
    }
   ],
   "source": [
    "a = a.reshape(2, -1)\n",
    "print(\"a =\", a)\n",
    "obj = np.array([[0, 0, 0], [1, -1, 1]]), np.array([[0, 1, 2], [2, 3, 4]])\n",
    "print('Indices:')\n",
    "print(obj[0])\n",
    "print(obj[1])\n",
    "print('Résultat:')\n",
    "print(a[obj])"
   ]
  },
  {
   "cell_type": "markdown",
   "id": "8272f182-06f3-4508-a26e-80b92540086a",
   "metadata": {
    "editable": true,
    "slideshow": {
     "slide_type": "subslide"
    },
    "tags": []
   },
   "source": [
    "À retenir: `result = x[ind_1, ind_2, ..., ind_N]` avec des séquences d'entiers `ind_x` revient à faire, pour chaque coefficient\n",
    "\n",
    "`result[i_1, ..., i_M] == x[ind_1[i_1, ..., i_M], ind_2[i_1, ..., i_M], ..., ind_N[i_1, ..., i_M]]`\n",
    "\n",
    "`result` et les `ind_x` ont les mêmes dimensions.\n",
    "\n",
    "**Autre cas utile:** sélectionner un sous-tableau en donnant les indices selon chaqueÀ retenir: `result = x[ind_1, ind_2, ..., ind_N]` avec des séquences d'entiers `ind_x` revient à faire, pour chaque coefficient\n",
    "\n",
    "`result[i_1, ..., i_M] == x[ind_1[i_1, ..., i_M], ind_2[i_1, ..., i_M], ..., ind_N[i_1, ..., i_M]]`\n",
    "\n",
    "`result` et les `ind_x` ont les mêmes dimensions.\n",
    "\n",
    "**Autre cas utile:** sélectionner un sous-tableau en donnant les indices selon chaque dimension.\n",
    "\n",
    "$\\rightarrow$ utiliser `np.ix_`.\n",
    "\n",
    "Exemple: la sous-matrice de $a$ composée des lignes 1 et 2 et des colonne 0, 2, 3."
   ]
  },
  {
   "cell_type": "code",
   "execution_count": 43,
   "id": "a76f774e-8c8b-4441-8ffe-c36adf9d6044",
   "metadata": {
    "editable": true,
    "slideshow": {
     "slide_type": "subslide"
    },
    "tags": []
   },
   "outputs": [
    {
     "name": "stdout",
     "output_type": "stream",
     "text": [
      "[[ 0  1  2  3]\n",
      " [ 4  5  6  7]\n",
      " [ 8  9 10 11]]\n",
      "[[ 4  6  7]\n",
      " [ 8 10 11]]\n"
     ]
    }
   ],
   "source": [
    "a = np.arange(12).reshape(3, 4)\n",
    "b = a[np.ix_((1, 2), (0, 2, 3))]\n",
    "print(a)\n",
    "print(b)"
   ]
  },
  {
   "cell_type": "markdown",
   "id": "90a7c9c0-74d8-4902-8957-30f201114f96",
   "metadata": {
    "editable": true,
    "slideshow": {
     "slide_type": "slide"
    },
    "tags": []
   },
   "source": [
    "#### Indexation avancée avec des booléens\n",
    "\n",
    "$\\rightarrow$ `a[obj]` où `obj` contient des booléens.\n",
    "\n",
    "Cas utile: `a` et `obj` sont de mêmes dimensions (voir [documentation](https://numpy.org/doc/stable/user/basics.indexing.html#boolean-array-indexing) pour le cas plus général).\n",
    "\n",
    "Renvoie un tableau 1D avec les éléments de `a` pour lesquels `obj` est `True` (C-order)."
   ]
  },
  {
   "cell_type": "code",
   "execution_count": 44,
   "id": "967a37c2-4107-4a27-bbb6-59dc5e63aee1",
   "metadata": {
    "editable": true,
    "slideshow": {
     "slide_type": "subslide"
    },
    "tags": []
   },
   "outputs": [
    {
     "name": "stdout",
     "output_type": "stream",
     "text": [
      "[ 0  1  2  3  4  5  6  7  8  9 10 11 12 13 14]\n",
      "[ True False  True False  True False  True False  True False  True False\n",
      "  True False  True]\n",
      "[ 0  2  4  6  8 10 12 14]\n"
     ]
    }
   ],
   "source": [
    "a = np.arange(15)  # Cas 1D\n",
    "print(a)\n",
    "print(a % 2 == 0)\n",
    "print(a[a % 2 == 0])"
   ]
  },
  {
   "cell_type": "code",
   "execution_count": 45,
   "id": "a93eb79a-3575-4fbb-8602-097ab4bc70d2",
   "metadata": {
    "editable": true,
    "slideshow": {
     "slide_type": "subslide"
    },
    "tags": []
   },
   "outputs": [
    {
     "name": "stdout",
     "output_type": "stream",
     "text": [
      "[[ 0.  1.  2.  3.  4.]\n",
      " [ 5.  6.  7.  8.  9.]\n",
      " [10. 11. 12. 13. 14.]]\n",
      "[[ True False  True False  True]\n",
      " [False  True False  True False]\n",
      " [ True False  True False  True]]\n",
      "[ 0.  2.  4.  6.  8. 10. 12. 14.]\n"
     ]
    }
   ],
   "source": [
    "a = np.arange(15, dtype=float).reshape(3, -1)  # Cas 2D\n",
    "print(a)\n",
    "print(a % 2 == 0)\n",
    "print(a[a % 2 == 0])"
   ]
  },
  {
   "cell_type": "code",
   "execution_count": 46,
   "id": "f0e60b6f-2beb-46ed-9156-4d8c3055f63b",
   "metadata": {
    "editable": true,
    "slideshow": {
     "slide_type": "subslide"
    },
    "tags": []
   },
   "outputs": [
    {
     "name": "stdout",
     "output_type": "stream",
     "text": [
      "[[ 0. nan  2. nan  4.]\n",
      " [nan  6. nan  8. nan]\n",
      " [10. nan 12. nan 14.]]\n"
     ]
    }
   ],
   "source": [
    "a[a % 2 == 1] = np.nan\n",
    "print(a)"
   ]
  },
  {
   "cell_type": "markdown",
   "id": "c3c276ae-d224-4463-b1bb-8b68d0c4d8eb",
   "metadata": {
    "editable": true,
    "raw_mimetype": "",
    "slideshow": {
     "slide_type": "slide"
    },
    "tags": []
   },
   "source": [
    "## Vues et copies\n",
    "\n",
    "Notion de **vue** (*view*): certaines manipulations créent une présentation des éléments d'un tableau sans les recopier.\n",
    "\n",
    "$\\rightarrow$ plus rapide mais attention aux modifications!"
   ]
  },
  {
   "cell_type": "code",
   "execution_count": 47,
   "id": "c496ada7-d098-4c8f-a4fb-a0b5ca9de1eb",
   "metadata": {
    "editable": true,
    "slideshow": {
     "slide_type": "subslide"
    },
    "tags": []
   },
   "outputs": [
    {
     "name": "stdout",
     "output_type": "stream",
     "text": [
      "[0 1 2 3 4 5 6 7]\n",
      "[0 1 2 3 4 5 6 7]\n",
      "[1 2 3 4]\n",
      "[0 9 2 3 4 5 6 7]\n",
      "[9 2 3 4]\n"
     ]
    }
   ],
   "source": [
    "a = np.arange(8)\n",
    "b = a[1:5]\n",
    "print(a)\n",
    "b = a[1:5]\n",
    "print(a)\n",
    "print(b)\n",
    "b[0] = 9\n",
    "print(a)\n",
    "print(b)"
   ]
  },
  {
   "cell_type": "markdown",
   "id": "b9ab4eed-c593-450f-83ae-0c8593fa58b9",
   "metadata": {
    "editable": true,
    "slideshow": {
     "slide_type": "subslide"
    },
    "tags": []
   },
   "source": [
    "Manipulations créant une vue:\n",
    "* `reshape`\n",
    "* indexation simple avec `start:stop` et `start:stop:step`"
   ]
  },
  {
   "cell_type": "code",
   "execution_count": 48,
   "id": "2cfa441f-cf5e-4642-86e6-df68efc03be8",
   "metadata": {
    "editable": true,
    "slideshow": {
     "slide_type": "subslide"
    },
    "tags": []
   },
   "outputs": [
    {
     "name": "stdout",
     "output_type": "stream",
     "text": [
      "a = [ 0  1  2  3  4  5  6  7  8  9 10 11]\n",
      "b =\n",
      " [[ 0  1  2  3  4  5]\n",
      " [ 6  7  8  9 10 11]]\n",
      "c = [0 2 4]\n",
      "a = [-1  1  2  3  4  5  6  7  8  9 10 11]\n",
      "b =\n",
      " [[-1  1  2  3  4  5]\n",
      " [ 6  7  8  9 10 11]]\n",
      "c = [-1  2  4]\n"
     ]
    }
   ],
   "source": [
    "a = np.arange(12)\n",
    "b = a.reshape(2, 6)  # Une vue par reshape\n",
    "c = b[0, ::2]  # Une vue par indexation simple\n",
    "print('a =', a)\n",
    "print('b =\\n', b)\n",
    "print('c =', c)\n",
    "c[0] = -1  # Une modification\n",
    "print('a =', a)  # Modifié\n",
    "print('b =\\n', b)  # Modifié\n",
    "print('c =', c)"
   ]
  },
  {
   "cell_type": "markdown",
   "id": "1e34a5d9-2f22-4cae-a342-e323a349bc8d",
   "metadata": {
    "editable": true,
    "slideshow": {
     "slide_type": "subslide"
    },
    "tags": []
   },
   "source": [
    "Manipulations créant une copie:\n",
    "* `copy`\n",
    "* indexation avancée"
   ]
  },
  {
   "cell_type": "code",
   "execution_count": 49,
   "id": "f8dc0384-952a-469b-9dba-f75c042c061c",
   "metadata": {
    "editable": true,
    "slideshow": {
     "slide_type": "subslide"
    },
    "tags": []
   },
   "outputs": [
    {
     "name": "stdout",
     "output_type": "stream",
     "text": [
      "a = [ 0  1  2  3  4  5  6  7  8  9 10 11]\n",
      "b =\n",
      " [[-1  1  2  3  4  5]\n",
      " [ 6  7  8  9 10 11]]\n",
      "c = [0 2 4]\n",
      "d = [0 2 4]\n"
     ]
    }
   ],
   "source": [
    "a = np.arange(12)\n",
    "b = a.reshape(2, 6).copy()  # une copie explicite\n",
    "c = b[0, np.arange(0, 6, 2)]  # Copie par indexation avancée avec des entiers\n",
    "d = b[0, [True, False] * 3]  # Copie par indexation avancée avec des booléens\n",
    "b[0, 0] = -1  # Une modification\n",
    "print('a =', a)  # Non-modifié\n",
    "print('b =\\n', b)\n",
    "print('c =', c)  # Non-modifié\n",
    "print('d =', d)  # Non-modifié"
   ]
  },
  {
   "cell_type": "markdown",
   "id": "c47edcbd-28b9-4002-b478-9203cba14a94",
   "metadata": {
    "editable": true,
    "slideshow": {
     "slide_type": "subslide"
    },
    "tags": []
   },
   "source": [
    "**Affectation vs. vue**\n",
    "L'affectation n'est pas une vue, on obtient exactement le même objet.\n",
    "On peut créer une vue avec `view`"
   ]
  },
  {
   "cell_type": "code",
   "execution_count": 50,
   "id": "292b123f-3ee8-4934-8f1f-12d408c7ffc3",
   "metadata": {
    "editable": true,
    "slideshow": {
     "slide_type": "subslide"
    },
    "tags": []
   },
   "outputs": [
    {
     "name": "stdout",
     "output_type": "stream",
     "text": [
      "True\n",
      "False\n",
      "[9 1 2 3 4]\n",
      "[9 1 2 3 4]\n",
      "[9 1 2 3 4]\n"
     ]
    }
   ],
   "source": [
    "a = np.arange(5)\n",
    "b = a  # Affectation\n",
    "print(b is a)  # Est-ce le même objet? Oui!\n",
    "c = a.view()  # Vue\n",
    "print(c is a)  # Est-ce le même objet? Non!\n",
    "a[0] = 9\n",
    "print(a)\n",
    "print(b)\n",
    "print(c)"
   ]
  },
  {
   "cell_type": "markdown",
   "id": "3ab2b148-9b11-49d5-bdf7-36e337804996",
   "metadata": {
    "editable": true,
    "slideshow": {
     "slide_type": "slide"
    },
    "tags": []
   },
   "source": [
    "# Quelques mots sur `panda`\n"
   ]
  },
  {
   "cell_type": "code",
   "execution_count": 51,
   "id": "7770c883-99e3-4c77-a8c6-5706580e9577",
   "metadata": {
    "editable": true,
    "slideshow": {
     "slide_type": "subslide"
    },
    "tags": []
   },
   "outputs": [],
   "source": [
    "#!pip install pandas\n",
    "import pandas as pd"
   ]
  },
  {
   "cell_type": "markdown",
   "id": "c141cf17-8fab-4e59-8654-6daeb93d2469",
   "metadata": {
    "editable": true,
    "raw_mimetype": "",
    "slideshow": {
     "slide_type": "slide"
    },
    "tags": []
   },
   "source": [
    "## Series\n",
    "Le premier type de données apporté par pandas est la Series, qui correspond à un vecteur à une dimension."
   ]
  },
  {
   "cell_type": "code",
   "execution_count": 52,
   "id": "fe6ec569-d24b-4a06-8097-a81f0be74084",
   "metadata": {
    "editable": true,
    "slideshow": {
     "slide_type": "subslide"
    },
    "tags": []
   },
   "outputs": [
    {
     "data": {
      "text/plain": [
       "a    100\n",
       "b    200\n",
       "c    300\n",
       "d     40\n",
       "dtype: int64"
      ]
     },
     "execution_count": 52,
     "metadata": {},
     "output_type": "execute_result"
    }
   ],
   "source": [
    "s = pd.Series([100, 200, 300, 40], index = ['a', 'b', 'c', 'd'])\n",
    "s"
   ]
  },
  {
   "cell_type": "markdown",
   "id": "123d84f1-5172-477f-a209-f844638a466b",
   "metadata": {
    "editable": true,
    "slideshow": {
     "slide_type": "slide"
    },
    "tags": []
   },
   "source": [
    "### Sélections par étiquette ou indice\n",
    "Avec pandas, chaque élément de la série de données possède une étiquette qui permet d'appeler les éléments qui la composent. \n",
    "Ainsi, pour appeler le premier élément de la série, on peut utiliser son étiquette (ici, \"a\") :"
   ]
  },
  {
   "cell_type": "code",
   "execution_count": 53,
   "id": "1c2c7b65-ebd8-4043-893c-dcd215eab87f",
   "metadata": {
    "editable": true,
    "slideshow": {
     "slide_type": "subslide"
    },
    "tags": []
   },
   "outputs": [
    {
     "data": {
      "text/plain": [
       "np.int64(100)"
      ]
     },
     "execution_count": 53,
     "metadata": {},
     "output_type": "execute_result"
    }
   ],
   "source": [
    "s[\"a\"]"
   ]
  },
  {
   "cell_type": "markdown",
   "id": "a72058c7-73c5-4c8a-8319-775891e32075",
   "metadata": {
    "editable": true,
    "raw_mimetype": "",
    "slideshow": {
     "slide_type": "subslide"
    },
    "tags": []
   },
   "source": [
    "#### Modifications de Series\n",
    "Les étiquettes permettent de modifier et d'ajouter des éléments :"
   ]
  },
  {
   "cell_type": "code",
   "execution_count": 54,
   "id": "0b30d225-fc03-4e4e-bf32-4d1d106d1f04",
   "metadata": {
    "editable": true,
    "slideshow": {
     "slide_type": "subslide"
    },
    "tags": []
   },
   "outputs": [
    {
     "data": {
      "text/plain": [
       "a    100\n",
       "b    200\n",
       "c    300\n",
       "d     40\n",
       "z     50\n",
       "dtype: int64"
      ]
     },
     "execution_count": 54,
     "metadata": {},
     "output_type": "execute_result"
    }
   ],
   "source": [
    "s[\"c\"] = 300\n",
    "s[\"z\"] = 50\n",
    "s"
   ]
  },
  {
   "cell_type": "markdown",
   "id": "e2bf6d92-d4da-4337-9f4d-917da6fab8a9",
   "metadata": {
    "editable": true,
    "raw_mimetype": "",
    "slideshow": {
     "slide_type": "slide"
    },
    "tags": []
   },
   "source": [
    "### Les Filtres"
   ]
  },
  {
   "cell_type": "code",
   "execution_count": 55,
   "id": "4e681ea9-b2c3-47b4-8bc1-9228f4cfa28f",
   "metadata": {
    "editable": true,
    "slideshow": {
     "slide_type": "subslide"
    },
    "tags": []
   },
   "outputs": [
    {
     "data": {
      "text/plain": [
       "d    40\n",
       "z    50\n",
       "dtype: int64"
      ]
     },
     "execution_count": 55,
     "metadata": {},
     "output_type": "execute_result"
    }
   ],
   "source": [
    "s[(s>20) & (s<100)]"
   ]
  },
  {
   "cell_type": "markdown",
   "id": "564c75d4-8153-4514-bca9-df27570341b9",
   "metadata": {
    "editable": true,
    "raw_mimetype": "",
    "slideshow": {
     "slide_type": "slide"
    },
    "tags": []
   },
   "source": [
    "## Dataframes\n",
    "Ils correspondent à des tableaux à deux dimensions avec des étiquettes pour nommer les lignes et les colonnes."
   ]
  },
  {
   "cell_type": "code",
   "execution_count": 56,
   "id": "87ef72d0-870a-4bb3-9f9e-44cac9772b03",
   "metadata": {
    "editable": true,
    "slideshow": {
     "slide_type": "subslide"
    },
    "tags": []
   },
   "outputs": [
    {
     "data": {
      "text/html": [
       "<div>\n",
       "<style scoped>\n",
       "    .dataframe tbody tr th:only-of-type {\n",
       "        vertical-align: middle;\n",
       "    }\n",
       "\n",
       "    .dataframe tbody tr th {\n",
       "        vertical-align: top;\n",
       "    }\n",
       "\n",
       "    .dataframe thead th {\n",
       "        text-align: right;\n",
       "    }\n",
       "</style>\n",
       "<table border=\"1\" class=\"dataframe\">\n",
       "  <thead>\n",
       "    <tr style=\"text-align: right;\">\n",
       "      <th></th>\n",
       "      <th>a</th>\n",
       "      <th>b</th>\n",
       "      <th>c</th>\n",
       "      <th>d</th>\n",
       "    </tr>\n",
       "  </thead>\n",
       "  <tbody>\n",
       "    <tr>\n",
       "      <th>chat</th>\n",
       "      <td>10</td>\n",
       "      <td>11</td>\n",
       "      <td>12</td>\n",
       "      <td>13</td>\n",
       "    </tr>\n",
       "    <tr>\n",
       "      <th>singe</th>\n",
       "      <td>20</td>\n",
       "      <td>21</td>\n",
       "      <td>22</td>\n",
       "      <td>23</td>\n",
       "    </tr>\n",
       "    <tr>\n",
       "      <th>souris</th>\n",
       "      <td>30</td>\n",
       "      <td>31</td>\n",
       "      <td>32</td>\n",
       "      <td>33</td>\n",
       "    </tr>\n",
       "  </tbody>\n",
       "</table>\n",
       "</div>"
      ],
      "text/plain": [
       "         a   b   c   d\n",
       "chat    10  11  12  13\n",
       "singe   20  21  22  23\n",
       "souris  30  31  32  33"
      ]
     },
     "execution_count": 56,
     "metadata": {},
     "output_type": "execute_result"
    }
   ],
   "source": [
    "import numpy as np\n",
    "df = pd.DataFrame(columns=[\"a\", \"b\", \"c\", \"d\"],\n",
    "                  index=[\"chat\", \"singe\", \"souris\"],\n",
    "                  data=[np.arange(10, 14),\n",
    "                        np.arange(20, 24),\n",
    "                        np.arange(30, 34)])\n",
    "df"
   ]
  },
  {
   "cell_type": "code",
   "execution_count": 57,
   "id": "62085457-4830-485a-b8ec-2ab77caf585f",
   "metadata": {},
   "outputs": [
    {
     "data": {
      "text/html": [
       "<div>\n",
       "<style scoped>\n",
       "    .dataframe tbody tr th:only-of-type {\n",
       "        vertical-align: middle;\n",
       "    }\n",
       "\n",
       "    .dataframe tbody tr th {\n",
       "        vertical-align: top;\n",
       "    }\n",
       "\n",
       "    .dataframe thead th {\n",
       "        text-align: right;\n",
       "    }\n",
       "</style>\n",
       "<table border=\"1\" class=\"dataframe\">\n",
       "  <thead>\n",
       "    <tr style=\"text-align: right;\">\n",
       "      <th></th>\n",
       "      <th>a</th>\n",
       "      <th>b</th>\n",
       "      <th>c</th>\n",
       "      <th>d</th>\n",
       "    </tr>\n",
       "  </thead>\n",
       "  <tbody>\n",
       "    <tr>\n",
       "      <th>chat</th>\n",
       "      <td>10</td>\n",
       "      <td>11</td>\n",
       "      <td>12</td>\n",
       "      <td>13</td>\n",
       "    </tr>\n",
       "    <tr>\n",
       "      <th>singe</th>\n",
       "      <td>20</td>\n",
       "      <td>21</td>\n",
       "      <td>22</td>\n",
       "      <td>23</td>\n",
       "    </tr>\n",
       "    <tr>\n",
       "      <th>souris</th>\n",
       "      <td>30</td>\n",
       "      <td>31</td>\n",
       "      <td>32</td>\n",
       "      <td>33</td>\n",
       "    </tr>\n",
       "  </tbody>\n",
       "</table>\n",
       "</div>"
      ],
      "text/plain": [
       "         a   b   c   d\n",
       "chat    10  11  12  13\n",
       "singe   20  21  22  23\n",
       "souris  30  31  32  33"
      ]
     },
     "execution_count": 57,
     "metadata": {},
     "output_type": "execute_result"
    }
   ],
   "source": [
    "data = {\"a\": np.arange(10, 40, 10),\n",
    "        \"b\": np.arange(11, 40, 10),\n",
    "        \"c\": np.arange(12, 40, 10),\n",
    "        \"d\": np.arange(13, 40, 10)}\n",
    "df = pd.DataFrame(data)\n",
    "df.index = [\"chat\", \"singe\", \"souris\"]\n",
    "df"
   ]
  },
  {
   "cell_type": "markdown",
   "id": "ddb40833-107d-4f90-b760-da045ad1a10a",
   "metadata": {
    "editable": true,
    "slideshow": {
     "slide_type": "slide"
    },
    "tags": []
   },
   "source": [
    "## Création à partir de fichiers"
   ]
  },
  {
   "cell_type": "code",
   "execution_count": 58,
   "id": "e0dc50e3-50e6-4e5c-9604-dcb614a644e5",
   "metadata": {
    "editable": true,
    "slideshow": {
     "slide_type": "subslide"
    },
    "tags": []
   },
   "outputs": [
    {
     "data": {
      "text/html": [
       "<div>\n",
       "<style scoped>\n",
       "    .dataframe tbody tr th:only-of-type {\n",
       "        vertical-align: middle;\n",
       "    }\n",
       "\n",
       "    .dataframe tbody tr th {\n",
       "        vertical-align: top;\n",
       "    }\n",
       "\n",
       "    .dataframe thead th {\n",
       "        text-align: right;\n",
       "    }\n",
       "</style>\n",
       "<table border=\"1\" class=\"dataframe\">\n",
       "  <thead>\n",
       "    <tr style=\"text-align: right;\">\n",
       "      <th></th>\n",
       "      <th>SUID</th>\n",
       "      <th>AverageShortestPathLength</th>\n",
       "      <th>BetweennessCentrality</th>\n",
       "      <th>ClosenessCentrality</th>\n",
       "      <th>ClusteringCoefficient</th>\n",
       "      <th>Degree</th>\n",
       "      <th>Eccentricity</th>\n",
       "      <th>IsSingleNode</th>\n",
       "      <th>name</th>\n",
       "      <th>NeighborhoodConnectivity</th>\n",
       "      <th>NumberOfDirectedEdges</th>\n",
       "      <th>NumberOfUndirectedEdges</th>\n",
       "      <th>PartnerOfMultiEdgedNodePairs</th>\n",
       "      <th>Radiality</th>\n",
       "      <th>selected</th>\n",
       "      <th>SelfLoops</th>\n",
       "      <th>shared name</th>\n",
       "      <th>Stress</th>\n",
       "      <th>TopologicalCoefficient</th>\n",
       "    </tr>\n",
       "  </thead>\n",
       "  <tbody>\n",
       "    <tr>\n",
       "      <th>0</th>\n",
       "      <td>72</td>\n",
       "      <td>2.836233</td>\n",
       "      <td>0.005481</td>\n",
       "      <td>0.352580</td>\n",
       "      <td>0.035485</td>\n",
       "      <td>244</td>\n",
       "      <td>6</td>\n",
       "      <td>False</td>\n",
       "      <td>Q93062</td>\n",
       "      <td>47.795082</td>\n",
       "      <td>244</td>\n",
       "      <td>0</td>\n",
       "      <td>0</td>\n",
       "      <td>0.816377</td>\n",
       "      <td>False</td>\n",
       "      <td>0</td>\n",
       "      <td>Q93062</td>\n",
       "      <td>27684680</td>\n",
       "      <td>0.013493</td>\n",
       "    </tr>\n",
       "    <tr>\n",
       "      <th>1</th>\n",
       "      <td>73</td>\n",
       "      <td>2.907954</td>\n",
       "      <td>0.002961</td>\n",
       "      <td>0.343884</td>\n",
       "      <td>0.021468</td>\n",
       "      <td>137</td>\n",
       "      <td>6</td>\n",
       "      <td>False</td>\n",
       "      <td>Q8N9N5</td>\n",
       "      <td>46.343066</td>\n",
       "      <td>137</td>\n",
       "      <td>0</td>\n",
       "      <td>0</td>\n",
       "      <td>0.809205</td>\n",
       "      <td>False</td>\n",
       "      <td>0</td>\n",
       "      <td>Q8N9N5</td>\n",
       "      <td>11643156</td>\n",
       "      <td>0.015641</td>\n",
       "    </tr>\n",
       "    <tr>\n",
       "      <th>2</th>\n",
       "      <td>75</td>\n",
       "      <td>2.829142</td>\n",
       "      <td>0.003529</td>\n",
       "      <td>0.353464</td>\n",
       "      <td>0.060243</td>\n",
       "      <td>123</td>\n",
       "      <td>6</td>\n",
       "      <td>False</td>\n",
       "      <td>O95967</td>\n",
       "      <td>80.447154</td>\n",
       "      <td>123</td>\n",
       "      <td>0</td>\n",
       "      <td>0</td>\n",
       "      <td>0.817086</td>\n",
       "      <td>False</td>\n",
       "      <td>0</td>\n",
       "      <td>O95967</td>\n",
       "      <td>14271130</td>\n",
       "      <td>0.020935</td>\n",
       "    </tr>\n",
       "    <tr>\n",
       "      <th>3</th>\n",
       "      <td>77</td>\n",
       "      <td>2.995175</td>\n",
       "      <td>0.000892</td>\n",
       "      <td>0.333870</td>\n",
       "      <td>0.101090</td>\n",
       "      <td>117</td>\n",
       "      <td>6</td>\n",
       "      <td>False</td>\n",
       "      <td>P59991</td>\n",
       "      <td>70.931624</td>\n",
       "      <td>117</td>\n",
       "      <td>0</td>\n",
       "      <td>0</td>\n",
       "      <td>0.800483</td>\n",
       "      <td>False</td>\n",
       "      <td>0</td>\n",
       "      <td>P59991</td>\n",
       "      <td>4818360</td>\n",
       "      <td>0.026755</td>\n",
       "    </tr>\n",
       "    <tr>\n",
       "      <th>4</th>\n",
       "      <td>79</td>\n",
       "      <td>2.904884</td>\n",
       "      <td>0.002721</td>\n",
       "      <td>0.344248</td>\n",
       "      <td>0.023420</td>\n",
       "      <td>136</td>\n",
       "      <td>7</td>\n",
       "      <td>False</td>\n",
       "      <td>P78424</td>\n",
       "      <td>49.772059</td>\n",
       "      <td>136</td>\n",
       "      <td>0</td>\n",
       "      <td>0</td>\n",
       "      <td>0.809512</td>\n",
       "      <td>False</td>\n",
       "      <td>0</td>\n",
       "      <td>P78424</td>\n",
       "      <td>11167158</td>\n",
       "      <td>0.015982</td>\n",
       "    </tr>\n",
       "    <tr>\n",
       "      <th>...</th>\n",
       "      <td>...</td>\n",
       "      <td>...</td>\n",
       "      <td>...</td>\n",
       "      <td>...</td>\n",
       "      <td>...</td>\n",
       "      <td>...</td>\n",
       "      <td>...</td>\n",
       "      <td>...</td>\n",
       "      <td>...</td>\n",
       "      <td>...</td>\n",
       "      <td>...</td>\n",
       "      <td>...</td>\n",
       "      <td>...</td>\n",
       "      <td>...</td>\n",
       "      <td>...</td>\n",
       "      <td>...</td>\n",
       "      <td>...</td>\n",
       "      <td>...</td>\n",
       "      <td>...</td>\n",
       "    </tr>\n",
       "    <tr>\n",
       "      <th>13674</th>\n",
       "      <td>104120</td>\n",
       "      <td>4.486913</td>\n",
       "      <td>0.000000</td>\n",
       "      <td>0.222870</td>\n",
       "      <td>0.000000</td>\n",
       "      <td>1</td>\n",
       "      <td>8</td>\n",
       "      <td>False</td>\n",
       "      <td>Q7Z5D8</td>\n",
       "      <td>19.000000</td>\n",
       "      <td>1</td>\n",
       "      <td>0</td>\n",
       "      <td>0</td>\n",
       "      <td>0.651309</td>\n",
       "      <td>False</td>\n",
       "      <td>0</td>\n",
       "      <td>Q7Z5D8</td>\n",
       "      <td>0</td>\n",
       "      <td>0.000000</td>\n",
       "    </tr>\n",
       "    <tr>\n",
       "      <th>13675</th>\n",
       "      <td>104122</td>\n",
       "      <td>4.486913</td>\n",
       "      <td>0.000000</td>\n",
       "      <td>0.222870</td>\n",
       "      <td>0.000000</td>\n",
       "      <td>1</td>\n",
       "      <td>8</td>\n",
       "      <td>False</td>\n",
       "      <td>A6NKC6</td>\n",
       "      <td>19.000000</td>\n",
       "      <td>1</td>\n",
       "      <td>0</td>\n",
       "      <td>0</td>\n",
       "      <td>0.651309</td>\n",
       "      <td>False</td>\n",
       "      <td>0</td>\n",
       "      <td>A6NKC6</td>\n",
       "      <td>0</td>\n",
       "      <td>0.000000</td>\n",
       "    </tr>\n",
       "    <tr>\n",
       "      <th>13676</th>\n",
       "      <td>104126</td>\n",
       "      <td>4.946995</td>\n",
       "      <td>0.000000</td>\n",
       "      <td>0.202143</td>\n",
       "      <td>0.000000</td>\n",
       "      <td>1</td>\n",
       "      <td>8</td>\n",
       "      <td>False</td>\n",
       "      <td>A4D2P6</td>\n",
       "      <td>3.000000</td>\n",
       "      <td>1</td>\n",
       "      <td>0</td>\n",
       "      <td>0</td>\n",
       "      <td>0.605300</td>\n",
       "      <td>False</td>\n",
       "      <td>0</td>\n",
       "      <td>A4D2P6</td>\n",
       "      <td>0</td>\n",
       "      <td>0.000000</td>\n",
       "    </tr>\n",
       "    <tr>\n",
       "      <th>13677</th>\n",
       "      <td>104128</td>\n",
       "      <td>6.070332</td>\n",
       "      <td>0.000000</td>\n",
       "      <td>0.164736</td>\n",
       "      <td>0.000000</td>\n",
       "      <td>1</td>\n",
       "      <td>9</td>\n",
       "      <td>False</td>\n",
       "      <td>P33076</td>\n",
       "      <td>3.000000</td>\n",
       "      <td>1</td>\n",
       "      <td>0</td>\n",
       "      <td>0</td>\n",
       "      <td>0.492967</td>\n",
       "      <td>False</td>\n",
       "      <td>0</td>\n",
       "      <td>P33076</td>\n",
       "      <td>0</td>\n",
       "      <td>0.000000</td>\n",
       "    </tr>\n",
       "    <tr>\n",
       "      <th>13678</th>\n",
       "      <td>104133</td>\n",
       "      <td>6.080348</td>\n",
       "      <td>0.000000</td>\n",
       "      <td>0.164464</td>\n",
       "      <td>0.000000</td>\n",
       "      <td>1</td>\n",
       "      <td>9</td>\n",
       "      <td>False</td>\n",
       "      <td>P23219</td>\n",
       "      <td>2.000000</td>\n",
       "      <td>1</td>\n",
       "      <td>0</td>\n",
       "      <td>0</td>\n",
       "      <td>0.491965</td>\n",
       "      <td>False</td>\n",
       "      <td>0</td>\n",
       "      <td>P23219</td>\n",
       "      <td>0</td>\n",
       "      <td>0.000000</td>\n",
       "    </tr>\n",
       "  </tbody>\n",
       "</table>\n",
       "<p>13679 rows × 19 columns</p>\n",
       "</div>"
      ],
      "text/plain": [
       "         SUID  AverageShortestPathLength  BetweennessCentrality  \\\n",
       "0          72                   2.836233               0.005481   \n",
       "1          73                   2.907954               0.002961   \n",
       "2          75                   2.829142               0.003529   \n",
       "3          77                   2.995175               0.000892   \n",
       "4          79                   2.904884               0.002721   \n",
       "...       ...                        ...                    ...   \n",
       "13674  104120                   4.486913               0.000000   \n",
       "13675  104122                   4.486913               0.000000   \n",
       "13676  104126                   4.946995               0.000000   \n",
       "13677  104128                   6.070332               0.000000   \n",
       "13678  104133                   6.080348               0.000000   \n",
       "\n",
       "       ClosenessCentrality  ClusteringCoefficient  Degree  Eccentricity  \\\n",
       "0                 0.352580               0.035485     244             6   \n",
       "1                 0.343884               0.021468     137             6   \n",
       "2                 0.353464               0.060243     123             6   \n",
       "3                 0.333870               0.101090     117             6   \n",
       "4                 0.344248               0.023420     136             7   \n",
       "...                    ...                    ...     ...           ...   \n",
       "13674             0.222870               0.000000       1             8   \n",
       "13675             0.222870               0.000000       1             8   \n",
       "13676             0.202143               0.000000       1             8   \n",
       "13677             0.164736               0.000000       1             9   \n",
       "13678             0.164464               0.000000       1             9   \n",
       "\n",
       "       IsSingleNode    name  NeighborhoodConnectivity  NumberOfDirectedEdges  \\\n",
       "0             False  Q93062                 47.795082                    244   \n",
       "1             False  Q8N9N5                 46.343066                    137   \n",
       "2             False  O95967                 80.447154                    123   \n",
       "3             False  P59991                 70.931624                    117   \n",
       "4             False  P78424                 49.772059                    136   \n",
       "...             ...     ...                       ...                    ...   \n",
       "13674         False  Q7Z5D8                 19.000000                      1   \n",
       "13675         False  A6NKC6                 19.000000                      1   \n",
       "13676         False  A4D2P6                  3.000000                      1   \n",
       "13677         False  P33076                  3.000000                      1   \n",
       "13678         False  P23219                  2.000000                      1   \n",
       "\n",
       "       NumberOfUndirectedEdges  PartnerOfMultiEdgedNodePairs  Radiality  \\\n",
       "0                            0                             0   0.816377   \n",
       "1                            0                             0   0.809205   \n",
       "2                            0                             0   0.817086   \n",
       "3                            0                             0   0.800483   \n",
       "4                            0                             0   0.809512   \n",
       "...                        ...                           ...        ...   \n",
       "13674                        0                             0   0.651309   \n",
       "13675                        0                             0   0.651309   \n",
       "13676                        0                             0   0.605300   \n",
       "13677                        0                             0   0.492967   \n",
       "13678                        0                             0   0.491965   \n",
       "\n",
       "       selected  SelfLoops shared name    Stress  TopologicalCoefficient  \n",
       "0         False          0      Q93062  27684680                0.013493  \n",
       "1         False          0      Q8N9N5  11643156                0.015641  \n",
       "2         False          0      O95967  14271130                0.020935  \n",
       "3         False          0      P59991   4818360                0.026755  \n",
       "4         False          0      P78424  11167158                0.015982  \n",
       "...         ...        ...         ...       ...                     ...  \n",
       "13674     False          0      Q7Z5D8         0                0.000000  \n",
       "13675     False          0      A6NKC6         0                0.000000  \n",
       "13676     False          0      A4D2P6         0                0.000000  \n",
       "13677     False          0      P33076         0                0.000000  \n",
       "13678     False          0      P23219         0                0.000000  \n",
       "\n",
       "[13679 rows x 19 columns]"
      ]
     },
     "execution_count": 58,
     "metadata": {},
     "output_type": "execute_result"
    }
   ],
   "source": [
    "df = pd.read_csv(\"rawPPI_network_nodeTable.csv\")\n",
    "df"
   ]
  },
  {
   "cell_type": "code",
   "execution_count": 59,
   "id": "9bba3ef0-b796-49a4-9f56-f08ff1ea4cbc",
   "metadata": {
    "editable": true,
    "slideshow": {
     "slide_type": "subslide"
    },
    "tags": []
   },
   "outputs": [
    {
     "data": {
      "text/html": [
       "<div>\n",
       "<style scoped>\n",
       "    .dataframe tbody tr th:only-of-type {\n",
       "        vertical-align: middle;\n",
       "    }\n",
       "\n",
       "    .dataframe tbody tr th {\n",
       "        vertical-align: top;\n",
       "    }\n",
       "\n",
       "    .dataframe thead th {\n",
       "        text-align: right;\n",
       "    }\n",
       "</style>\n",
       "<table border=\"1\" class=\"dataframe\">\n",
       "  <thead>\n",
       "    <tr style=\"text-align: right;\">\n",
       "      <th></th>\n",
       "      <th>AverageShortestPathLength</th>\n",
       "      <th>BetweennessCentrality</th>\n",
       "      <th>ClosenessCentrality</th>\n",
       "      <th>ClusteringCoefficient</th>\n",
       "      <th>Degree</th>\n",
       "      <th>Eccentricity</th>\n",
       "      <th>IsSingleNode</th>\n",
       "      <th>name</th>\n",
       "      <th>NeighborhoodConnectivity</th>\n",
       "      <th>NumberOfDirectedEdges</th>\n",
       "      <th>NumberOfUndirectedEdges</th>\n",
       "      <th>PartnerOfMultiEdgedNodePairs</th>\n",
       "      <th>Radiality</th>\n",
       "      <th>selected</th>\n",
       "      <th>SelfLoops</th>\n",
       "      <th>shared name</th>\n",
       "      <th>Stress</th>\n",
       "      <th>TopologicalCoefficient</th>\n",
       "    </tr>\n",
       "    <tr>\n",
       "      <th>SUID</th>\n",
       "      <th></th>\n",
       "      <th></th>\n",
       "      <th></th>\n",
       "      <th></th>\n",
       "      <th></th>\n",
       "      <th></th>\n",
       "      <th></th>\n",
       "      <th></th>\n",
       "      <th></th>\n",
       "      <th></th>\n",
       "      <th></th>\n",
       "      <th></th>\n",
       "      <th></th>\n",
       "      <th></th>\n",
       "      <th></th>\n",
       "      <th></th>\n",
       "      <th></th>\n",
       "      <th></th>\n",
       "    </tr>\n",
       "  </thead>\n",
       "  <tbody>\n",
       "    <tr>\n",
       "      <th>72</th>\n",
       "      <td>2.836233</td>\n",
       "      <td>0.005481</td>\n",
       "      <td>0.352580</td>\n",
       "      <td>0.035485</td>\n",
       "      <td>244</td>\n",
       "      <td>6</td>\n",
       "      <td>False</td>\n",
       "      <td>Q93062</td>\n",
       "      <td>47.795082</td>\n",
       "      <td>244</td>\n",
       "      <td>0</td>\n",
       "      <td>0</td>\n",
       "      <td>0.816377</td>\n",
       "      <td>False</td>\n",
       "      <td>0</td>\n",
       "      <td>Q93062</td>\n",
       "      <td>27684680</td>\n",
       "      <td>0.013493</td>\n",
       "    </tr>\n",
       "    <tr>\n",
       "      <th>73</th>\n",
       "      <td>2.907954</td>\n",
       "      <td>0.002961</td>\n",
       "      <td>0.343884</td>\n",
       "      <td>0.021468</td>\n",
       "      <td>137</td>\n",
       "      <td>6</td>\n",
       "      <td>False</td>\n",
       "      <td>Q8N9N5</td>\n",
       "      <td>46.343066</td>\n",
       "      <td>137</td>\n",
       "      <td>0</td>\n",
       "      <td>0</td>\n",
       "      <td>0.809205</td>\n",
       "      <td>False</td>\n",
       "      <td>0</td>\n",
       "      <td>Q8N9N5</td>\n",
       "      <td>11643156</td>\n",
       "      <td>0.015641</td>\n",
       "    </tr>\n",
       "    <tr>\n",
       "      <th>75</th>\n",
       "      <td>2.829142</td>\n",
       "      <td>0.003529</td>\n",
       "      <td>0.353464</td>\n",
       "      <td>0.060243</td>\n",
       "      <td>123</td>\n",
       "      <td>6</td>\n",
       "      <td>False</td>\n",
       "      <td>O95967</td>\n",
       "      <td>80.447154</td>\n",
       "      <td>123</td>\n",
       "      <td>0</td>\n",
       "      <td>0</td>\n",
       "      <td>0.817086</td>\n",
       "      <td>False</td>\n",
       "      <td>0</td>\n",
       "      <td>O95967</td>\n",
       "      <td>14271130</td>\n",
       "      <td>0.020935</td>\n",
       "    </tr>\n",
       "    <tr>\n",
       "      <th>77</th>\n",
       "      <td>2.995175</td>\n",
       "      <td>0.000892</td>\n",
       "      <td>0.333870</td>\n",
       "      <td>0.101090</td>\n",
       "      <td>117</td>\n",
       "      <td>6</td>\n",
       "      <td>False</td>\n",
       "      <td>P59991</td>\n",
       "      <td>70.931624</td>\n",
       "      <td>117</td>\n",
       "      <td>0</td>\n",
       "      <td>0</td>\n",
       "      <td>0.800483</td>\n",
       "      <td>False</td>\n",
       "      <td>0</td>\n",
       "      <td>P59991</td>\n",
       "      <td>4818360</td>\n",
       "      <td>0.026755</td>\n",
       "    </tr>\n",
       "    <tr>\n",
       "      <th>79</th>\n",
       "      <td>2.904884</td>\n",
       "      <td>0.002721</td>\n",
       "      <td>0.344248</td>\n",
       "      <td>0.023420</td>\n",
       "      <td>136</td>\n",
       "      <td>7</td>\n",
       "      <td>False</td>\n",
       "      <td>P78424</td>\n",
       "      <td>49.772059</td>\n",
       "      <td>136</td>\n",
       "      <td>0</td>\n",
       "      <td>0</td>\n",
       "      <td>0.809512</td>\n",
       "      <td>False</td>\n",
       "      <td>0</td>\n",
       "      <td>P78424</td>\n",
       "      <td>11167158</td>\n",
       "      <td>0.015982</td>\n",
       "    </tr>\n",
       "  </tbody>\n",
       "</table>\n",
       "</div>"
      ],
      "text/plain": [
       "      AverageShortestPathLength  BetweennessCentrality  ClosenessCentrality  \\\n",
       "SUID                                                                          \n",
       "72                     2.836233               0.005481             0.352580   \n",
       "73                     2.907954               0.002961             0.343884   \n",
       "75                     2.829142               0.003529             0.353464   \n",
       "77                     2.995175               0.000892             0.333870   \n",
       "79                     2.904884               0.002721             0.344248   \n",
       "\n",
       "      ClusteringCoefficient  Degree  Eccentricity  IsSingleNode    name  \\\n",
       "SUID                                                                      \n",
       "72                 0.035485     244             6         False  Q93062   \n",
       "73                 0.021468     137             6         False  Q8N9N5   \n",
       "75                 0.060243     123             6         False  O95967   \n",
       "77                 0.101090     117             6         False  P59991   \n",
       "79                 0.023420     136             7         False  P78424   \n",
       "\n",
       "      NeighborhoodConnectivity  NumberOfDirectedEdges  \\\n",
       "SUID                                                    \n",
       "72                   47.795082                    244   \n",
       "73                   46.343066                    137   \n",
       "75                   80.447154                    123   \n",
       "77                   70.931624                    117   \n",
       "79                   49.772059                    136   \n",
       "\n",
       "      NumberOfUndirectedEdges  PartnerOfMultiEdgedNodePairs  Radiality  \\\n",
       "SUID                                                                     \n",
       "72                          0                             0   0.816377   \n",
       "73                          0                             0   0.809205   \n",
       "75                          0                             0   0.817086   \n",
       "77                          0                             0   0.800483   \n",
       "79                          0                             0   0.809512   \n",
       "\n",
       "      selected  SelfLoops shared name    Stress  TopologicalCoefficient  \n",
       "SUID                                                                     \n",
       "72       False          0      Q93062  27684680                0.013493  \n",
       "73       False          0      Q8N9N5  11643156                0.015641  \n",
       "75       False          0      O95967  14271130                0.020935  \n",
       "77       False          0      P59991   4818360                0.026755  \n",
       "79       False          0      P78424  11167158                0.015982  "
      ]
     },
     "execution_count": 59,
     "metadata": {},
     "output_type": "execute_result"
    }
   ],
   "source": [
    "df = pd.read_csv(\"rawPPI_network_nodeTable.csv\", index_col=\"SUID\")\n",
    "df.head()"
   ]
  },
  {
   "cell_type": "code",
   "execution_count": 60,
   "id": "7e12d9db-f41e-4d93-8931-515def25f3f7",
   "metadata": {
    "editable": true,
    "slideshow": {
     "slide_type": "subslide"
    },
    "tags": []
   },
   "outputs": [
    {
     "data": {
      "text/plain": [
       "selected\n",
       "False    13679\n",
       "Name: count, dtype: int64"
      ]
     },
     "execution_count": 60,
     "metadata": {},
     "output_type": "execute_result"
    }
   ],
   "source": [
    "df[\"selected\"].value_counts()"
   ]
  },
  {
   "cell_type": "markdown",
   "id": "5f99ab21-e7ee-4c96-aca7-0c25440545bd",
   "metadata": {
    "editable": true,
    "slideshow": {
     "slide_type": "slide"
    },
    "tags": []
   },
   "source": [
    "**Questions?**\n",
    "\n",
    "*Récap*\n",
    "\n",
    "Place à la pratique!"
   ]
  },
  {
   "cell_type": "code",
   "execution_count": 61,
   "id": "6e3925f7-7c9f-409a-a1f5-65467b597753",
   "metadata": {
    "editable": true,
    "slideshow": {
     "slide_type": ""
    },
    "tags": []
   },
   "outputs": [
    {
     "name": "stdout",
     "output_type": "stream",
     "text": [
      "[NbConvertApp] Converting notebook 2.numpy-ndarray.ipynb to html\n",
      "[NbConvertApp] Writing 423702 bytes to 2.numpy-ndarray.html\n"
     ]
    }
   ],
   "source": [
    "!jupyter nbconvert --to html --allow-chromium-download 2.numpy-ndarray.ipynb"
   ]
  },
  {
   "cell_type": "code",
   "execution_count": 63,
   "id": "15ff8eb4-777f-4e92-b165-ec4d5f2b1ed1",
   "metadata": {
    "editable": true,
    "slideshow": {
     "slide_type": ""
    },
    "tags": []
   },
   "outputs": [
    {
     "name": "stdout",
     "output_type": "stream",
     "text": [
      "[NbConvertApp] Converting notebook 2.numpy-ndarray.ipynb to slides\n",
      "[NbConvertApp] Writing 453527 bytes to 2.numpy-ndarray.slides.html\n"
     ]
    }
   ],
   "source": [
    "!jupyter nbconvert --to slides 2.numpy-ndarray.ipynb"
   ]
  },
  {
   "cell_type": "code",
   "execution_count": null,
   "id": "7da7206c-5f92-4a27-9dba-6430e5637d04",
   "metadata": {
    "editable": true,
    "slideshow": {
     "slide_type": ""
    },
    "tags": []
   },
   "outputs": [],
   "source": []
  }
 ],
 "metadata": {
  "kernelspec": {
   "display_name": "Python 3 (ipykernel)",
   "language": "python",
   "name": "python3"
  },
  "language_info": {
   "codemirror_mode": {
    "name": "ipython",
    "version": 3
   },
   "file_extension": ".py",
   "mimetype": "text/x-python",
   "name": "python",
   "nbconvert_exporter": "python",
   "pygments_lexer": "ipython3",
   "version": "3.11.11"
  },
  "toc": {
   "base_numbering": 1
  }
 },
 "nbformat": 4,
 "nbformat_minor": 5
}
