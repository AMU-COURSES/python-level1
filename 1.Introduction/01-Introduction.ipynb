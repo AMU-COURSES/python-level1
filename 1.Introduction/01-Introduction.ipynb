{
 "cells": [
  {
   "cell_type": "markdown",
   "id": "4a406c0d-d759-4e37-bb05-7290c3be3538",
   "metadata": {
    "tags": []
   },
   "source": [
    "<!-- ---AUTHOR : Eulalio TORRES (AMU/CEDRE) \n",
    "--- -->"
   ]
  },
  {
   "cell_type": "raw",
   "id": "f2978d09bb0e341a",
   "metadata": {},
   "source": [
    "---"
   ]
  },
  {
   "cell_type": "markdown",
   "id": "ca80e88aba98d2ca",
   "metadata": {},
   "source": [
    "<div class=\"alert alert-block alert-info\">\n",
    "<h1><!-- TITLE -->Introduction à Python</h1>\n",
    "<br>\n",
    "<!-- DESC --> Ce notebook présente les principes de la programmation scientifique avec Python\n",
    "<!-- Eulalio TORRES (AMU/CEDRE) -->\n",
    "</div>"
   ]
  },
  {
   "metadata": {},
   "cell_type": "markdown",
   "source": "",
   "id": "bb562f1e5c2ca661"
  },
  {
   "cell_type": "markdown",
   "id": "d517801902bf2fec",
   "metadata": {},
   "source": [
    "<a id='Index01'></a>\n",
    "## INDEX \n",
    "***\n",
    "  0. [Anaconda et Jupyter Nootebook](##0.-Anaconda-et-Jupyter-Nootebook)<br>\n",
    "  1. [Généralités](##1.-Généralités)<br>\n",
    "  2. [Python Introduction](##2.-Python-Introduction)<br>\n",
    "  3. [Déclaration de variables](##3.-Déclaration-de-variables)<br>\n",
    "  4. [Langage orienté objet et définitions](##4.-Langage-orienté-objet-et-définitions)<br>\n",
    "  5. [Les opérateurs](##5.-Les-opérateurs)<br>\n",
    "  6. [Les structures des données](##6.-Les-structures-des-données)<br>\n",
    "  7. [Conditions / Boucles avec Python](##7.-Conditions-/-Boucles-avec-Python)<br>\n",
    "  8. [Les fonctions ou méthodes](##8.-Les-fonctions-ou-méthodes)<br>\n",
    "  9. [Partage de Notebooks](##9.-Partage-de-Notebooks)<br>\n",
    " 10. [Un mot sur les modules : mode python pur](##10.-Un-mot-sur-les-modules:mode-python-pur)<br>"
   ]
  },
  {
   "cell_type": "markdown",
   "id": "7935a9b9-62f7-4c39-b2a7-e5b66f203456",
   "metadata": {},
   "source": [
    "## 0. Anaconda et Jupyter Nootebook\n",
    "***"
   ]
  },
  {
   "cell_type": "markdown",
   "id": "340d58b6-3da1-4ad1-a9b0-eef50449923a",
   "metadata": {},
   "source": [
    "Anaconda est une distribution libre et open source des langages de programmation, Python et R inclus.\n",
    "Conda installe, exécute et met à jour rapidement les paquets et leurs dépendances. Il permet également de créer, sauvegarder, charger et basculer facilement entre les environnements de votre ordinateur. Il a été créé pour les programmes Python, mais il peut empaqueter et distribuer des logiciels pour n'importe quel langage."
   ]
  },
  {
   "cell_type": "markdown",
   "id": "2a51930b-ee91-4fa1-bcb1-bcd4866ec51d",
   "metadata": {},
   "source": [
    "En plus des langages de programation, on a d'autres outils intégrés et dédiés à la Science des données. Parmi eux, les **JUPYTER NOTEBOOKS**\n",
    "\n",
    "Un NOTEBOOK permet d'intégrer textes, images, code et résultats de calcul, c'est donc l'outil parfait pour partager le processus de recherche. "
   ]
  },
  {
   "metadata": {},
   "cell_type": "markdown",
   "source": [
    "Les Notebooks permetent aussi:\n",
    "# Hiérarchiser les Titres 1\n",
    "\n",
    "## Hiérarchiser les Titres 2   \n",
    "\n",
    "- Modifier la police: _italic_    **bold** \n",
    "- Ecrire en $\\LaTeX$ <br>\n",
    "- Ecrire des formulas simples: $\\sqrt(x+x^2)$ <br>\n",
    "- Ou des formules complexes: $\\sum_{n=1}^{+\\infty} \\frac{1}{n^2} = \\frac{\\pi^2}{6}$\n",
    "- Ajouter des tables: \n",
    "Titre 1 | Titre 2\n",
    "------------ | -------------\n",
    "cell 1 | cell 2\n",
    "column 1 |column 2\n",
    "- <p>Ajouter emojis  &#129488;</p>\n",
    "- Ajouter liens [exterieurs - dans le web](https://www.ibm.com/docs/en/watson-studio-local/1.2.3?topic=notebooks-markdown-jupyter-cheatsheet)\n",
    "- Ajouter lines [interieurs - dans la notebook](#Index01)\n",
    "\n",
    "- Des cases de colours:\n",
    " <div class=\"alert alert-block alert-info\">\n",
    "<b>Tip:</b> Utiliser blue boxes (alert-info) pour tips et notes.\n",
    "</div>\n",
    "  <div class=\"alert alert-block alert-warning\">\n",
    "<b>Exemple:</b> Cases jaunes pour les exemples qui ne sont pas à l'intérieur des cellules de code, \n",
    "    ou à utiliser pour les formules mathématiques si nécessaire.\n",
    "</div>\n",
    "    <div class=\"alert alert-block alert-success\">\n",
    "<b>Souligner:</b> Utilisez les cases vertes avec parcimonie, et uniquement dans un but spécifique que les autres cases ne peuvent pas couvrir. \n",
    "Par exemple, si vous avez beaucoup de contenu connexe vers lequel créer des liens, vous pouvez décider d'utiliser des encadrés verts pour \n",
    "les liens connexes de chaque section d'un cahier.\n",
    "</div>\n",
    " <div class=\"alert alert-block alert-danger\">\n",
    "<b>Danger:</b> En général, évitez les cases rouges. Elles ne doivent être\n",
    "pour des actions susceptibles d'entraîner une perte de données ou un autre problème majeur.\n",
    "</div>\n"
   ],
   "id": "5c351622bc16850c"
  },
  {
   "cell_type": "markdown",
   "id": "0dc037ff-9024-42b3-bbae-7c0c324960ab",
   "metadata": {
    "tags": []
   },
   "source": [
    " #### [Go to index](#Index01)"
   ]
  },
  {
   "metadata": {},
   "cell_type": "markdown",
   "source": [
    "## 1. Généralités\n",
    "\n",
    "- Légende : première version développée en une semaine par Guido van\n",
    "Rossum à Noël 1989.\n",
    "- Depuis 2001 (2.1) : développé et distribué par la Python Software\n",
    "Fundation.\n",
    "- 2024 : sortie de Python 3.13\n",
    "- Open-source, principalement en C (CPython), sous licence libre\n",
    "(PYTHON SOFTWARE FOUNDATION LICENSE VERSION 2).\n",
    "- Rupture de compatibilité entre versions 2.x et 3.x.\n",
    "-  Langage haut niveau, orienté objet à typage dynamique fort.\n",
    "\n",
    "## 2. Python Introduction"
   ],
   "id": "d88fed5881720253"
  },
  {
   "cell_type": "markdown",
   "id": "850f563c-7e53-498d-a879-31627136306d",
   "metadata": {
    "tags": []
   },
   "source": [
    "### Accès aux aides<br>\n",
    "Vous pouvez accéder aux aides en utilisant, à la fin de une fonction, la combinaison Shift + Tab, mais aussi en utilisant `?` "
   ]
  },
  {
   "metadata": {
    "ExecuteTime": {
     "end_time": "2025-02-28T15:15:58.226365Z",
     "start_time": "2025-02-28T15:15:58.221095Z"
    }
   },
   "cell_type": "code",
   "source": [
    "# ***** remplir *******\n",
    "sum?"
   ],
   "id": "ba74dbf06985a91e",
   "outputs": [],
   "execution_count": 198
  },
  {
   "cell_type": "markdown",
   "id": "a425bab7-5a4f-4ac9-bc30-79fc16849f80",
   "metadata": {},
   "source": [
    "Python possède de nombreuses clés magiques, elles sont appelées dans un Notebook en utilisant le symbole `%`. \n",
    "\n",
    "Une clé magique avec un `%` s'applique à une ligne, une clé magique avec `%%` s'applique à toute une cellule.\n",
    "\n",
    "Pour obtenir la liste des clés magiques, on peut utiliser :\n"
   ]
  },
  {
   "cell_type": "code",
   "id": "4a063d12-5260-4e0f-9767-61f42c5e7395",
   "metadata": {
    "ExecuteTime": {
     "end_time": "2025-02-28T15:15:58.281134Z",
     "start_time": "2025-02-28T15:15:58.274016Z"
    }
   },
   "source": [
    "# ***** remplir *******\n",
    "%lsmagic"
   ],
   "outputs": [
    {
     "data": {
      "text/plain": [
       "Available line magics:\n",
       "%alias  %alias_magic  %autoawait  %autocall  %automagic  %autosave  %bookmark  %cat  %cd  %clear  %code_wrap  %colors  %conda  %config  %connect_info  %cp  %debug  %dhist  %dirs  %doctest_mode  %ed  %edit  %env  %gui  %hist  %history  %killbgscripts  %ldir  %less  %lf  %lk  %ll  %load  %load_ext  %loadpy  %logoff  %logon  %logstart  %logstate  %logstop  %ls  %lsmagic  %lx  %macro  %magic  %mamba  %man  %matplotlib  %micromamba  %mkdir  %more  %mv  %notebook  %page  %pastebin  %pdb  %pdef  %pdoc  %pfile  %pinfo  %pinfo2  %pip  %popd  %pprint  %precision  %prun  %psearch  %psource  %pushd  %pwd  %pycat  %pylab  %qtconsole  %quickref  %recall  %rehashx  %reload_ext  %rep  %rerun  %reset  %reset_selective  %rm  %rmdir  %run  %save  %sc  %set_env  %store  %sx  %system  %tb  %time  %timeit  %unalias  %unload_ext  %uv  %who  %who_ls  %whos  %xdel  %xmode\n",
       "\n",
       "Available cell magics:\n",
       "%%!  %%HTML  %%SVG  %%bash  %%capture  %%code_wrap  %%debug  %%file  %%html  %%javascript  %%js  %%latex  %%markdown  %%perl  %%prun  %%pypy  %%python  %%python2  %%python3  %%ruby  %%script  %%sh  %%svg  %%sx  %%system  %%time  %%timeit  %%writefile\n",
       "\n",
       "Automagic is ON, % prefix IS NOT needed for line magics."
      ],
      "application/json": {
       "line": {
        "automagic": "AutoMagics",
        "autocall": "AutoMagics",
        "alias_magic": "BasicMagics",
        "lsmagic": "BasicMagics",
        "magic": "BasicMagics",
        "page": "BasicMagics",
        "pprint": "BasicMagics",
        "colors": "BasicMagics",
        "xmode": "BasicMagics",
        "quickref": "BasicMagics",
        "doctest_mode": "BasicMagics",
        "gui": "BasicMagics",
        "precision": "BasicMagics",
        "notebook": "BasicMagics",
        "save": "CodeMagics",
        "pastebin": "CodeMagics",
        "loadpy": "CodeMagics",
        "load": "CodeMagics",
        "edit": "KernelMagics",
        "config": "ConfigMagics",
        "prun": "ExecutionMagics",
        "pdb": "ExecutionMagics",
        "debug": "ExecutionMagics",
        "tb": "ExecutionMagics",
        "run": "ExecutionMagics",
        "timeit": "ExecutionMagics",
        "time": "ExecutionMagics",
        "macro": "ExecutionMagics",
        "code_wrap": "ExecutionMagics",
        "load_ext": "ExtensionMagics",
        "unload_ext": "ExtensionMagics",
        "reload_ext": "ExtensionMagics",
        "history": "HistoryMagics",
        "recall": "HistoryMagics",
        "rerun": "HistoryMagics",
        "logstart": "LoggingMagics",
        "logstop": "LoggingMagics",
        "logoff": "LoggingMagics",
        "logon": "LoggingMagics",
        "logstate": "LoggingMagics",
        "pinfo": "NamespaceMagics",
        "pinfo2": "NamespaceMagics",
        "pdef": "NamespaceMagics",
        "pdoc": "NamespaceMagics",
        "psource": "NamespaceMagics",
        "pfile": "NamespaceMagics",
        "psearch": "NamespaceMagics",
        "who_ls": "NamespaceMagics",
        "who": "NamespaceMagics",
        "whos": "NamespaceMagics",
        "reset": "NamespaceMagics",
        "reset_selective": "NamespaceMagics",
        "xdel": "NamespaceMagics",
        "alias": "OSMagics",
        "unalias": "OSMagics",
        "rehashx": "OSMagics",
        "pwd": "OSMagics",
        "cd": "OSMagics",
        "env": "OSMagics",
        "set_env": "OSMagics",
        "pushd": "OSMagics",
        "popd": "OSMagics",
        "dirs": "OSMagics",
        "dhist": "OSMagics",
        "sc": "OSMagics",
        "sx": "OSMagics",
        "system": "OSMagics",
        "bookmark": "OSMagics",
        "pycat": "OSMagics",
        "pip": "PackagingMagics",
        "conda": "PackagingMagics",
        "mamba": "PackagingMagics",
        "micromamba": "PackagingMagics",
        "uv": "PackagingMagics",
        "matplotlib": "PylabMagics",
        "pylab": "PylabMagics",
        "killbgscripts": "ScriptMagics",
        "autoawait": "AsyncMagics",
        "ed": "Other",
        "hist": "Other",
        "rep": "Other",
        "clear": "KernelMagics",
        "less": "KernelMagics",
        "more": "KernelMagics",
        "man": "KernelMagics",
        "connect_info": "KernelMagics",
        "qtconsole": "KernelMagics",
        "autosave": "KernelMagics",
        "mkdir": "Other",
        "rmdir": "Other",
        "mv": "Other",
        "rm": "Other",
        "cp": "Other",
        "cat": "Other",
        "ls": "Other",
        "ll": "Other",
        "lf": "Other",
        "lk": "Other",
        "ldir": "Other",
        "lx": "Other",
        "store": "StoreMagics"
       },
       "cell": {
        "js": "DisplayMagics",
        "javascript": "DisplayMagics",
        "latex": "DisplayMagics",
        "svg": "DisplayMagics",
        "html": "DisplayMagics",
        "markdown": "DisplayMagics",
        "prun": "ExecutionMagics",
        "debug": "ExecutionMagics",
        "timeit": "ExecutionMagics",
        "time": "ExecutionMagics",
        "capture": "ExecutionMagics",
        "code_wrap": "ExecutionMagics",
        "sx": "OSMagics",
        "system": "OSMagics",
        "!": "OSMagics",
        "writefile": "OSMagics",
        "script": "ScriptMagics",
        "sh": "Other",
        "bash": "Other",
        "perl": "Other",
        "ruby": "Other",
        "python": "Other",
        "python2": "Other",
        "python3": "Other",
        "pypy": "Other",
        "SVG": "Other",
        "HTML": "Other",
        "file": "Other"
       }
      }
     },
     "execution_count": 199,
     "metadata": {},
     "output_type": "execute_result"
    }
   ],
   "execution_count": 199
  },
  {
   "cell_type": "code",
   "id": "bbbe2f9f-ea3e-4b96-b30d-ecd2d177cc84",
   "metadata": {
    "ExecuteTime": {
     "end_time": "2025-02-28T15:15:58.460479Z",
     "start_time": "2025-02-28T15:15:58.453283Z"
    }
   },
   "source": [
    "# Voici quelques clés magiques utiles :\n",
    "# ***** remplir *******\n",
    "%whos icicicic"
   ],
   "outputs": [
    {
     "name": "stdout",
     "output_type": "stream",
     "text": [
      "No variables match your requested type.\n"
     ]
    }
   ],
   "execution_count": 200
  },
  {
   "cell_type": "code",
   "id": "45f88786-44c3-4f9a-bec1-2fe268c20101",
   "metadata": {
    "tags": [],
    "ExecuteTime": {
     "end_time": "2025-02-28T15:15:58.681623Z",
     "start_time": "2025-02-28T15:15:58.676377Z"
    }
   },
   "source": [
    "%timeit\n",
    "# ***** remplir *******"
   ],
   "outputs": [],
   "execution_count": 201
  },
  {
   "cell_type": "code",
   "id": "3b0ea1c5-8bb1-4c8c-9e42-ff25e04c7269",
   "metadata": {
    "ExecuteTime": {
     "end_time": "2025-02-28T15:16:10.758744Z",
     "start_time": "2025-02-28T15:15:58.742047Z"
    }
   },
   "source": [
    "%timeit 2**10 # ***** remplir *******"
   ],
   "outputs": [
    {
     "name": "stdout",
     "output_type": "stream",
     "text": [
      "14.6 ns ± 1.33 ns per loop (mean ± std. dev. of 7 runs, 100,000,000 loops each)\n"
     ]
    }
   ],
   "execution_count": 202
  },
  {
   "cell_type": "markdown",
   "id": "722eac30-1193-4197-8b2b-3df82e85db2b",
   "metadata": {
    "tags": []
   },
   "source": [
    " #### [Go to index](#Index01)"
   ]
  },
  {
   "metadata": {},
   "cell_type": "markdown",
   "source": [
    "## 3. Déclaration de variables: Types et Opérateurs de base\n",
    "\n",
    "Dans Python l'opérateur d'allocation est le `=`, il ne faut pas le confondre avec l'operateur mathématique d'égalité qui est `==`"
   ],
   "id": "21f5b9419480a923"
  },
  {
   "cell_type": "code",
   "id": "9ecbe9e6-4ab4-48d6-9f0b-acfd784e18fb",
   "metadata": {
    "ExecuteTime": {
     "end_time": "2025-02-28T15:16:10.825052Z",
     "start_time": "2025-02-28T15:16:10.821387Z"
    }
   },
   "source": [
    "# Code ici\n",
    "var1 = 1"
   ],
   "outputs": [],
   "execution_count": 203
  },
  {
   "metadata": {},
   "cell_type": "markdown",
   "source": [
    "Le typage étant dynamique (duck typing), on le définit en utilisant directement la valeur alouée.\n",
    "Par exemple:"
   ],
   "id": "d381f2d4ad1480fe"
  },
  {
   "cell_type": "code",
   "id": "cbf8b61e-554e-4cf0-b708-f1aa6a682424",
   "metadata": {
    "ExecuteTime": {
     "end_time": "2025-02-28T15:16:10.874976Z",
     "start_time": "2025-02-28T15:16:10.869727Z"
    }
   },
   "source": [
    "var1 = 10         # valeur entier\n",
    "var2 = 3.5        # valeur decimal\n",
    "var3 = \"Python\"   # valeur de character\n",
    "var4 = True       # valeur boolean"
   ],
   "outputs": [],
   "execution_count": 204
  },
  {
   "metadata": {
    "ExecuteTime": {
     "end_time": "2025-02-28T15:16:10.935078Z",
     "start_time": "2025-02-28T15:16:10.927207Z"
    }
   },
   "cell_type": "code",
   "source": "type(var1)",
   "id": "4dcf18cad39da2fd",
   "outputs": [
    {
     "data": {
      "text/plain": [
       "int"
      ]
     },
     "execution_count": 205,
     "metadata": {},
     "output_type": "execute_result"
    }
   ],
   "execution_count": 205
  },
  {
   "metadata": {
    "ExecuteTime": {
     "end_time": "2025-02-28T15:16:11.004984Z",
     "start_time": "2025-02-28T15:16:10.998547Z"
    }
   },
   "cell_type": "code",
   "source": "type(var2)",
   "id": "1cf54b9668058948",
   "outputs": [
    {
     "data": {
      "text/plain": [
       "float"
      ]
     },
     "execution_count": 206,
     "metadata": {},
     "output_type": "execute_result"
    }
   ],
   "execution_count": 206
  },
  {
   "metadata": {
    "ExecuteTime": {
     "end_time": "2025-02-28T15:16:11.105687Z",
     "start_time": "2025-02-28T15:16:11.100340Z"
    }
   },
   "cell_type": "code",
   "source": "type(var3)\n",
   "id": "45a66e276649589f",
   "outputs": [
    {
     "data": {
      "text/plain": [
       "str"
      ]
     },
     "execution_count": 207,
     "metadata": {},
     "output_type": "execute_result"
    }
   ],
   "execution_count": 207
  },
  {
   "metadata": {
    "ExecuteTime": {
     "end_time": "2025-02-28T15:16:11.252265Z",
     "start_time": "2025-02-28T15:16:11.243413Z"
    }
   },
   "cell_type": "code",
   "source": "type(var4)",
   "id": "11ae84d2f9888249",
   "outputs": [
    {
     "data": {
      "text/plain": [
       "bool"
      ]
     },
     "execution_count": 208,
     "metadata": {},
     "output_type": "execute_result"
    }
   ],
   "execution_count": 208
  },
  {
   "metadata": {
    "ExecuteTime": {
     "end_time": "2025-02-28T15:16:11.373285Z",
     "start_time": "2025-02-28T15:16:11.367697Z"
    }
   },
   "cell_type": "code",
   "source": [
    "# whos permet de conaitre les valeurs enregistrées \n",
    "# dans la memoire de l'ordinateur\n",
    "%whos"
   ],
   "id": "828c4bf9f937c4b4",
   "outputs": [
    {
     "name": "stdout",
     "output_type": "stream",
     "text": [
      "Variable                        Type        Data/Info\n",
      "-----------------------------------------------------\n",
      "A                               int         1\n",
      "a                               int         8\n",
      "age                             int         35\n",
      "b                               int         8\n",
      "c                               int         0\n",
      "chaine1                         str         Python  pour la recherche\n",
      "chaine1bis                      str         Python pour la recherche\n",
      "chaine2                         str         Python pour la recherche\n",
      "chaine3                         str         Python pour la recherche\n",
      "elem                            int         2\n",
      "i                               str         Blanc\n",
      "jour                            str         mardi\n",
      "list1                           list        n=5\n",
      "list_comp                       list        n=3\n",
      "list_init                       list        n=4\n",
      "liste1                          list        n=4\n",
      "liste_pays                      list        n=6\n",
      "meteo                           str         mauvais\n",
      "ours                            dict        n=3\n",
      "pydev_jupyter_vars              module      <module 'pydev_jupyter_va<...>g/pydev_jupyter_vars.py'>\n",
      "remove_imported_pydev_package   function    <function remove_imported<...>ackage at 0x787f7c9cfa60>\n",
      "s                               str         Paul a 35 ans et mesure 1.79 mètres.\n",
      "sys                             module      <module 'sys' (built-in)>\n",
      "taille                          float       1.79\n",
      "tup1                            tuple       n=4\n",
      "tup2                            tuple       n=2\n",
      "tup3                            tuple       n=6\n",
      "var1                            int         10\n",
      "var2                            float       3.5\n",
      "var3                            str         Python\n",
      "var4                            bool        True\n"
     ]
    }
   ],
   "execution_count": 209
  },
  {
   "metadata": {},
   "cell_type": "markdown",
   "source": [
    "### Caractéristiques d’un objet\n",
    "Chaque objet possède une identité, un type et une valeur. Pour un objet var1 :\n",
    "- Le type s’obtient avec la fonction type(var1).\n",
    "- L’identité peut être associée à l’adresse mémoire où l’instance se trouve.\n",
    "On l’obtient avec la fonction id(var1).\n",
    "- La valeur de l’objet s’obtient en l’appelant par son nom : var1.\n",
    "\n",
    "#### Le typage dynamique\n",
    "Python ne nécessite pas que l’on déclare le type d’une donnée, il peut le\n",
    "définir dynamiquement."
   ],
   "id": "543c497e010141cd"
  },
  {
   "metadata": {
    "ExecuteTime": {
     "end_time": "2025-02-28T15:16:11.459044Z",
     "start_time": "2025-02-28T15:16:11.453396Z"
    }
   },
   "cell_type": "code",
   "source": "id(var1)",
   "id": "9bc819d8f7951b6f",
   "outputs": [
    {
     "data": {
      "text/plain": [
       "10751144"
      ]
     },
     "execution_count": 210,
     "metadata": {},
     "output_type": "execute_result"
    }
   ],
   "execution_count": 210
  },
  {
   "metadata": {},
   "cell_type": "markdown",
   "source": [
    "#### La notion de mutabilité: les types de base\n",
    "Un type est dit mutable si on peut changer les valeurs des instances de sa\n",
    "classe en les laissant à la même place mémoire. Autrement dit si une donnée\n",
    "peut changer de valeur en gardant le même id alors son type est mutable.\n",
    "Sinon son type est dit non mutable.\n",
    "\n",
    "##### Les **entiers**\n",
    "Tous les entiers, signés ou non sont automatiquement typés en **int** sans\n",
    "limite de précision"
   ],
   "id": "4e925e14372d9330"
  },
  {
   "metadata": {},
   "cell_type": "markdown",
   "source": "Par défaut, et par comodité, Python affiche seulement le dernier résultat d'un calcul et n'affiche pas le process de calcul, ainsi si on a besoin d'afficher le processus, ou résultats intermédiares, il est nécessaire utiliser la comande `print`",
   "id": "9d143ede-5ce4-48c9-924a-32bc26fad517"
  },
  {
   "metadata": {
    "ExecuteTime": {
     "end_time": "2025-02-28T15:16:11.585615Z",
     "start_time": "2025-02-28T15:16:11.579631Z"
    }
   },
   "cell_type": "code",
   "source": [
    "a = 12\n",
    "print(id(a))\n",
    "\n",
    "a = 45\n",
    "print(id(a))"
   ],
   "id": "a9edc8e2068f6c08",
   "outputs": [
    {
     "name": "stdout",
     "output_type": "stream",
     "text": [
      "10751208\n",
      "10752264\n"
     ]
    }
   ],
   "execution_count": 211
  },
  {
   "metadata": {},
   "cell_type": "markdown",
   "source": [
    "Dans cet exemple précédent, on voit que le type **int** est **non mutable**.\n",
    "##### Les **booléens**\n",
    "Le type booléen autorise les valeurs à prendre deux états **True** et\n",
    "**False**\n"
   ],
   "id": "2a90260f42ceb362"
  },
  {
   "metadata": {
    "ExecuteTime": {
     "end_time": "2025-02-28T15:16:11.674899Z",
     "start_time": "2025-02-28T15:16:11.669777Z"
    }
   },
   "cell_type": "code",
   "source": [
    "a = True\n",
    "print(type(a))\n",
    "print(not a)"
   ],
   "id": "5436ddefdd26ea0d",
   "outputs": [
    {
     "name": "stdout",
     "output_type": "stream",
     "text": [
      "<class 'bool'>\n",
      "False\n"
     ]
    }
   ],
   "execution_count": 212
  },
  {
   "metadata": {},
   "cell_type": "markdown",
   "source": [
    "- Le type **bool** est **non mutable**.\n",
    "   - **None** est False\n",
    "   - Toute variable numérique nulle est False et inversement.\n",
    "   - Toute chaine de caractère vide est False et inversement.\n",
    "\n",
    "##### Les nombres à **virgule flottante**\n",
    "Les nombres à virgule flottante suivent la norme IEEE-754. Ils sont\n",
    "représentés en double précision (64 bits) avec une précision d’environ 17\n",
    "digits et une amplitude de 2.2 × 10−308 à 1.8 × 10308 .\n",
    "\n",
    " <div class=\"alert alert-block alert-danger\">\n",
    "<b>Remarque</b> La valeur stockée en mémoire d’un flottant est approximée par des fractions en base 2. elle est donc rarement exacte.\n",
    "</div>"
   ],
   "id": "fa3997bc8149f73f"
  },
  {
   "metadata": {
    "ExecuteTime": {
     "end_time": "2025-02-28T15:16:11.791431Z",
     "start_time": "2025-02-28T15:16:11.785988Z"
    }
   },
   "cell_type": "code",
   "source": [
    "a = 0.1 + 0.2\n",
    "print(a)\n",
    "print(type(a))"
   ],
   "id": "fe16989eb3cc442a",
   "outputs": [
    {
     "name": "stdout",
     "output_type": "stream",
     "text": [
      "0.30000000000000004\n",
      "<class 'float'>\n"
     ]
    }
   ],
   "execution_count": 213
  },
  {
   "metadata": {
    "ExecuteTime": {
     "end_time": "2025-02-28T15:16:11.935793Z",
     "start_time": "2025-02-28T15:16:11.928406Z"
    }
   },
   "cell_type": "code",
   "source": [
    "s = \"Hello World.\"\n",
    "print(s)"
   ],
   "id": "84449baa108d29b6",
   "outputs": [
    {
     "name": "stdout",
     "output_type": "stream",
     "text": [
      "Hello World.\n"
     ]
    }
   ],
   "execution_count": 214
  },
  {
   "metadata": {
    "ExecuteTime": {
     "end_time": "2025-02-28T15:16:12.026866Z",
     "start_time": "2025-02-28T15:16:12.021326Z"
    }
   },
   "cell_type": "code",
   "source": [
    "s = \"\"\"Hello\n",
    "World\"\"\"\n",
    "print(s)"
   ],
   "id": "9505b645dba12133",
   "outputs": [
    {
     "name": "stdout",
     "output_type": "stream",
     "text": [
      "Hello\n",
      "World\n"
     ]
    }
   ],
   "execution_count": 215
  },
  {
   "metadata": {
    "ExecuteTime": {
     "end_time": "2025-02-28T15:16:12.135587Z",
     "start_time": "2025-02-28T15:16:12.127180Z"
    }
   },
   "cell_type": "code",
   "source": [
    "s = 'Hello World.'\n",
    "print(s)"
   ],
   "id": "f632cceb01934f9a",
   "outputs": [
    {
     "name": "stdout",
     "output_type": "stream",
     "text": [
      "Hello World.\n"
     ]
    }
   ],
   "execution_count": 216
  },
  {
   "metadata": {
    "ExecuteTime": {
     "end_time": "2025-02-28T15:16:12.234194Z",
     "start_time": "2025-02-28T15:16:12.227642Z"
    }
   },
   "cell_type": "code",
   "source": "print(type(s))",
   "id": "84d240eee51537a",
   "outputs": [
    {
     "name": "stdout",
     "output_type": "stream",
     "text": [
      "<class 'str'>\n"
     ]
    }
   ],
   "execution_count": 217
  },
  {
   "metadata": {},
   "cell_type": "markdown",
   "source": [
    "- Les caractères d’échappement\n",
    "\n",
    "\\\\, \\n, \\t, \\v, \\’, \\\"\n",
    "backslash, retour chariot, tabulation horizontale, tabulation verticale, simple quote, double quote\n",
    "\n",
    "- Chaînes brutes"
   ],
   "id": "595cae3c104681e0"
  },
  {
   "metadata": {
    "ExecuteTime": {
     "end_time": "2025-02-28T15:16:12.320027Z",
     "start_time": "2025-02-28T15:16:12.315344Z"
    }
   },
   "cell_type": "code",
   "source": [
    "s = 'c:\\net\\toto.txt'\n",
    "print(s)\n",
    "s = r'c:\\net\\toto.txt'\n",
    "print(s)"
   ],
   "id": "9e2f8a7e05b3f176",
   "outputs": [
    {
     "name": "stdout",
     "output_type": "stream",
     "text": [
      "c:\n",
      "et\toto.txt\n",
      "c:\\net\\toto.txt\n"
     ]
    }
   ],
   "execution_count": 218
  },
  {
   "metadata": {},
   "cell_type": "markdown",
   "source": [
    "Le type **str** est **non mutable**.\n",
    "\n",
    "##### Les **Opérateurs** sur les types de base\n",
    "\n",
    "Les symbols  ` +, -, /, \\*, \\*\\*, //, % ` exécutent des operations en fonction du typage des variables .\n",
    "Opérations de base et Opérateurs logiques\n",
    "\n",
    "- Affectation :and, or, not.\n",
    "\n",
    "\n",
    "Opérateurs logiques\n",
    "Affectation :and, or, not."
   ],
   "id": "9572b1001a9cb475"
  },
  {
   "metadata": {
    "ExecuteTime": {
     "end_time": "2025-02-28T15:16:12.393697Z",
     "start_time": "2025-02-28T15:16:12.389640Z"
    }
   },
   "cell_type": "code",
   "source": [
    "a = 4\n",
    "a, b = 6, True\n",
    "a = b = 8"
   ],
   "id": "4feca6b0e4c3e109",
   "outputs": [],
   "execution_count": 219
  },
  {
   "metadata": {},
   "cell_type": "markdown",
   "source": "- Affichage dans l’interpreteur :",
   "id": "f41ed6660c0a8697"
  },
  {
   "metadata": {
    "ExecuteTime": {
     "end_time": "2025-02-28T15:16:12.467556Z",
     "start_time": "2025-02-28T15:16:12.461308Z"
    }
   },
   "cell_type": "code",
   "source": "a",
   "id": "eed5e4ec2a3d518",
   "outputs": [
    {
     "data": {
      "text/plain": [
       "8"
      ]
     },
     "execution_count": 220,
     "metadata": {},
     "output_type": "execute_result"
    }
   ],
   "execution_count": 220
  },
  {
   "metadata": {
    "ExecuteTime": {
     "end_time": "2025-02-28T15:16:12.572194Z",
     "start_time": "2025-02-28T15:16:12.565056Z"
    }
   },
   "cell_type": "code",
   "source": [
    "# Exemple addition des chaines de caractères\n",
    "str(var1) + var3"
   ],
   "id": "3f16af1f-17ed-49b5-b94c-6d78f0971dcd",
   "outputs": [
    {
     "data": {
      "text/plain": [
       "'10Python'"
      ]
     },
     "execution_count": 221,
     "metadata": {},
     "output_type": "execute_result"
    }
   ],
   "execution_count": 221
  },
  {
   "metadata": {
    "ExecuteTime": {
     "end_time": "2025-02-28T15:16:12.667022Z",
     "start_time": "2025-02-28T15:16:12.662162Z"
    }
   },
   "cell_type": "code",
   "source": "# Multiplication une chanie de caratères pour une valeur entièrevar3 * var1",
   "id": "94d95031-e2fe-466a-b120-68b43c3afed5",
   "outputs": [
    {
     "data": {
      "text/plain": [
       "'PythonPythonPythonPythonPythonPythonPythonPythonPythonPython'"
      ]
     },
     "execution_count": 222,
     "metadata": {},
     "output_type": "execute_result"
    }
   ],
   "execution_count": 222
  },
  {
   "metadata": {
    "ExecuteTime": {
     "end_time": "2025-02-28T15:16:12.722513Z",
     "start_time": "2025-02-28T15:16:12.715729Z"
    }
   },
   "cell_type": "code",
   "source": [
    "# Addition de chiffres\n",
    "var1 + var2"
   ],
   "id": "75e7d8a5-2884-40cb-af17-4e8b0ebb1c9f",
   "outputs": [
    {
     "data": {
      "text/plain": [
       "13.5"
      ]
     },
     "execution_count": 223,
     "metadata": {},
     "output_type": "execute_result"
    }
   ],
   "execution_count": 223
  },
  {
   "metadata": {
    "ExecuteTime": {
     "end_time": "2025-02-28T15:16:12.829604Z",
     "start_time": "2025-02-28T15:16:12.822027Z"
    }
   },
   "cell_type": "code",
   "source": [
    "# Division\n",
    "10 / 2.2"
   ],
   "id": "d34d0f05-baf2-4c5d-adfa-ffb12d849978",
   "outputs": [
    {
     "data": {
      "text/plain": [
       "4.545454545454545"
      ]
     },
     "execution_count": 224,
     "metadata": {},
     "output_type": "execute_result"
    }
   ],
   "execution_count": 224
  },
  {
   "metadata": {
    "ExecuteTime": {
     "end_time": "2025-02-28T15:16:12.916190Z",
     "start_time": "2025-02-28T15:16:12.909030Z"
    }
   },
   "cell_type": "code",
   "source": [
    "# Flor division - division que returne la partie\n",
    "# entier resultat de la division\n",
    "10 // 2.2"
   ],
   "id": "da5a1a55-4afe-4ba5-b1aa-aa616ec732b1",
   "outputs": [
    {
     "data": {
      "text/plain": [
       "4.0"
      ]
     },
     "execution_count": 225,
     "metadata": {},
     "output_type": "execute_result"
    }
   ],
   "execution_count": 225
  },
  {
   "metadata": {
    "ExecuteTime": {
     "end_time": "2025-02-28T15:16:13.002822Z",
     "start_time": "2025-02-28T15:16:12.995289Z"
    }
   },
   "cell_type": "code",
   "source": [
    "# Modulo - Elle renvoie le reste de la division de l'opérande de gauche par l'opérande de droite.\n",
    "10.5 % 2"
   ],
   "id": "eb387545-b2cb-43ba-808f-d29284c83060",
   "outputs": [
    {
     "data": {
      "text/plain": [
       "0.5"
      ]
     },
     "execution_count": 226,
     "metadata": {},
     "output_type": "execute_result"
    }
   ],
   "execution_count": 226
  },
  {
   "metadata": {},
   "cell_type": "markdown",
   "source": [
    "## 4. Langage orienté objet et définitions\n",
    "\n",
    "Pour Python, un `Objet` est une entité qui, pour exister dans la mémoire de l'ordinateur, aura trois caractéristiques: Type, valeur et identité.\n",
    "\n",
    "Chaque objet est issu d'une classe. La classe, pour sa part, est l'englobement de certains attributs et méthodes pour réaliser une tache spécifique. On peut imaginer une classe comme une usine créateur des objets, ainsi quand les objets sont créés ils heritent des caractéristiques que l'usine leur a confié.\n",
    "\n",
    "### Précision de vocabulaire: Les objets, les classes, les types et les instances\n",
    "\n",
    "- En python, on nomme **objet** les données manipulées ainsi que les\n",
    "relations définies entre elles. C’est un concept abstrait.\n",
    "- Une **classe** (définie dans le code par le mot clef class) est une famille\n",
    "d’éléments possédant des caractéristiques (attributs et méthodes) qui lui\n",
    "sont propres. Exemple : la classe des entiers, la classe des chaînes de\n",
    "caractères ou toute autre famille d’éléments définie par le développeur\n",
    "lui-même (la classe des utilisateurs du site web...).\n",
    "- Depuis python 3, le **type** et la classe sont conceptuellement identique (ce\n",
    "n’était pas le cas avant). Dans la pratique le type d’une donnée est\n",
    "associé au nom de sa classe.\n",
    "- Une **instance** d’une classe C est un objet en mémoire dont le type est C.\n",
    "Par exemple quand on défini une variable a = 5, a est une instance de\n",
    "la classe des entiers qui va être stockée en mémoire à l’exécution avec\n",
    "sa valeur 5. On dit que a est de type entier.\n"
   ],
   "id": "3ebde99318bcf42e"
  },
  {
   "metadata": {
    "ExecuteTime": {
     "end_time": "2025-02-28T15:16:13.094963Z",
     "start_time": "2025-02-28T15:16:13.089Z"
    }
   },
   "cell_type": "code",
   "source": [
    "#Pour exemple on va a creer un objet appelé chaine1:\n",
    "chaine1 = \"Python\"\n",
    "\n",
    "#ou ses caractéristiques associés sont:\n",
    "print('type=', type(chaine1))\n",
    "print(\"valeur= \", chaine1)\n",
    "print(\"identity=\", id(chaine1))"
   ],
   "id": "8a59db11-1b6f-474d-a671-8a21912a480c",
   "outputs": [
    {
     "name": "stdout",
     "output_type": "stream",
     "text": [
      "type= <class 'str'>\n",
      "valeur=  Python\n",
      "identity= 9739968\n"
     ]
    }
   ],
   "execution_count": 227
  },
  {
   "metadata": {
    "tags": [],
    "ExecuteTime": {
     "end_time": "2025-02-28T15:16:13.184953Z",
     "start_time": "2025-02-28T15:16:13.176313Z"
    }
   },
   "cell_type": "code",
   "source": "dir(chaine1)",
   "id": "da7e07c1-3f70-442b-92a8-0d1dec096776",
   "outputs": [
    {
     "data": {
      "text/plain": [
       "['__add__',\n",
       " '__class__',\n",
       " '__contains__',\n",
       " '__delattr__',\n",
       " '__dir__',\n",
       " '__doc__',\n",
       " '__eq__',\n",
       " '__format__',\n",
       " '__ge__',\n",
       " '__getattribute__',\n",
       " '__getitem__',\n",
       " '__getnewargs__',\n",
       " '__getstate__',\n",
       " '__gt__',\n",
       " '__hash__',\n",
       " '__init__',\n",
       " '__init_subclass__',\n",
       " '__iter__',\n",
       " '__le__',\n",
       " '__len__',\n",
       " '__lt__',\n",
       " '__mod__',\n",
       " '__mul__',\n",
       " '__ne__',\n",
       " '__new__',\n",
       " '__reduce__',\n",
       " '__reduce_ex__',\n",
       " '__repr__',\n",
       " '__rmod__',\n",
       " '__rmul__',\n",
       " '__setattr__',\n",
       " '__sizeof__',\n",
       " '__str__',\n",
       " '__subclasshook__',\n",
       " 'capitalize',\n",
       " 'casefold',\n",
       " 'center',\n",
       " 'count',\n",
       " 'encode',\n",
       " 'endswith',\n",
       " 'expandtabs',\n",
       " 'find',\n",
       " 'format',\n",
       " 'format_map',\n",
       " 'index',\n",
       " 'isalnum',\n",
       " 'isalpha',\n",
       " 'isascii',\n",
       " 'isdecimal',\n",
       " 'isdigit',\n",
       " 'isidentifier',\n",
       " 'islower',\n",
       " 'isnumeric',\n",
       " 'isprintable',\n",
       " 'isspace',\n",
       " 'istitle',\n",
       " 'isupper',\n",
       " 'join',\n",
       " 'ljust',\n",
       " 'lower',\n",
       " 'lstrip',\n",
       " 'maketrans',\n",
       " 'partition',\n",
       " 'removeprefix',\n",
       " 'removesuffix',\n",
       " 'replace',\n",
       " 'rfind',\n",
       " 'rindex',\n",
       " 'rjust',\n",
       " 'rpartition',\n",
       " 'rsplit',\n",
       " 'rstrip',\n",
       " 'split',\n",
       " 'splitlines',\n",
       " 'startswith',\n",
       " 'strip',\n",
       " 'swapcase',\n",
       " 'title',\n",
       " 'translate',\n",
       " 'upper',\n",
       " 'zfill']"
      ]
     },
     "execution_count": 228,
     "metadata": {},
     "output_type": "execute_result"
    }
   ],
   "execution_count": 228
  },
  {
   "metadata": {},
   "cell_type": "markdown",
   "source": "Aussi, dans le moment de sa création, plusieurs methodes on été alouées",
   "id": "62529536-c597-4d11-95ee-17998f3519ef"
  },
  {
   "metadata": {},
   "cell_type": "markdown",
   "source": [
    "### Petit détail sur les dénominations des méthodes et variables\n",
    "* **\\_var**: La convention de dénomination indiquant le nom est destinée à un usage interne. Une astuce pour les programmeurs et non appliquée par les programmeurs.\n",
    "* **\\_\\_var**: déclenche la modification du nom lorsqu'il est utilisé dans le contexte de la classe. Appliqué par l'interpréteur Python.\n",
    "* **var\\_**: Utilisé par convention pour éviter les conflits de dénomination avec les mots-clés Python.\n",
    "* **\\_\\_var\\_\\_**: indique les méthodes spéciales définies par le langage Python.\n",
    "* **\\_**: utilisé comme nom pour les variables temporaires."
   ],
   "id": "3c5f8d0c-7d21-474b-8167-177c7e5f70fa"
  },
  {
   "metadata": {
    "ExecuteTime": {
     "end_time": "2025-02-28T15:16:13.244333Z",
     "start_time": "2025-02-28T15:16:13.237022Z"
    }
   },
   "cell_type": "code",
   "source": [
    "# on utilise une méthode de la classe str :\n",
    "chaine1.isnumeric()"
   ],
   "id": "2832f8f5-ab57-49d6-85dd-4fecd7b65e51",
   "outputs": [
    {
     "data": {
      "text/plain": [
       "False"
      ]
     },
     "execution_count": 229,
     "metadata": {},
     "output_type": "execute_result"
    }
   ],
   "execution_count": 229
  },
  {
   "metadata": {},
   "cell_type": "markdown",
   "source": [
    "<div class=\"alert alert-block alert-info\">\n",
    "<b>objet.function():</b> Efectue un opération/ calcul d'une valeur<br>\n",
    "<b>objet.atribute:</b> Fait appel à une valeur enregistrée\n",
    "</div>"
   ],
   "id": "7e5b9e6d-cf84-46dc-86e2-2204cd8fa48a"
  },
  {
   "metadata": {
    "ExecuteTime": {
     "end_time": "2025-02-28T15:16:13.346068Z",
     "start_time": "2025-02-28T15:16:13.340876Z"
    }
   },
   "cell_type": "code",
   "source": [
    "# Code ici\n",
    "print(chaine1.upper())"
   ],
   "id": "218e6333-3b52-4567-bdab-5cd2e77c84fe",
   "outputs": [
    {
     "name": "stdout",
     "output_type": "stream",
     "text": [
      "PYTHON\n"
     ]
    }
   ],
   "execution_count": 230
  },
  {
   "metadata": {},
   "cell_type": "markdown",
   "source": "##### Expressions formatées",
   "id": "f4f664b4ed7e7999"
  },
  {
   "metadata": {
    "ExecuteTime": {
     "end_time": "2025-02-28T15:16:13.412622Z",
     "start_time": "2025-02-28T15:16:13.407956Z"
    }
   },
   "cell_type": "code",
   "source": [
    "# \"C-like\" notation :\n",
    "age = 35\n",
    "taille = 1.79\n",
    "s = \"Paul a %d ans et mesure %.2f mètres.\" % (age, taille)\n",
    "print(s)"
   ],
   "id": "e18351b33d8a5ac0",
   "outputs": [
    {
     "name": "stdout",
     "output_type": "stream",
     "text": [
      "Paul a 35 ans et mesure 1.79 mètres.\n"
     ]
    }
   ],
   "execution_count": 231
  },
  {
   "metadata": {
    "ExecuteTime": {
     "end_time": "2025-02-28T15:16:13.473915Z",
     "start_time": "2025-02-28T15:16:13.468837Z"
    }
   },
   "cell_type": "code",
   "source": [
    "# L’opérateur format :\n",
    "s = \"Paul a {0:d} ans et mesure {1:.2f} mètres.\"\n",
    "s = s.format(age, taille)\n",
    "print(s)"
   ],
   "id": "74c4ef4ee5f8e9ee",
   "outputs": [
    {
     "name": "stdout",
     "output_type": "stream",
     "text": [
      "Paul a 35 ans et mesure 1.79 mètres.\n"
     ]
    }
   ],
   "execution_count": 232
  },
  {
   "metadata": {
    "ExecuteTime": {
     "end_time": "2025-02-28T15:16:13.610220Z",
     "start_time": "2025-02-28T15:16:13.605021Z"
    }
   },
   "cell_type": "code",
   "source": [
    "s = \"Paul a {a:d} ans et mesure {t:.2f} mètres.\"\n",
    "s = s.format(a=age, t=taille)\n",
    "print(s)"
   ],
   "id": "a23d847e431b5ec2",
   "outputs": [
    {
     "name": "stdout",
     "output_type": "stream",
     "text": [
      "Paul a 35 ans et mesure 1.79 mètres.\n"
     ]
    }
   ],
   "execution_count": 233
  },
  {
   "metadata": {
    "ExecuteTime": {
     "end_time": "2025-02-28T15:16:13.780683Z",
     "start_time": "2025-02-28T15:16:13.775476Z"
    }
   },
   "cell_type": "code",
   "source": [
    "# Par exemple:\n",
    "# 1) f au debut de la phrase\n",
    "print(f'Here {3}, I have a number')\n",
    "# 2) . format\n",
    "print('Here {}, I have a number'.format(3))\n",
    "# 3) %d decimal, % f float %s string\n",
    "print( 'Here %d, I have a number'%3)   #notation similiaire à MATLAB"
   ],
   "id": "f7edefe2-efba-4385-ad13-625d038368ac",
   "outputs": [
    {
     "name": "stdout",
     "output_type": "stream",
     "text": [
      "Here 3, I have a number\n",
      "Here 3, I have a number\n",
      "Here 3, I have a number\n"
     ]
    }
   ],
   "execution_count": 234
  },
  {
   "metadata": {
    "tags": []
   },
   "cell_type": "markdown",
   "source": [
    "En Python les commentaires sont indiqués par le signe `#`.\n",
    "Ils peuvent être sur une ligne complète ou après le code.\n",
    "\n",
    "Par exemple:"
   ],
   "id": "743aaf13-b5af-4079-81f7-f6bf5060f7e4"
  },
  {
   "metadata": {
    "ExecuteTime": {
     "end_time": "2025-02-28T15:16:13.874828Z",
     "start_time": "2025-02-28T15:16:13.869674Z"
    }
   },
   "cell_type": "code",
   "source": [
    "# Ici j'ai une commentaire\n",
    "A = 1 # A est la variable qui me plu\n",
    "# B = 3 # Maintenat B est une commentarire"
   ],
   "id": "514170c2-afbf-46c5-89e5-05e8aa4342cc",
   "outputs": [],
   "execution_count": 235
  },
  {
   "metadata": {},
   "cell_type": "markdown",
   "source": " #### [Go to index](#Index01)",
   "id": "1955418609764ab0"
  },
  {
   "metadata": {},
   "cell_type": "markdown",
   "source": "## 4. Les opérateurs",
   "id": "664c1e19cd7a3cac"
  },
  {
   "metadata": {},
   "cell_type": "markdown",
   "source": [
    "Un opérateur est un symbole qui nous permettre de réaliser une opération.\n",
    "\n",
    "Opérateur |     Signification\n",
    "------------ | -------------\n",
    "x == y   | x est égal à y\n",
    "x != y   |x est différent de y\n",
    "x > y   | x est plus grand que y\n",
    "x < y |x est plus petit que y\n",
    "x >= y | x est plus grand ou égal à y\n",
    "x <= y |x est plus petit ou égal à y\n",
    "x `or` y | OU logique\n",
    "x `and` y | ET logique\n",
    "`not` x | NON logique"
   ],
   "id": "44419dd5-d07a-4a63-85bf-3a78d4f9a969"
  },
  {
   "metadata": {
    "ExecuteTime": {
     "end_time": "2025-02-28T15:16:13.943506Z",
     "start_time": "2025-02-28T15:16:13.937516Z"
    }
   },
   "cell_type": "code",
   "source": [
    "# Exemple 1\n",
    "a = True\n",
    "if not a :\n",
    "    print(\"La valeur booléenne de a est True\")"
   ],
   "id": "c9e8085f-40b2-4e7c-ab57-db8c51728389",
   "outputs": [],
   "execution_count": 236
  },
  {
   "metadata": {
    "ExecuteTime": {
     "end_time": "2025-02-28T15:16:14.003174Z",
     "start_time": "2025-02-28T15:16:13.994966Z"
    }
   },
   "cell_type": "code",
   "source": [
    "# Exemple 2\n",
    "a = 10\n",
    "b = 10\n",
    "c = 0\n",
    "\n",
    "if a > 0 or b > 0:\n",
    "    print(\"L'un ou l'autre des nombres est supérieur à 0\")"
   ],
   "id": "1ab17c79-4a42-4dee-90b4-bea796ec43dc",
   "outputs": [
    {
     "name": "stdout",
     "output_type": "stream",
     "text": [
      "L'un ou l'autre des nombres est supérieur à 0\n"
     ]
    }
   ],
   "execution_count": 237
  },
  {
   "metadata": {
    "tags": [],
    "ExecuteTime": {
     "end_time": "2025-02-28T15:16:14.057258Z",
     "start_time": "2025-02-28T15:16:14.053168Z"
    }
   },
   "cell_type": "code",
   "source": [
    "#Exemple 3\n",
    "if a > 0 and b > 0:\n",
    "    print(\"Les valeurs sont supérieurs à 0\")"
   ],
   "id": "7cea6725-fb0b-44fe-ad3c-782d63f4c793",
   "outputs": [
    {
     "name": "stdout",
     "output_type": "stream",
     "text": [
      "Les valeurs sont supérieurs à 0\n"
     ]
    }
   ],
   "execution_count": 238
  },
  {
   "metadata": {
    "ExecuteTime": {
     "end_time": "2025-02-28T15:16:14.187271Z",
     "start_time": "2025-02-28T15:16:14.182819Z"
    }
   },
   "cell_type": "code",
   "source": [
    "#Exemple 4\n",
    "if a > 0 and b > 0:\n",
    "    print(\"Les valeurs sont supérieurs 0\")"
   ],
   "id": "0267d360-5303-4882-b493-4d6c55c42cf9",
   "outputs": [
    {
     "name": "stdout",
     "output_type": "stream",
     "text": [
      "Les valeurs sont supérieurs 0\n"
     ]
    }
   ],
   "execution_count": 239
  },
  {
   "metadata": {
    "ExecuteTime": {
     "end_time": "2025-02-28T15:16:14.283196Z",
     "start_time": "2025-02-28T15:16:14.275394Z"
    }
   },
   "cell_type": "code",
   "source": [
    "#Exemple 5\n",
    "a = True\n",
    "\n",
    "if not a:\n",
    "    print(\"La valeur booléenne de a est True\")"
   ],
   "id": "e7e42ef7-7e0c-4ad5-9558-63a6500d1e69",
   "outputs": [],
   "execution_count": 240
  },
  {
   "metadata": {
    "tags": []
   },
   "cell_type": "markdown",
   "source": " #### [Go to index](#Index01)",
   "id": "615fac84-4371-4741-a1b9-f3d02a9483e3"
  },
  {
   "metadata": {
    "tags": []
   },
   "cell_type": "markdown",
   "source": [
    "## 5. Les structures des données\n",
    "Les trois principaux structures des données sont: les tuples, les listes et les dictionnaires.  Ci-àpres, on nommera leurs principales caracteristiques.\n",
    "\n",
    "\n",
    "#### Les `tuples` ou n-uplets\n",
    "Ils sont toujours affichés entre parenthèses, Les n-uplets sont `immuables` et contiennent souvent des séquences hétérogènes d’éléments qui sont accédés par index ou « dissociation ».\n",
    "\n",
    "le type **tuple** est **non mutable**."
   ],
   "id": "44ccc156-f48e-4838-924a-7180f52349fd"
  },
  {
   "metadata": {
    "ExecuteTime": {
     "end_time": "2025-02-28T15:16:14.347116Z",
     "start_time": "2025-02-28T15:16:14.339374Z"
    }
   },
   "cell_type": "code",
   "source": [
    " # on définit un tuple avec ()\n",
    "tup1 = (1, True, 9, 9)\n",
    "tup2 = (5, 6)"
   ],
   "id": "4d0a36fc-c5d2-4f3b-831e-803ee1eed015",
   "outputs": [],
   "execution_count": 241
  },
  {
   "metadata": {
    "ExecuteTime": {
     "end_time": "2025-02-28T15:16:14.425078Z",
     "start_time": "2025-02-28T15:16:14.418668Z"
    }
   },
   "cell_type": "code",
   "source": [
    "tup3 = tup1 + tup2\n",
    "print(tup3)"
   ],
   "id": "9eeeaed9-90f6-47fd-9ccf-1e49643672fa",
   "outputs": [
    {
     "name": "stdout",
     "output_type": "stream",
     "text": [
      "(1, True, 9, 9, 5, 6)\n"
     ]
    }
   ],
   "execution_count": 242
  },
  {
   "metadata": {
    "ExecuteTime": {
     "end_time": "2025-02-28T15:16:14.475039Z",
     "start_time": "2025-02-28T15:16:14.468446Z"
    }
   },
   "cell_type": "code",
   "source": [
    "# acces par index\n",
    "tup3[2]"
   ],
   "id": "6ca802eb-6420-47eb-a017-1a2bbc971cff",
   "outputs": [
    {
     "data": {
      "text/plain": [
       "9"
      ]
     },
     "execution_count": 243,
     "metadata": {},
     "output_type": "execute_result"
    }
   ],
   "execution_count": 243
  },
  {
   "metadata": {
    "ExecuteTime": {
     "end_time": "2025-02-28T15:16:14.572746Z",
     "start_time": "2025-02-28T15:16:14.567508Z"
    }
   },
   "cell_type": "code",
   "source": [
    "# on accède à un élément d'un tuple (et de n'importe quelle structure) avec []\n",
    "tup1[0] # premier element"
   ],
   "id": "0754be11-cc8b-4d33-b514-3dfbd172ffe0",
   "outputs": [
    {
     "data": {
      "text/plain": [
       "1"
      ]
     },
     "execution_count": 244,
     "metadata": {},
     "output_type": "execute_result"
    }
   ],
   "execution_count": 244
  },
  {
   "metadata": {
    "ExecuteTime": {
     "end_time": "2025-02-28T15:16:14.630909Z",
     "start_time": "2025-02-28T15:16:14.624002Z"
    }
   },
   "cell_type": "code",
   "source": "tup1[1:3] # slicing",
   "id": "da26f9ad-d727-4124-a2e0-f4ad09a2a638",
   "outputs": [
    {
     "data": {
      "text/plain": [
       "(True, 9)"
      ]
     },
     "execution_count": 245,
     "metadata": {},
     "output_type": "execute_result"
    }
   ],
   "execution_count": 245
  },
  {
   "metadata": {
    "ExecuteTime": {
     "end_time": "2025-02-28T15:16:14.735844Z",
     "start_time": "2025-02-28T15:16:14.729528Z"
    }
   },
   "cell_type": "code",
   "source": [
    "# acces par dissociation\n",
    "a, b = tup2\n",
    "print(f'la variable a à comme valeur {a} et la variable b vaut {b}')"
   ],
   "id": "3b6a5cea-83a4-412a-9e4c-ef1ac592256d",
   "outputs": [
    {
     "name": "stdout",
     "output_type": "stream",
     "text": [
      "la variable a à comme valeur 5 et la variable b vaut 6\n"
     ]
    }
   ],
   "execution_count": 246
  },
  {
   "metadata": {},
   "cell_type": "markdown",
   "source": " #### [Go to index](#Index01)",
   "id": "a3fdc5ac-8fdf-4642-ba70-f814279d0023"
  },
  {
   "metadata": {
    "tags": []
   },
   "cell_type": "markdown",
   "source": [
    "#### Les `listes`\n",
    "Les listes sont définies avec des **[crochet carré]** et peuvent être constitués de tous les types d'objets, ils sont mutable et les méthodes son apliquées `inplace`.\n",
    "\n",
    "le type **list** est **mutable**."
   ],
   "id": "b1fc3129-ecd2-48c2-b207-fc2dec8f6ebc"
  },
  {
   "metadata": {
    "ExecuteTime": {
     "end_time": "2025-02-28T15:16:14.827054Z",
     "start_time": "2025-02-28T15:16:14.822730Z"
    }
   },
   "cell_type": "code",
   "source": [
    "# Code ici\n",
    "list1 = [3, 5, 6, True]"
   ],
   "id": "e58134aa-93a0-4da7-9600-9273d6571ec9",
   "outputs": [],
   "execution_count": 247
  },
  {
   "metadata": {
    "ExecuteTime": {
     "end_time": "2025-02-28T15:16:14.880485Z",
     "start_time": "2025-02-28T15:16:14.873673Z"
    }
   },
   "cell_type": "code",
   "source": [
    "# Code ici\n",
    "list1.append(False)  #ajouter valeur"
   ],
   "id": "84f46542-9113-44d4-b373-a907ef82f7ce",
   "outputs": [],
   "execution_count": 248
  },
  {
   "metadata": {
    "ExecuteTime": {
     "end_time": "2025-02-28T15:16:14.959999Z",
     "start_time": "2025-02-28T15:16:14.953669Z"
    }
   },
   "cell_type": "code",
   "source": [
    "# Code ici\n",
    "print(list1)"
   ],
   "id": "2c65a61f-9de5-4fa2-8b18-e88770de80ad",
   "outputs": [
    {
     "name": "stdout",
     "output_type": "stream",
     "text": [
      "[3, 5, 6, True, False]\n"
     ]
    }
   ],
   "execution_count": 249
  },
  {
   "metadata": {},
   "cell_type": "markdown",
   "source": "On accède à un élément d'une liste en utilisant **[]**:",
   "id": "bc484f32-5127-4d75-95ce-fc94044c853a"
  },
  {
   "metadata": {
    "ExecuteTime": {
     "end_time": "2025-02-28T15:16:15.046277Z",
     "start_time": "2025-02-28T15:16:15.039639Z"
    }
   },
   "cell_type": "code",
   "source": "list1[0]",
   "id": "e08eb03aec9c7fb",
   "outputs": [
    {
     "data": {
      "text/plain": [
       "3"
      ]
     },
     "execution_count": 250,
     "metadata": {},
     "output_type": "execute_result"
    }
   ],
   "execution_count": 250
  },
  {
   "metadata": {
    "ExecuteTime": {
     "end_time": "2025-02-28T15:16:15.104499Z",
     "start_time": "2025-02-28T15:16:15.098163Z"
    }
   },
   "cell_type": "code",
   "source": [
    "# Code ici\n",
    "list1.remove(5)"
   ],
   "id": "37624510-d6eb-470f-a341-289b287f9442",
   "outputs": [],
   "execution_count": 251
  },
  {
   "metadata": {
    "ExecuteTime": {
     "end_time": "2025-02-28T15:16:15.178654Z",
     "start_time": "2025-02-28T15:16:15.172702Z"
    }
   },
   "cell_type": "code",
   "source": "list1",
   "id": "7d98cde7-2056-4a2f-86ac-e87f1083f2ff",
   "outputs": [
    {
     "data": {
      "text/plain": [
       "[3, 6, True, False]"
      ]
     },
     "execution_count": 252,
     "metadata": {},
     "output_type": "execute_result"
    }
   ],
   "execution_count": 252
  },
  {
   "metadata": {
    "ExecuteTime": {
     "end_time": "2025-02-28T15:16:15.322667Z",
     "start_time": "2025-02-28T15:16:15.317928Z"
    }
   },
   "cell_type": "code",
   "source": "list1 = list1[:-1] #eliminer valeurs",
   "id": "0b59d1e6-b778-4ec6-9319-13153323aabb",
   "outputs": [],
   "execution_count": 253
  },
  {
   "metadata": {
    "tags": [],
    "ExecuteTime": {
     "end_time": "2025-02-28T15:16:15.374801Z",
     "start_time": "2025-02-28T15:16:15.369512Z"
    }
   },
   "cell_type": "code",
   "source": [
    "list1.reverse()\n",
    "print(list1)"
   ],
   "id": "a1e6c063-f06d-420f-bcb4-372c13ce30f2",
   "outputs": [
    {
     "name": "stdout",
     "output_type": "stream",
     "text": [
      "[True, 6, 3]\n"
     ]
    }
   ],
   "execution_count": 254
  },
  {
   "metadata": {
    "ExecuteTime": {
     "end_time": "2025-02-28T15:16:15.434756Z",
     "start_time": "2025-02-28T15:16:15.427531Z"
    }
   },
   "cell_type": "code",
   "source": [
    "# Code ici\n",
    "len(list1)"
   ],
   "id": "04281eec-9867-43f7-9524-6c2914220a52",
   "outputs": [
    {
     "data": {
      "text/plain": [
       "3"
      ]
     },
     "execution_count": 255,
     "metadata": {},
     "output_type": "execute_result"
    }
   ],
   "execution_count": 255
  },
  {
   "metadata": {
    "ExecuteTime": {
     "end_time": "2025-02-28T15:16:15.611322Z",
     "start_time": "2025-02-28T15:16:15.605171Z"
    }
   },
   "cell_type": "code",
   "source": [
    "# On peut facilement accéder à plusieurs éléments de différentes façons\n",
    "list1[0:2] == list1[:2]"
   ],
   "id": "ca191052-681a-4936-a7dc-ef35397b026f",
   "outputs": [
    {
     "data": {
      "text/plain": [
       "True"
      ]
     },
     "execution_count": 256,
     "metadata": {},
     "output_type": "execute_result"
    }
   ],
   "execution_count": 256
  },
  {
   "metadata": {
    "tags": [],
    "ExecuteTime": {
     "end_time": "2025-02-28T15:16:15.755617Z",
     "start_time": "2025-02-28T15:16:15.750514Z"
    }
   },
   "cell_type": "code",
   "source": [
    "# Extraire le dernier élément\n",
    "list1[-1]"
   ],
   "id": "ad2280d9-3c26-4f36-9f51-8bd97b148f5f",
   "outputs": [
    {
     "data": {
      "text/plain": [
       "3"
      ]
     },
     "execution_count": 257,
     "metadata": {},
     "output_type": "execute_result"
    }
   ],
   "execution_count": 257
  },
  {
   "metadata": {
    "ExecuteTime": {
     "end_time": "2025-02-28T15:16:15.811635Z",
     "start_time": "2025-02-28T15:16:15.806398Z"
    }
   },
   "cell_type": "code",
   "source": [
    "# Extraire les 3 derniers éléments\n",
    "list1[-3:]"
   ],
   "id": "45453292-badb-4e86-a9be-40fff8acd9de",
   "outputs": [
    {
     "data": {
      "text/plain": [
       "[True, 6, 3]"
      ]
     },
     "execution_count": 258,
     "metadata": {},
     "output_type": "execute_result"
    }
   ],
   "execution_count": 258
  },
  {
   "metadata": {
    "ExecuteTime": {
     "end_time": "2025-02-28T15:16:15.966445Z",
     "start_time": "2025-02-28T15:16:15.960200Z"
    }
   },
   "cell_type": "code",
   "source": "3 in list1",
   "id": "d117c96f091a36d1",
   "outputs": [
    {
     "data": {
      "text/plain": [
       "True"
      ]
     },
     "execution_count": 259,
     "metadata": {},
     "output_type": "execute_result"
    }
   ],
   "execution_count": 259
  },
  {
   "metadata": {},
   "cell_type": "markdown",
   "source": [
    "Voici un exemple de liste avec des chaînes de caractères\n",
    "\n",
    "La liste possède de nombreuses méthodes, ici on utilise une inversion des éléments."
   ],
   "id": "cd837a80-8bb3-47a7-93c0-ec06a22041a2"
  },
  {
   "metadata": {
    "scrolled": true,
    "ExecuteTime": {
     "end_time": "2025-02-28T15:16:16.077934Z",
     "start_time": "2025-02-28T15:16:16.070716Z"
    }
   },
   "cell_type": "code",
   "source": [
    "liste_pays=[\"Chine\", \"Inde\", \"Etats-Unis\", \"France\", \"Espagne\", \"Suisse\"]\n",
    "print(liste_pays[:3])\n",
    "print(liste_pays[-3:])\n",
    "liste_pays.reverse()\n",
    "print(liste_pays)"
   ],
   "id": "8d320d46-1d3d-4c90-bf0c-2b0e8c5ecc82",
   "outputs": [
    {
     "name": "stdout",
     "output_type": "stream",
     "text": [
      "['Chine', 'Inde', 'Etats-Unis']\n",
      "['France', 'Espagne', 'Suisse']\n",
      "['Suisse', 'Espagne', 'France', 'Etats-Unis', 'Inde', 'Chine']\n"
     ]
    }
   ],
   "execution_count": 260
  },
  {
   "metadata": {},
   "cell_type": "markdown",
   "source": " #### [Go to index](#Index)",
   "id": "918bad23-5da1-4686-b756-9b3f3b230524"
  },
  {
   "metadata": {},
   "cell_type": "markdown",
   "source": [
    "\n",
    "**List comprehension** ou listes de compréhension sont des générateurs de listes qui utilisent des conditions et des boucles.\n",
    "\n",
    "Dans cet exemple, on va extraire le carré des éléments avec valeur pair de la list_init"
   ],
   "id": "a3e5b6b1-85b9-491f-b727-70f7cea6e625"
  },
  {
   "metadata": {
    "tags": [],
    "ExecuteTime": {
     "end_time": "2025-02-28T15:16:16.212599Z",
     "start_time": "2025-02-28T15:16:16.207538Z"
    }
   },
   "cell_type": "code",
   "source": [
    "# Code ici\n",
    "list_init = [4, 6, 7, 8]\n",
    "list_comp=[val**2 for val in list_init if val % 2 == 0]\n",
    "print(list_comp)"
   ],
   "id": "28d27d3d-fb13-4ab9-a031-d16adbc6231d",
   "outputs": [
    {
     "name": "stdout",
     "output_type": "stream",
     "text": [
      "[16, 36, 64]\n"
     ]
    }
   ],
   "execution_count": 261
  },
  {
   "metadata": {},
   "cell_type": "markdown",
   "source": [
    "#### Les `chaînes de caratères`\n",
    "On a trois façons équivalentes de définir des chaînes de caractères"
   ],
   "id": "09d2ad9f-9ef0-474a-9e92-603ab0b753ad"
  },
  {
   "metadata": {
    "ExecuteTime": {
     "end_time": "2025-02-28T15:16:16.307652Z",
     "start_time": "2025-02-28T15:16:16.302472Z"
    }
   },
   "cell_type": "code",
   "source": [
    "# Code ici\n",
    "chaine1 = \"Python  pour la recherche\"\n",
    "chaine2 = 'Python pour la recherche'\n",
    "chaine3 = \"\"\"Python pour la recherche\"\"\""
   ],
   "id": "96e83b20-2b32-4ebe-b58c-8ac3c054e315",
   "outputs": [],
   "execution_count": 262
  },
  {
   "metadata": {},
   "cell_type": "markdown",
   "source": "Une chaîne de caractères est en fait une liste spécifique dans laquelle chaque élément est un caractère\n",
   "id": "4164e4ff-0a15-4189-9a37-ca854fe15f32"
  },
  {
   "metadata": {
    "tags": [],
    "ExecuteTime": {
     "end_time": "2025-02-28T15:16:16.436265Z",
     "start_time": "2025-02-28T15:16:16.430851Z"
    }
   },
   "cell_type": "code",
   "source": [
    "# Code ici\n",
    "print(chaine1[:6])\n",
    "print(chaine1[7:14])\n",
    "print(chaine1[-9:])"
   ],
   "id": "5eddb679-0438-4cb4-87cc-353fafd48e52",
   "outputs": [
    {
     "name": "stdout",
     "output_type": "stream",
     "text": [
      "Python\n",
      " pour l\n",
      "recherche\n"
     ]
    }
   ],
   "execution_count": 263
  },
  {
   "metadata": {
    "tags": [],
    "ExecuteTime": {
     "end_time": "2025-02-28T15:16:16.513657Z",
     "start_time": "2025-02-28T15:16:16.508552Z"
    }
   },
   "cell_type": "code",
   "source": [
    "# on sépare les éléments en utilisant l’espace\n",
    "liste1 = chaine1.split()\n",
    "print(liste1)"
   ],
   "id": "89856631-d0c8-4270-a785-8f2b8cf58009",
   "outputs": [
    {
     "name": "stdout",
     "output_type": "stream",
     "text": [
      "['Python', 'pour', 'la', 'recherche']\n"
     ]
    }
   ],
   "execution_count": 264
  },
  {
   "metadata": {
    "ExecuteTime": {
     "end_time": "2025-02-28T15:16:16.572397Z",
     "start_time": "2025-02-28T15:16:16.566613Z"
    }
   },
   "cell_type": "code",
   "source": [
    "# on joint les éléments avec l’espace\n",
    "chaine1bis=\" \".join(liste1)\n",
    "print(chaine1bis)"
   ],
   "id": "a80456d1-4ca7-433a-8c8b-07a8893e0ed0",
   "outputs": [
    {
     "name": "stdout",
     "output_type": "stream",
     "text": [
      "Python pour la recherche\n"
     ]
    }
   ],
   "execution_count": 265
  },
  {
   "metadata": {},
   "cell_type": "markdown",
   "source": [
    "##### LE SLICING  **[ start : stop : step ]**\n",
    "\n",
    " <div class=\"alert alert-block alert-danger\">\n",
    "<b>Remarque</b> Attention la borne droite de la tranche est exclue.\n",
    "</div>"
   ],
   "id": "46e98d3a0023ae6d"
  },
  {
   "cell_type": "markdown",
   "id": "584283aa-ba04-4acd-824a-b58c060d7536",
   "metadata": {
    "tags": []
   },
   "source": [
    "#### Les `Sets`\n",
    "Les sets est une collection non ordonnées et non redondants (uniques) d'éléments.\n",
    "\n",
    "le type **set** est **mutable**."
   ]
  },
  {
   "cell_type": "code",
   "id": "16c563e1-900f-4446-a757-ecf48b204290",
   "metadata": {
    "ExecuteTime": {
     "end_time": "2025-02-28T15:16:16.641454Z",
     "start_time": "2025-02-28T15:16:16.635417Z"
    }
   },
   "source": [
    "# Code ici\n",
    "Liste3 = [1, 2, 2, 3, 3, 3, 3, 4, 5]\n",
    "set4 = set(Liste3)"
   ],
   "outputs": [],
   "execution_count": 266
  },
  {
   "cell_type": "code",
   "id": "098e2cce-a432-4ac7-95ad-e92efad48263",
   "metadata": {
    "ExecuteTime": {
     "end_time": "2025-02-28T15:16:16.715931Z",
     "start_time": "2025-02-28T15:16:16.711579Z"
    }
   },
   "source": [
    "print(set4)"
   ],
   "outputs": [
    {
     "name": "stdout",
     "output_type": "stream",
     "text": [
      "{1, 2, 3, 4, 5}\n"
     ]
    }
   ],
   "execution_count": 267
  },
  {
   "cell_type": "markdown",
   "id": "31079c84-de77-4957-855f-6b5a61528b9e",
   "metadata": {},
   "source": [
    "#### Les `dictionnaires`\n",
    "Les dictionnaires permettent de stocker des éléments en utilisant un système de clés et de valeurs, et se definent par **{ }**.<br>\n",
    "clé : inmutable<br> \n",
    "valeur: mutable <br>\n",
    "\n",
    "le type **dict** est **mutable**."
   ]
  },
  {
   "cell_type": "code",
   "id": "49f4b010-c7d5-49cb-a619-68a6c4719280",
   "metadata": {
    "ExecuteTime": {
     "end_time": "2025-02-28T15:16:16.807892Z",
     "start_time": "2025-02-28T15:16:16.803805Z"
    }
   },
   "source": "dict1 = {\"cle1\": \"valeur1\", \"cle2\": \"valeur2\", \"cle3\": \"valeur3\"} # ******* Debug ******",
   "outputs": [],
   "execution_count": 268
  },
  {
   "cell_type": "code",
   "id": "843ffc64-184d-4c33-9865-b0672d764ff5",
   "metadata": {
    "ExecuteTime": {
     "end_time": "2025-02-28T15:16:16.861252Z",
     "start_time": "2025-02-28T15:16:16.855472Z"
    }
   },
   "source": [
    "# on peut aussi utiliser la fonction dict :\n",
    "dict1 = dict(cle1=\"valeur1\", cle2=\"valeur2\") # ******* Debug ******\n",
    "dict2 = dict([(\"cle1\", 1), (\"cle2\", 2), (\"cle3\", 3)]) # ******* Debug ******"
   ],
   "outputs": [],
   "execution_count": 269
  },
  {
   "cell_type": "code",
   "id": "e972a090-73ba-4c6d-bc4f-3582febc2dc6",
   "metadata": {
    "ExecuteTime": {
     "end_time": "2025-02-28T15:16:16.920552Z",
     "start_time": "2025-02-28T15:16:16.914755Z"
    }
   },
   "source": [
    "print(dict1)\n",
    "print(dict2)"
   ],
   "outputs": [
    {
     "name": "stdout",
     "output_type": "stream",
     "text": [
      "{'cle1': 'valeur1', 'cle2': 'valeur2'}\n",
      "{'cle1': 1, 'cle2': 2, 'cle3': 3}\n"
     ]
    }
   ],
   "execution_count": 270
  },
  {
   "cell_type": "code",
   "id": "bb9561ee-0715-4739-a273-a0dc1c292b96",
   "metadata": {
    "ExecuteTime": {
     "end_time": "2025-02-28T15:16:17.055662Z",
     "start_time": "2025-02-28T15:16:17.047172Z"
    }
   },
   "source": [
    "# on accède à un élément par sa clé\n",
    "dict1[\"cle1\"] # ***** remplir *******"
   ],
   "outputs": [
    {
     "data": {
      "text/plain": [
       "'valeur1'"
      ]
     },
     "execution_count": 271,
     "metadata": {},
     "output_type": "execute_result"
    }
   ],
   "execution_count": 271
  },
  {
   "cell_type": "code",
   "id": "b0fd42f7-342f-407c-a2a5-6a03f5dba375",
   "metadata": {
    "ExecuteTime": {
     "end_time": "2025-02-28T15:16:17.176826Z",
     "start_time": "2025-02-28T15:16:17.170832Z"
    }
   },
   "source": [
    "# on peut afficher la liste des clés\n",
    "dict2.keys() # ***** remplir *******"
   ],
   "outputs": [
    {
     "data": {
      "text/plain": [
       "dict_keys(['cle1', 'cle2', 'cle3'])"
      ]
     },
     "execution_count": 272,
     "metadata": {},
     "output_type": "execute_result"
    }
   ],
   "execution_count": 272
  },
  {
   "cell_type": "code",
   "id": "d024434b-5f73-4c32-8702-db4f30172d94",
   "metadata": {
    "ExecuteTime": {
     "end_time": "2025-02-28T15:16:17.272509Z",
     "start_time": "2025-02-28T15:16:17.267046Z"
    }
   },
   "source": [
    "dict2.values()"
   ],
   "outputs": [
    {
     "data": {
      "text/plain": [
       "dict_values([1, 2, 3])"
      ]
     },
     "execution_count": 273,
     "metadata": {},
     "output_type": "execute_result"
    }
   ],
   "execution_count": 273
  },
  {
   "cell_type": "code",
   "id": "993b46ef-53b5-4abb-99f9-a664cbc313c4",
   "metadata": {
    "ExecuteTime": {
     "end_time": "2025-02-28T15:16:17.402561Z",
     "start_time": "2025-02-28T15:16:17.394514Z"
    }
   },
   "source": [
    "# on peut aussi afficher les pairs clé : valeur\n",
    "dict1.items()"
   ],
   "outputs": [
    {
     "data": {
      "text/plain": [
       "dict_items([('cle1', 'valeur1'), ('cle2', 'valeur2')])"
      ]
     },
     "execution_count": 274,
     "metadata": {},
     "output_type": "execute_result"
    }
   ],
   "execution_count": 274
  },
  {
   "cell_type": "code",
   "id": "c9627689-9696-47c6-9281-5b9758199c35",
   "metadata": {
    "ExecuteTime": {
     "end_time": "2025-02-28T15:16:17.511889Z",
     "start_time": "2025-02-28T15:16:17.508109Z"
    }
   },
   "source": [
    "# on crée une clé et son valeur associée :\n",
    "dict1[\"cle4\"] = \"valeur4\" # ***** remplir *******\n",
    "print(dict1)"
   ],
   "outputs": [
    {
     "name": "stdout",
     "output_type": "stream",
     "text": [
      "{'cle1': 'valeur1', 'cle2': 'valeur2', 'cle4': 'valeur4'}\n"
     ]
    }
   ],
   "execution_count": 275
  },
  {
   "cell_type": "code",
   "id": "58e322ff-6844-4470-81d2-ef8d85b659b2",
   "metadata": {
    "ExecuteTime": {
     "end_time": "2025-02-28T15:16:17.720172Z",
     "start_time": "2025-02-28T15:16:17.713790Z"
    }
   },
   "source": [
    "# on peut supprimer cette clé\n",
    "del dict1[\"cle4\"]\n",
    "print(dict1)"
   ],
   "outputs": [
    {
     "name": "stdout",
     "output_type": "stream",
     "text": [
      "{'cle1': 'valeur1', 'cle2': 'valeur2'}\n"
     ]
    }
   ],
   "execution_count": 276
  },
  {
   "cell_type": "code",
   "id": "683bfd36-3b71-4ed9-b05b-8715bebad387",
   "metadata": {
    "ExecuteTime": {
     "end_time": "2025-02-28T15:16:17.943489Z",
     "start_time": "2025-02-28T15:16:17.936119Z"
    }
   },
   "source": [
    "# Avec le dcitionaire age, ci desous, affiche l'age de la clé Pam\n",
    "age = {'Tim':29, 'Jim':31, 'Pam':27, 'Sam':35} # ***** remplir *******\n",
    "age['Pam']"
   ],
   "outputs": [
    {
     "data": {
      "text/plain": [
       "27"
      ]
     },
     "execution_count": 277,
     "metadata": {},
     "output_type": "execute_result"
    }
   ],
   "execution_count": 277
  },
  {
   "cell_type": "markdown",
   "id": "a91ec218-09dd-48d4-99f2-c7440e2917eb",
   "metadata": {
    "tags": []
   },
   "source": [
    " #### [Go to index](#Index01)"
   ]
  },
  {
   "metadata": {},
   "cell_type": "markdown",
   "source": "## 7. Les structures de contrôle : Conditions / Boucles avec Python",
   "id": "e1b7acc3a49dab74"
  },
  {
   "metadata": {},
   "cell_type": "markdown",
   "source": [
    "   - La notion INDENTATION  4 * espace\n",
    "   - if, elif, else\n",
    "   - boucles for et while\n",
    "\n",
    "### Opérateurs de comparaison"
   ],
   "id": "f3afdaf5002df6b6"
  },
  {
   "cell_type": "code",
   "id": "5161f27c-27bc-4095-9400-89ddc860b952",
   "metadata": {
    "ExecuteTime": {
     "end_time": "2025-02-28T15:20:55.071667Z",
     "start_time": "2025-02-28T15:20:55.065355Z"
    }
   },
   "source": [
    "# True est égal à 1\n",
    "True == 1 # ******* Debug ******"
   ],
   "outputs": [
    {
     "data": {
      "text/plain": [
       "True"
      ]
     },
     "execution_count": 319,
     "metadata": {},
     "output_type": "execute_result"
    }
   ],
   "execution_count": 319
  },
  {
   "cell_type": "code",
   "id": "2a506174-9efd-490a-ab8f-9c88cbab0c79",
   "metadata": {
    "ExecuteTime": {
     "end_time": "2025-02-28T15:16:18.244039Z",
     "start_time": "2025-02-28T15:16:18.237203Z"
    }
   },
   "source": [
    "# False est égal à 0\n",
    "False == 0"
   ],
   "outputs": [
    {
     "data": {
      "text/plain": [
       "True"
      ]
     },
     "execution_count": 279,
     "metadata": {},
     "output_type": "execute_result"
    }
   ],
   "execution_count": 279
  },
  {
   "cell_type": "code",
   "id": "92ca6dce-2420-458e-b920-3d668bbf9e45",
   "metadata": {
    "ExecuteTime": {
     "end_time": "2025-02-28T15:16:18.390362Z",
     "start_time": "2025-02-28T15:16:18.382515Z"
    }
   },
   "source": [
    "# mais True n'est pas 1 (objet différent)\n",
    "True == 1"
   ],
   "outputs": [
    {
     "data": {
      "text/plain": [
       "True"
      ]
     },
     "execution_count": 280,
     "metadata": {},
     "output_type": "execute_result"
    }
   ],
   "execution_count": 280
  },
  {
   "cell_type": "code",
   "id": "a626f0ad-15d8-4484-9b45-739c65570ff1",
   "metadata": {
    "ExecuteTime": {
     "end_time": "2025-02-28T15:16:18.476177Z",
     "start_time": "2025-02-28T15:16:18.469576Z"
    }
   },
   "source": [
    "# en comparaison, True est plus grand que False (1>0)\n",
    "True > False"
   ],
   "outputs": [
    {
     "data": {
      "text/plain": [
       "True"
      ]
     },
     "execution_count": 281,
     "metadata": {},
     "output_type": "execute_result"
    }
   ],
   "execution_count": 281
  },
  {
   "cell_type": "code",
   "id": "7e2f7f49-f6ff-4a2b-a51f-fc3d75def4a0",
   "metadata": {
    "ExecuteTime": {
     "end_time": "2025-02-28T15:16:18.579370Z",
     "start_time": "2025-02-28T15:16:18.572863Z"
    }
   },
   "source": [
    "# pour des chaînes de caractères, l’ordre alphabétique prime\n",
    "\"Python\" > \"Java\""
   ],
   "outputs": [
    {
     "data": {
      "text/plain": [
       "True"
      ]
     },
     "execution_count": 282,
     "metadata": {},
     "output_type": "execute_result"
    }
   ],
   "execution_count": 282
  },
  {
   "cell_type": "code",
   "id": "0fb86946-189a-446b-a589-aa18b5cc4e5e",
   "metadata": {
    "ExecuteTime": {
     "end_time": "2025-02-28T15:16:18.646407Z",
     "start_time": "2025-02-28T15:16:18.640664Z"
    }
   },
   "source": "\"Java\" < \"C\"",
   "outputs": [
    {
     "data": {
      "text/plain": [
       "False"
      ]
     },
     "execution_count": 283,
     "metadata": {},
     "output_type": "execute_result"
    }
   ],
   "execution_count": 283
  },
  {
   "metadata": {},
   "cell_type": "markdown",
   "source": [
    "### Conditions **if**\n",
    "Les conditions sont simples à mettre en place en Python"
   ],
   "id": "f63556e3-ddc3-4841-bce6-8a742161c709"
  },
  {
   "metadata": {
    "ExecuteTime": {
     "end_time": "2025-02-28T15:16:18.858156Z",
     "start_time": "2025-02-28T15:16:18.852716Z"
    }
   },
   "cell_type": "code",
   "source": [
    "# on définit a\n",
    "a = 5\n",
    "# première condition\n",
    "if a is True: # ******* Debug ******\n",
    "    print(\"c'est vrai\")"
   ],
   "id": "d5508275-19a7-4ebc-bded-96c8b65005d2",
   "outputs": [],
   "execution_count": 285
  },
  {
   "metadata": {
    "ExecuteTime": {
     "end_time": "2025-02-28T15:16:18.919866Z",
     "start_time": "2025-02-28T15:16:18.914155Z"
    }
   },
   "cell_type": "code",
   "source": [
    "# on ajoute une alternative\n",
    "if a is True: # ******* Debug ******\n",
    "    print(\"c'est vrai\")\n",
    "else :\n",
    "    print(\"ce n'est pas vrai\")\n"
   ],
   "id": "0b106dd2-c980-4c4e-adc1-f63fac209846",
   "outputs": [
    {
     "name": "stdout",
     "output_type": "stream",
     "text": [
      "ce n'est pas vrai\n"
     ]
    }
   ],
   "execution_count": 286
  },
  {
   "metadata": {
    "ExecuteTime": {
     "end_time": "2025-02-28T15:16:18.968832Z",
     "start_time": "2025-02-28T15:16:18.962656Z"
    }
   },
   "cell_type": "code",
   "source": [
    "# on ajoute une éventualité, au cas où (elif = contraction else if)\n",
    "if a is True : # ******* Debug ******\n",
    "    print(\"c'est vrai\")\n",
    "elif a is False :\n",
    "    print(\"c'est faux\")\n",
    "else :\n",
    "    print(\"ce n'est pas un booléen\")\n",
    "\n",
    "print(\"calcul terminé\")"
   ],
   "id": "31cf03a2-fd4d-4a7c-b204-c004f3880a68",
   "outputs": [
    {
     "name": "stdout",
     "output_type": "stream",
     "text": [
      "ce n'est pas un booléen\n",
      "calcul terminé\n"
     ]
    }
   ],
   "execution_count": 287
  },
  {
   "cell_type": "markdown",
   "id": "06a65674-193f-4305-acad-f63b2047e705",
   "metadata": {},
   "source": [
    " #### [Go to index](#Index01)"
   ]
  },
  {
   "cell_type": "markdown",
   "id": "1228da7c-a405-4a63-9be9-10492315d058",
   "metadata": {},
   "source": [
    "### Les `boucles`\n",
    "#### le boucle **for**\n",
    "La boucle **for** itère une operation sur les éléments d'un objet."
   ]
  },
  {
   "cell_type": "code",
   "id": "530f500f-999d-48fe-a68a-e9b9e854b834",
   "metadata": {
    "ExecuteTime": {
     "end_time": "2025-02-28T15:16:19.058651Z",
     "start_time": "2025-02-28T15:16:19.051468Z"
    }
   },
   "source": [
    "for i in liste_pays:\n",
    "    print(i)\n",
    "print('*******')"
   ],
   "outputs": [
    {
     "name": "stdout",
     "output_type": "stream",
     "text": [
      "Suisse\n",
      "Espagne\n",
      "France\n",
      "Etats-Unis\n",
      "Inde\n",
      "Chine\n",
      "*******\n"
     ]
    }
   ],
   "execution_count": 288
  },
  {
   "cell_type": "code",
   "id": "aa01f5b1-193b-441f-8f7c-6e79827b7c0a",
   "metadata": {
    "ExecuteTime": {
     "end_time": "2025-02-28T15:16:19.197392Z",
     "start_time": "2025-02-28T15:16:19.191755Z"
    }
   },
   "source": [
    "for elem in [1, 2]: # ******* Debug ******\n",
    "    print(elem)"
   ],
   "outputs": [
    {
     "name": "stdout",
     "output_type": "stream",
     "text": [
      "1\n",
      "2\n"
     ]
    }
   ],
   "execution_count": 289
  },
  {
   "cell_type": "markdown",
   "id": "59618086-e6b7-478b-9f52-645ea522b7d9",
   "metadata": {},
   "source": [
    "La fonction **range()** permet de générer une suite d'entiers :"
   ]
  },
  {
   "cell_type": "code",
   "id": "6d4fbba8-d42e-40fc-a870-bf8a91428df8",
   "metadata": {
    "ExecuteTime": {
     "end_time": "2025-02-28T15:16:19.332885Z",
     "start_time": "2025-02-28T15:16:19.327089Z"
    }
   },
   "source": [
    "# ******* Debug ******\n",
    "print(list(range(5))) \n",
    "print(list(range(2, 5)))\n",
    "print(list(range(2, 15, 2)))\n",
    "#  Attention, la dernière valeur est toujours exclue !   "
   ],
   "outputs": [
    {
     "name": "stdout",
     "output_type": "stream",
     "text": [
      "[0, 1, 2, 3, 4]\n",
      "[2, 3, 4]\n",
      "[2, 4, 6, 8, 10, 12, 14]\n"
     ]
    }
   ],
   "execution_count": 290
  },
  {
   "cell_type": "markdown",
   "id": "fb11af30-42bb-467f-99bb-42b924091644",
   "metadata": {},
   "source": [
    "On utilise la fonction range pour générer une boucle sur des entiers de 0 à 10  et les imprimer sur la console :"
   ]
  },
  {
   "cell_type": "code",
   "id": "174ff02e-43ff-466a-87e1-c5a29f1f1bf7",
   "metadata": {
    "ExecuteTime": {
     "end_time": "2025-02-28T15:16:19.404816Z",
     "start_time": "2025-02-28T15:16:19.398341Z"
    }
   },
   "source": [
    "for i in range(11) : # ******* Debug ******\n",
    "    print(i,end=\"--\")"
   ],
   "outputs": [
    {
     "name": "stdout",
     "output_type": "stream",
     "text": [
      "0--1--2--3--4--5--6--7--8--9--10--"
     ]
    }
   ],
   "execution_count": 291
  },
  {
   "cell_type": "markdown",
   "id": "69525598-b7a5-490b-9f30-ea30a045e138",
   "metadata": {},
   "source": [
    "La fonction **enumerate()** permet de générer un indice en plus de la valeur de l'élement :"
   ]
  },
  {
   "cell_type": "code",
   "id": "7a3d85e7-9f9f-448c-857f-faadf4d1cbc2",
   "metadata": {
    "collapsed": true,
    "jupyter": {
     "outputs_hidden": true
    },
    "tags": [],
    "ExecuteTime": {
     "end_time": "2025-02-28T15:16:19.530569Z",
     "start_time": "2025-02-28T15:16:19.525903Z"
    }
   },
   "source": [
    "for i, a in enumerate(liste_pays) : # ******* Debug ******\n",
    "    print(i, a)"
   ],
   "outputs": [
    {
     "name": "stdout",
     "output_type": "stream",
     "text": [
      "0 Suisse\n",
      "1 Espagne\n",
      "2 France\n",
      "3 Etats-Unis\n",
      "4 Inde\n",
      "5 Chine\n"
     ]
    }
   ],
   "execution_count": 292
  },
  {
   "cell_type": "markdown",
   "id": "bb7fae31-a702-4514-b2b8-ca60261e8b94",
   "metadata": {},
   "source": [
    "La fonction **zip()** permet de joindre deux listes et de les parcourir \"en parallèle\""
   ]
  },
  {
   "cell_type": "code",
   "id": "693383a8-6be3-419a-946a-8786a5220526",
   "metadata": {
    "ExecuteTime": {
     "end_time": "2025-02-28T15:16:19.612017Z",
     "start_time": "2025-02-28T15:16:19.607179Z"
    }
   },
   "source": [
    "for jour, meteo in zip([\"lundi\", \"mardi\"], [\"beau\", \"mauvais\"]): # ******* Debug ******\n",
    "    print(\" % s, il fera % s\" %(jour.capitalize(), meteo))"
   ],
   "outputs": [
    {
     "name": "stdout",
     "output_type": "stream",
     "text": [
      " Lundi, il fera beau\n",
      " Mardi, il fera mauvais\n"
     ]
    }
   ],
   "execution_count": 293
  },
  {
   "cell_type": "markdown",
   "id": "19d16f13-29ad-4029-966d-ba47ea4e0411",
   "metadata": {},
   "source": [
    "On peut combiner et empiler méthodes, par example avec enumerate et zip :"
   ]
  },
  {
   "cell_type": "code",
   "id": "4d009b4b-5562-459a-bba5-f778a892e165",
   "metadata": {
    "ExecuteTime": {
     "end_time": "2025-02-28T15:16:19.722820Z",
     "start_time": "2025-02-28T15:16:19.716536Z"
    }
   },
   "source": [
    "for i, (jour, meteo) in enumerate(zip([\"lundi\", \"mardi\"],[\"beau\", \"mauvais\"])): # ******* Debug ******\n",
    "    print(\" % i : % s, il fera % s\" %(i, jour.capitalize(), meteo))"
   ],
   "outputs": [
    {
     "name": "stdout",
     "output_type": "stream",
     "text": [
      "  0 : Lundi, il fera beau\n",
      "  1 : Mardi, il fera mauvais\n"
     ]
    }
   ],
   "execution_count": 294
  },
  {
   "cell_type": "code",
   "id": "b1339098-070c-49a3-b3ac-b638875679fe",
   "metadata": {
    "ExecuteTime": {
     "end_time": "2025-02-28T15:16:19.807314Z",
     "start_time": "2025-02-28T15:16:19.800262Z"
    }
   },
   "source": [
    "#Ecrire une boucle qui prend chaque ours et écrit Bonjour ours __, si le ours est amical.    \n",
    "ours = { \"Panda\": \"amical\", \"Brun\": \"hostile\", \"Blanc\": \"amical\"}\n",
    "\n",
    "for i in ours:\n",
    "    if ours[i]=='amical':\n",
    "        print(\"Bonjour, ours \"+i+\"!\")\n",
    "    else:\n",
    "        print(\"Courez un ours \"+i+\" arrive!\")"
   ],
   "outputs": [
    {
     "name": "stdout",
     "output_type": "stream",
     "text": [
      "Bonjour, ours Panda!\n",
      "Courez un ours Brun arrive!\n",
      "Bonjour, ours Blanc!\n"
     ]
    }
   ],
   "execution_count": 295
  },
  {
   "cell_type": "markdown",
   "id": "85efb985-fdc4-4234-a3aa-d4a0a7f93b36",
   "metadata": {
    "tags": []
   },
   "source": [
    "#### La boucle **While**\n",
    "tandis que.. condition.\n",
    "\n",
    "Cette boucle a un fonctionnement classique en Python :"
   ]
  },
  {
   "cell_type": "code",
   "id": "caf2c981-ff58-494e-b2cc-857702a9e4a1",
   "metadata": {
    "ExecuteTime": {
     "end_time": "2025-02-28T15:16:19.916929Z",
     "start_time": "2025-02-28T15:16:19.906983Z"
    }
   },
   "source": [
    "# ******* Debug ******\n",
    "i = 1\n",
    "val_stop = 10\n",
    "while i < 100:\n",
    "    i += 1\n",
    "    if i > val_stop:\n",
    "        break\n",
    "print(i)"
   ],
   "outputs": [
    {
     "name": "stdout",
     "output_type": "stream",
     "text": [
      "11\n"
     ]
    }
   ],
   "execution_count": 296
  },
  {
   "cell_type": "markdown",
   "id": "f9919629-9988-4080-94de-dba056b8b2ad",
   "metadata": {
    "tags": []
   },
   "source": [
    "## 8. Les fonctions ou méthodes\n",
    "Utilization de mot clef **def**\n",
    "\n",
    "- Elle est appelée par son nom avec les paramètres entre parenthèses. Le\n",
    "nom des paramètres doit être précisé si l’ordre de déclaration n’est pas\n",
    "respecté.\n",
    "- Elle peut retourner une valeur ou plusieurs, mises alors dans un tuple."
   ]
  },
  {
   "cell_type": "code",
   "id": "930ee69a-0dd3-485f-aba0-84908659f0a9",
   "metadata": {
    "ExecuteTime": {
     "end_time": "2025-02-28T15:16:19.999774Z",
     "start_time": "2025-02-28T15:16:19.992929Z"
    }
   },
   "source": [
    "def ma_fonc(a, b): # ******* Debug ******\n",
    "    print(a - b)"
   ],
   "outputs": [],
   "execution_count": 297
  },
  {
   "cell_type": "code",
   "id": "05cb9252-10db-4a8d-b591-c2a626b074bf",
   "metadata": {
    "ExecuteTime": {
     "end_time": "2025-02-28T15:16:20.102260Z",
     "start_time": "2025-02-28T15:16:20.096470Z"
    }
   },
   "source": [
    "# on a différentes approches pour appeler une fonction\n",
    "ma_fonc(a=6, b=4)\n",
    "ma_fonc(6, 4)\n",
    "ma_fonc(b=4, a=6)"
   ],
   "outputs": [
    {
     "name": "stdout",
     "output_type": "stream",
     "text": [
      "2\n",
      "2\n",
      "2\n"
     ]
    }
   ],
   "execution_count": 298
  },
  {
   "cell_type": "code",
   "id": "161ee3b6-c241-4fa5-9ea6-0c8bb836692c",
   "metadata": {
    "ExecuteTime": {
     "end_time": "2025-02-28T15:16:20.218554Z",
     "start_time": "2025-02-28T15:16:20.211325Z"
    }
   },
   "source": [
    "def ma_fonc_b(a, b=6) : # ******* Déboguer ******\n",
    "    print(a + b)"
   ],
   "outputs": [],
   "execution_count": 299
  },
  {
   "cell_type": "code",
   "id": "04681130-c361-4ac6-b1c6-fe74b5259d2e",
   "metadata": {
    "ExecuteTime": {
     "end_time": "2025-02-28T15:16:20.298688Z",
     "start_time": "2025-02-28T15:16:20.292067Z"
    }
   },
   "source": [
    "ma_fonc_b(2, 5)\n",
    "ma_fonc_b(2)"
   ],
   "outputs": [
    {
     "name": "stdout",
     "output_type": "stream",
     "text": [
      "7\n",
      "8\n"
     ]
    }
   ],
   "execution_count": 300
  },
  {
   "cell_type": "code",
   "id": "383e067a-c02f-4482-b2a6-aef78dfe9a5d",
   "metadata": {
    "ExecuteTime": {
     "end_time": "2025-02-28T15:16:20.421642Z",
     "start_time": "2025-02-28T15:16:20.415623Z"
    }
   },
   "source": [
    "def ma_fonc2(a, b=6, c=5, d=10) : # ******* Déboguer  ******\n",
    "    print(a + b + c + d)"
   ],
   "outputs": [],
   "execution_count": 301
  },
  {
   "cell_type": "code",
   "id": "afab7006-7e6f-4805-af02-e00dde1d26c0",
   "metadata": {
    "ExecuteTime": {
     "end_time": "2025-02-28T15:16:20.542813Z",
     "start_time": "2025-02-28T15:16:20.537609Z"
    }
   },
   "source": [
    "ma_fonc2(2, c=3)\n",
    "ma_fonc2(2, d=1)"
   ],
   "outputs": [
    {
     "name": "stdout",
     "output_type": "stream",
     "text": [
      "21\n",
      "14\n"
     ]
    }
   ],
   "execution_count": 302
  },
  {
   "cell_type": "markdown",
   "id": "fce06f18-78ae-4bc8-8195-772bb3c3a431",
   "metadata": {},
   "source": [
    "Lorsqu'on a plusieurs paramètres dans un appel de fonction, plutôt que d'appeler séparément les éléments, on peut fournir une liste à la fonction.\n",
    "\n",
    "Dans ce cas, on utilisera __*list\\_name__ :"
   ]
  },
  {
   "cell_type": "code",
   "id": "2adf1bcf-8ce4-42fa-8001-c7814fac2763",
   "metadata": {
    "ExecuteTime": {
     "end_time": "2025-02-28T15:16:20.609323Z",
     "start_time": "2025-02-28T15:16:20.604234Z"
    }
   },
   "source": [
    "list_fonc = [3, 5, 6, 8]\n",
    "ma_fonc2(*list_fonc)"
   ],
   "outputs": [
    {
     "name": "stdout",
     "output_type": "stream",
     "text": [
      "22\n"
     ]
    }
   ],
   "execution_count": 303
  },
  {
   "cell_type": "markdown",
   "id": "d0bb6d2f-0257-483d-9a20-af9a9fc256fd",
   "metadata": {},
   "source": [
    "On peut aussi utiliser un dictionnaire et on utilise __**dico_name__ :"
   ]
  },
  {
   "cell_type": "code",
   "id": "2c8e332c-1593-4a6f-87c5-1ef58120719b",
   "metadata": {
    "ExecuteTime": {
     "end_time": "2025-02-28T15:16:20.695804Z",
     "start_time": "2025-02-28T15:16:20.689139Z"
    }
   },
   "source": [
    "dico_fonc={\"a\":5, \"b\": 6, \"c\": 7, \"d\": 5} # ******* Déboguer ******\n",
    "\n",
    "ma_fonc2(**dico_fonc)"
   ],
   "outputs": [
    {
     "name": "stdout",
     "output_type": "stream",
     "text": [
      "23\n"
     ]
    }
   ],
   "execution_count": 304
  },
  {
   "cell_type": "markdown",
   "id": "9df98593-eb6b-4a30-9fc5-dfb7edfc6c77",
   "metadata": {},
   "source": [
    "\n",
    "L'utlisation de __\\*args__ et __\\**kwargs__ dans un appel de fonctions va permettre d'avoir un nombre indéfini de paramètres dans l'appel de la fonction.\n",
    "\n",
    "__*args__ est associé à une liste et __**kwargs__ à un dictionnaire (c'est les __*__ qui comptent et non les noms des arguents).\n"
   ]
  },
  {
   "cell_type": "code",
   "id": "277b8186-b8da-4e20-9b34-609a25f6c4ce",
   "metadata": {
    "ExecuteTime": {
     "end_time": "2025-02-28T15:16:20.816308Z",
     "start_time": "2025-02-28T15:16:20.805295Z"
    }
   },
   "source": [
    "def ma_fonc3(param_obligatoire, *args, **kwargs): # ******* Déboguer ******\n",
    "    print(\"Argument obligatoire :\", param_obligatoire)\n",
    "    # si on a des arguments positionnés après les arguments obligatoires\n",
    "    # on les affiche\n",
    "    if args :\n",
    "        for val in args:\n",
    "            print(\"Argument dans args : \", val)\n",
    "    # si on a des arguments du type arg1 =… situé après les arguments\n",
    "    # obligatoires, on les affiche\n",
    "    if kwargs :\n",
    "        for key, val in kwargs.items():\n",
    "             print(\"Nom de l’argument et valeur dans kwargs\", key, val,sep=\": \")"
   ],
   "outputs": [],
   "execution_count": 305
  },
  {
   "cell_type": "code",
   "id": "7d2c91e2-1fad-4c01-a87b-24494eec224d",
   "metadata": {
    "ExecuteTime": {
     "end_time": "2025-02-28T15:16:20.894005Z",
     "start_time": "2025-02-28T15:16:20.887459Z"
    }
   },
   "source": "ma_fonc3(\"Programation\", \"pour\", \"recherche\", option=\"faire_palisir\")",
   "outputs": [
    {
     "name": "stdout",
     "output_type": "stream",
     "text": [
      "Argument obligatoire : Programation\n",
      "Argument dans args :  pour\n",
      "Argument dans args :  recherche\n",
      "Nom de l’argument et valeur dans kwargs: option: faire_palisir\n"
     ]
    }
   ],
   "execution_count": 306
  },
  {
   "cell_type": "code",
   "id": "07d3380a-56c7-44f2-aab2-bb9f8b76de4e",
   "metadata": {
    "ExecuteTime": {
     "end_time": "2025-02-28T15:16:20.994479Z",
     "start_time": "2025-02-28T15:16:20.989498Z"
    }
   },
   "source": [
    "ma_fonc3(\"Programation\", autre_option=\"C\")"
   ],
   "outputs": [
    {
     "name": "stdout",
     "output_type": "stream",
     "text": [
      "Argument obligatoire : Programation\n",
      "Nom de l’argument et valeur dans kwargs: autre_option: C\n"
     ]
    }
   ],
   "execution_count": 307
  },
  {
   "cell_type": "code",
   "id": "4882593b-7038-4626-9774-b401b7b1ac42",
   "metadata": {
    "ExecuteTime": {
     "end_time": "2025-02-28T15:16:21.079211Z",
     "start_time": "2025-02-28T15:16:21.074052Z"
    }
   },
   "source": [
    "ma_fonc3(\"Python\")"
   ],
   "outputs": [
    {
     "name": "stdout",
     "output_type": "stream",
     "text": [
      "Argument obligatoire : Python\n"
     ]
    }
   ],
   "execution_count": 308
  },
  {
   "cell_type": "markdown",
   "id": "9f0cfae6-b6c3-4829-9ad9-eb8daee0f871",
   "metadata": {},
   "source": [
    "Dans ce code, on a combiné les différentes options. On utilise souvent ce type d’arguments lorsqu’on appelle des fonctions de manière imbriquée afin d'éviter d’avoir à nommer tous les paramètres de toutes les fonctions appelées. Bien entendu, c’est à l’utilisateur de bien nommer les paramètres dans la partie kwargs."
   ]
  },
  {
   "cell_type": "markdown",
   "id": "168a9d78-eea7-449f-a10b-1a4c0db7f515",
   "metadata": {
    "tags": []
   },
   "source": [
    " #### [Go to index](#Index01)"
   ]
  },
  {
   "cell_type": "markdown",
   "id": "5c86e007-4010-4261-b039-45111f3b8287",
   "metadata": {},
   "source": [
    "#### Les docstrings\n",
    "Les docstrings consistent en des descriptions des fonctions, des classes ou des modules que l'on définit en utilisant __\"\"\"triple double guillemet\"\"\"__ dans la ligne suivant à la définition de la fonction / classe / module :\n"
   ]
  },
  {
   "cell_type": "code",
   "id": "2dcf5808-24a0-443a-b835-62ea1dce38dd",
   "metadata": {
    "ExecuteTime": {
     "end_time": "2025-02-28T15:16:21.204905Z",
     "start_time": "2025-02-28T15:16:21.199489Z"
    }
   },
   "source": [
    "def ma_fonction(*args): # ******* Debug ******\n",
    "    \"\"\"Cette fonction calcule la somme des paramètres\"\"\"\n",
    "    if args:\n",
    "        return sum(args)\n",
    "    else:\n",
    "        return print('où sont les args?')"
   ],
   "outputs": [],
   "execution_count": 309
  },
  {
   "cell_type": "code",
   "id": "b8b259ce-37c3-4a44-8252-c0f395dea815",
   "metadata": {
    "ExecuteTime": {
     "end_time": "2025-02-28T15:16:21.262672Z",
     "start_time": "2025-02-28T15:16:21.258182Z"
    }
   },
   "source": [
    "help(ma_fonction)"
   ],
   "outputs": [
    {
     "name": "stdout",
     "output_type": "stream",
     "text": [
      "Help on function ma_fonction in module __main__:\n",
      "\n",
      "ma_fonction(*args)\n",
      "    Cette fonction calcule la somme des paramètres\n",
      "\n"
     ]
    }
   ],
   "execution_count": 310
  },
  {
   "cell_type": "code",
   "id": "a357a5bb-79e6-4e38-8a21-5970f794fa4c",
   "metadata": {
    "ExecuteTime": {
     "end_time": "2025-02-28T15:16:21.314715Z",
     "start_time": "2025-02-28T15:16:21.310127Z"
    }
   },
   "source": [
    "ma_fonction()"
   ],
   "outputs": [
    {
     "name": "stdout",
     "output_type": "stream",
     "text": [
      "où sont les args?\n"
     ]
    }
   ],
   "execution_count": 311
  },
  {
   "cell_type": "markdown",
   "id": "ce7bf9b4-ff18-4193-be9c-7d5b17f20988",
   "metadata": {},
   "source": [
    "Pour une description des bonnes pratiques en terme d'utilisation des **docstrings**, je vous conseile la lecture de [PEP 257](https://www.python.org/dev/peps/pep-0257/)"
   ]
  },
  {
   "cell_type": "markdown",
   "id": "27966d71-3b27-4595-8acc-047f342a5df8",
   "metadata": {
    "tags": []
   },
   "source": [
    "#### Les retours multiples<br>\n",
    "Il est possible d'avoir plusieurs objets dans un return de fonctions. Dans ce cas, ces différents éléments sont soit stockés dans un tuple, soit associé à différents objets."
   ]
  },
  {
   "cell_type": "code",
   "id": "721891d4-2be9-449f-b2eb-40a74f5bce2d",
   "metadata": {
    "ExecuteTime": {
     "end_time": "2025-02-28T15:16:21.540825Z",
     "start_time": "2025-02-28T15:16:21.535442Z"
    }
   },
   "source": [
    "def ma_fonc(a, b) : # ******* Deboguer******\n",
    "    return a+b, a-b"
   ],
   "outputs": [],
   "execution_count": 312
  },
  {
   "cell_type": "code",
   "id": "241559be-c45f-4ea4-8c2a-13102e44c8c5",
   "metadata": {
    "ExecuteTime": {
     "end_time": "2025-02-28T15:16:21.720321Z",
     "start_time": "2025-02-28T15:16:21.712551Z"
    }
   },
   "source": "ma_fonc(2, 5) # ou est-ce que on garde les resultats?",
   "outputs": [
    {
     "data": {
      "text/plain": [
       "(7, -3)"
      ]
     },
     "execution_count": 313,
     "metadata": {},
     "output_type": "execute_result"
    }
   ],
   "execution_count": 313
  },
  {
   "cell_type": "code",
   "id": "63cb0505-c25f-4af3-a3b7-0aaafa61fc4e",
   "metadata": {
    "ExecuteTime": {
     "end_time": "2025-02-28T15:16:21.851516Z",
     "start_time": "2025-02-28T15:16:21.846314Z"
    }
   },
   "source": [
    "val1, val2=ma_fonc(2, 5)\n",
    "print(val1, val2)"
   ],
   "outputs": [
    {
     "name": "stdout",
     "output_type": "stream",
     "text": [
      "7 -3\n"
     ]
    }
   ],
   "execution_count": 314
  },
  {
   "cell_type": "markdown",
   "id": "819f525c-d36c-4bd5-bf25-a6f33c37e6ad",
   "metadata": {
    "tags": []
   },
   "source": [
    " #### [Go to index](#Index01)"
   ]
  },
  {
   "cell_type": "markdown",
   "id": "e1bf07a4-2389-4bbc-a5cd-1e9100ad58d2",
   "metadata": {},
   "source": [
    "#### Portées des variables\n",
    "##### Passage des paramètres\n",
    "\n",
    "   - Si les paramètres passés à une fonction sont de type mutable alors ils peuvent être modifiés par la fonction\n",
    "     (= passage par référence). C’est le cas pour les listes et les dictionnaires.\n",
    "\n",
    "   - Si les paramètres passés à une fonction sont de type non mutable alors ils ne peuvent pas être modifiés par la fonction\n",
    "     (= passage par valeur). C’est le cas pour les booléens, les entiers, les flottants, les complexes, les strings, les tuples.\n",
    "\n",
    "##### Portée des variables\n",
    "\n",
    "  - Les variables définies dans une fonction ont une portée locale et sont détruites à la fin de l’appel.\n",
    "  - oublier le mot clef global."
   ]
  },
  {
   "cell_type": "code",
   "id": "e2a85114-5097-49df-b17f-df21200f9037",
   "metadata": {
    "ExecuteTime": {
     "end_time": "2025-02-28T15:52:23.043500Z",
     "start_time": "2025-02-28T15:52:23.036348Z"
    }
   },
   "source": [
    "import random\n",
    "\n",
    "def numero(num=0):  # ******* Debug ******\n",
    "    print(\"numero inside input: \", num)\n",
    "    num = random.randint(0, 10)\n",
    "    print(\"numero inside: \", num)\n",
    "    return num\n",
    "print(\"numero return: \", numero())\n",
    "num = 1\n",
    "print(\"numero return: \", numero(num))\n",
    "print(\"numero outside: \", num)"
   ],
   "outputs": [
    {
     "name": "stdout",
     "output_type": "stream",
     "text": [
      "numero inside input:  0\n",
      "numero inside:  7\n",
      "numero return:  7\n",
      "numero inside input:  1\n",
      "numero inside:  9\n",
      "numero return:  9\n",
      "numero outside:  1\n"
     ]
    }
   ],
   "execution_count": 323
  },
  {
   "cell_type": "code",
   "execution_count": 31,
   "id": "9ad84d2e-ae83-4668-97d9-dcd8eb8145af",
   "metadata": {},
   "outputs": [
    {
     "name": "stdout",
     "output_type": "stream",
     "text": [
      "6\n"
     ]
    },
    {
     "name": "stdin",
     "output_type": "stream",
     "text": [
      "devine la chifre: 5\n"
     ]
    },
    {
     "name": "stdout",
     "output_type": "stream",
     "text": [
      "Ce n'est pas ca!, un autre essay\n",
      "6\n"
     ]
    },
    {
     "name": "stdin",
     "output_type": "stream",
     "text": [
      "devine la chifre: 2\n"
     ]
    },
    {
     "name": "stdout",
     "output_type": "stream",
     "text": [
      "Ce n'est pas ca!, un autre essay\n",
      "6\n"
     ]
    },
    {
     "name": "stdin",
     "output_type": "stream",
     "text": [
      "devine la chifre: 3\n"
     ]
    },
    {
     "name": "stdout",
     "output_type": "stream",
     "text": [
      "Ce n'est pas ca!, un autre essay\n",
      "6\n"
     ]
    },
    {
     "name": "stdin",
     "output_type": "stream",
     "text": [
      "devine la chifre: 4\n"
     ]
    },
    {
     "name": "stdout",
     "output_type": "stream",
     "text": [
      "Ce n'est pas ca!, un autre essay\n",
      "6\n"
     ]
    },
    {
     "name": "stdin",
     "output_type": "stream",
     "text": [
      "devine la chifre: 6\n"
     ]
    },
    {
     "name": "stdout",
     "output_type": "stream",
     "text": [
      "bien joue!\n"
     ]
    }
   ],
   "source": "# ****** Code ici *******\n"
  },
  {
   "cell_type": "markdown",
   "id": "1ef2f55f-8136-4111-bc3e-44ceed3917e6",
   "metadata": {
    "tags": []
   },
   "source": [
    "#### Les fonctions **lambda**\n",
    "Il s'agit de fonctions anonymes qui s'écrivent en une seule ligne."
   ]
  },
  {
   "cell_type": "markdown",
   "id": "d57440ba-4530-4413-9c82-e85fea415f79",
   "metadata": {},
   "source": [
    "Voici deux exemples :"
   ]
  },
  {
   "cell_type": "code",
   "execution_count": 99,
   "id": "d81a4feb-ca34-4dee-93d9-90f0f2f852d0",
   "metadata": {},
   "outputs": [
    {
     "data": {
      "text/plain": [
       "['PYTHON', 'POUR', 'LA', 'RECHERCHE']"
      ]
     },
     "execution_count": 99,
     "metadata": {},
     "output_type": "execute_result"
    }
   ],
   "source": [
    "ma_chaine = \"Python pour la recherche\"\n",
    "(lambda chaine : chaine.upper().split())(ma_chaine) # ***** remplir *******"
   ]
  },
  {
   "cell_type": "code",
   "execution_count": 100,
   "id": "14753a44-a7c1-4799-adac-cd8d83c86b3f",
   "metadata": {},
   "outputs": [
    {
     "name": "stdout",
     "output_type": "stream",
     "text": [
      "[6, 8, 12]\n"
     ]
    }
   ],
   "source": [
    "ma_liste = [1, 6, 8, 3, 12] # ******* Déboguer ******\n",
    "\n",
    "nouvelle_liste = list(filter(lambda x: (x >= 6), ma_liste))\n",
    "print(nouvelle_liste)"
   ]
  },
  {
   "cell_type": "markdown",
   "id": "944bff5d-6027-4a21-a2fa-55ad54249576",
   "metadata": {
    "tags": []
   },
   "source": [
    " #### [Go to index](#Index01)"
   ]
  },
  {
   "cell_type": "markdown",
   "id": "a6cdb598-f628-4eae-8a88-00ee371283b5",
   "metadata": {},
   "source": "## 9. Partage de Notebooks"
  },
  {
   "cell_type": "markdown",
   "id": "3bcce002-873b-494d-b677-21c0100aa757",
   "metadata": {},
   "source": [
    "`nbconvert` est un outil de la suite Jupyter qui permet de convertir des notebooks au format Jupyter (.ipynb) en divers autres formats, tels que **HTML**, **PDF**, **slides**, etc.."
   ]
  },
  {
   "cell_type": "code",
   "execution_count": null,
   "id": "786c5202-ded3-485a-9eae-238437a29c93",
   "metadata": {},
   "outputs": [],
   "source": [
    "# instal les libraries suivantes\n",
    "# conda install -c conda-forge pyppeteer\n",
    "# conda install nbconvert nbconvert[webpdf]"
   ]
  },
  {
   "cell_type": "code",
   "id": "21e1b637-d8f0-4345-9f12-35a19e8fa4c7",
   "metadata": {
    "deletable": false,
    "tags": [],
    "ExecuteTime": {
     "end_time": "2025-02-28T16:30:30.882854Z",
     "start_time": "2025-02-28T16:30:26.862482Z"
    }
   },
   "source": [
    "a = np.array([[1, 2, 3], [4, 5, 6]])\n",
    "print(a)\n",
    "print(type(a))\n",
    "print(a.dtype)\n",
    "print(a.ndim)  # Nombre de dimensions\n",
    "print(a.size)  # Nombre d'éléments\n",
    "print(a.shape)  # Dimensions# note/ convert to html and from there to pdf to save also images verifier selon les version actuel;\n",
    "!jupyter nbconvert --to html --allow-chromium-download 01-Introduction.ipynb"
   ],
   "outputs": [
    {
     "name": "stdout",
     "output_type": "stream",
     "text": [
      "[NbConvertApp] Converting notebook 01-Introduction.ipynb to html\r\n",
      "[NbConvertApp] Writing 505745 bytes to 01-Introduction.html\r\n"
     ]
    }
   ],
   "execution_count": 326
  },
  {
   "cell_type": "code",
   "id": "017b347f-352a-439a-9228-88e1d0f08b96",
   "metadata": {
    "ExecuteTime": {
     "end_time": "2025-02-28T15:16:22.271708057Z",
     "start_time": "2025-02-28T14:13:24.758914Z"
    }
   },
   "source": [
    "# conversion à pdf interactive\n",
    "!jupyter nbconvert --to webpdf --allow-chromium-download 01-Introduction.ipynb"
   ],
   "outputs": [
    {
     "name": "stdout",
     "output_type": "stream",
     "text": [
      "[NbConvertApp] Converting notebook 01-Introduction.ipynb to webpdf\r\n",
      "[NbConvertApp] Building PDF\r\n",
      "Traceback (most recent call last):\r\n",
      "  File \"/home/benielli/Documents/python-poJulien/.venv/lib/python3.11/site-packages/nbconvert/exporters/webpdf.py\", line 78, in main\r\n",
      "    from playwright.async_api import async_playwright  # type: ignore[import-not-found]\r\n",
      "    ^^^^^^^^^^^^^^^^^^^^^^^^^^^^^^^^^^^^^^^^^^^^^^^^^\r\n",
      "ModuleNotFoundError: No module named 'playwright'\r\n",
      "\r\n",
      "The above exception was the direct cause of the following exception:\r\n",
      "\r\n",
      "Traceback (most recent call last):\r\n",
      "  File \"/home/benielli/Documents/python-poJulien/.venv/bin/jupyter-nbconvert\", line 8, in <module>\r\n",
      "    sys.exit(main())\r\n",
      "             ^^^^^^\r\n",
      "  File \"/home/benielli/Documents/python-poJulien/.venv/lib/python3.11/site-packages/jupyter_core/application.py\", line 283, in launch_instance\r\n",
      "    super().launch_instance(argv=argv, **kwargs)\r\n",
      "  File \"/home/benielli/Documents/python-poJulien/.venv/lib/python3.11/site-packages/traitlets/config/application.py\", line 1075, in launch_instance\r\n",
      "    app.start()\r\n",
      "  File \"/home/benielli/Documents/python-poJulien/.venv/lib/python3.11/site-packages/nbconvert/nbconvertapp.py\", line 420, in start\r\n",
      "    self.convert_notebooks()\r\n",
      "  File \"/home/benielli/Documents/python-poJulien/.venv/lib/python3.11/site-packages/nbconvert/nbconvertapp.py\", line 597, in convert_notebooks\r\n",
      "    self.convert_single_notebook(notebook_filename)\r\n",
      "  File \"/home/benielli/Documents/python-poJulien/.venv/lib/python3.11/site-packages/nbconvert/nbconvertapp.py\", line 563, in convert_single_notebook\r\n",
      "    output, resources = self.export_single_notebook(\r\n",
      "                        ^^^^^^^^^^^^^^^^^^^^^^^^^^^^\r\n",
      "  File \"/home/benielli/Documents/python-poJulien/.venv/lib/python3.11/site-packages/nbconvert/nbconvertapp.py\", line 487, in export_single_notebook\r\n",
      "    output, resources = self.exporter.from_filename(\r\n",
      "                        ^^^^^^^^^^^^^^^^^^^^^^^^^^^^\r\n",
      "  File \"/home/benielli/Documents/python-poJulien/.venv/lib/python3.11/site-packages/nbconvert/exporters/templateexporter.py\", line 390, in from_filename\r\n",
      "    return super().from_filename(filename, resources, **kw)  # type:ignore[return-value]\r\n",
      "           ^^^^^^^^^^^^^^^^^^^^^^^^^^^^^^^^^^^^^^^^^^^^^^^^\r\n",
      "  File \"/home/benielli/Documents/python-poJulien/.venv/lib/python3.11/site-packages/nbconvert/exporters/exporter.py\", line 201, in from_filename\r\n",
      "    return self.from_file(f, resources=resources, **kw)\r\n",
      "           ^^^^^^^^^^^^^^^^^^^^^^^^^^^^^^^^^^^^^^^^^^^^\r\n",
      "  File \"/home/benielli/Documents/python-poJulien/.venv/lib/python3.11/site-packages/nbconvert/exporters/templateexporter.py\", line 396, in from_file\r\n",
      "    return super().from_file(file_stream, resources, **kw)  # type:ignore[return-value]\r\n",
      "           ^^^^^^^^^^^^^^^^^^^^^^^^^^^^^^^^^^^^^^^^^^^^^^^\r\n",
      "  File \"/home/benielli/Documents/python-poJulien/.venv/lib/python3.11/site-packages/nbconvert/exporters/exporter.py\", line 220, in from_file\r\n",
      "    return self.from_notebook_node(\r\n",
      "           ^^^^^^^^^^^^^^^^^^^^^^^^\r\n",
      "  File \"/home/benielli/Documents/python-poJulien/.venv/lib/python3.11/site-packages/nbconvert/exporters/webpdf.py\", line 174, in from_notebook_node\r\n",
      "    pdf_data = self.run_playwright(html)\r\n",
      "               ^^^^^^^^^^^^^^^^^^^^^^^^^\r\n",
      "  File \"/home/benielli/Documents/python-poJulien/.venv/lib/python3.11/site-packages/nbconvert/exporters/webpdf.py\", line 163, in run_playwright\r\n",
      "    pdf_data = pool.submit(run_coroutine, main(temp_file)).result()\r\n",
      "               ^^^^^^^^^^^^^^^^^^^^^^^^^^^^^^^^^^^^^^^^^^^^^^^^^^^^\r\n",
      "  File \"/usr/lib/python3.11/concurrent/futures/_base.py\", line 456, in result\r\n",
      "    return self.__get_result()\r\n",
      "           ^^^^^^^^^^^^^^^^^^^\r\n",
      "  File \"/usr/lib/python3.11/concurrent/futures/_base.py\", line 401, in __get_result\r\n",
      "    raise self._exception\r\n",
      "  File \"/usr/lib/python3.11/concurrent/futures/thread.py\", line 58, in run\r\n",
      "    result = self.fn(*self.args, **self.kwargs)\r\n",
      "             ^^^^^^^^^^^^^^^^^^^^^^^^^^^^^^^^^^\r\n",
      "  File \"/home/benielli/Documents/python-poJulien/.venv/lib/python3.11/site-packages/nbconvert/exporters/webpdf.py\", line 161, in run_coroutine\r\n",
      "    return loop.run_until_complete(coro)\r\n",
      "           ^^^^^^^^^^^^^^^^^^^^^^^^^^^^^\r\n",
      "  File \"/usr/lib/python3.11/asyncio/base_events.py\", line 654, in run_until_complete\r\n",
      "    return future.result()\r\n",
      "           ^^^^^^^^^^^^^^^\r\n",
      "  File \"/home/benielli/Documents/python-poJulien/.venv/lib/python3.11/site-packages/nbconvert/exporters/webpdf.py\", line 84, in main\r\n",
      "    raise RuntimeError(msg) from e\r\n",
      "RuntimeError: Playwright is not installed to support Web PDF conversion. Please install `nbconvert[webpdf]` to enable.\r\n"
     ]
    }
   ],
   "execution_count": 83
  },
  {
   "cell_type": "markdown",
   "id": "18bf8b44-b398-4112-be66-0ee2c4ebf946",
   "metadata": {},
   "source": [
    "Le concept de [**reproductibilité**](https://scienceouverte.univ-grenoble-alpes.fr/codes-et-logiciels/reproductibilite/) est devenu un point essentiel de la confiance en la science. Une des conditions nécessaire mais non-suffisante pour assurer la reproductibilité d’un résultat scientifique d’une publication est la mise à disposition ouverte du logiciel et des données ayant permis ce résultat.\n",
    "\n",
    "La réutilisabilité des données et des codes est un enjeu majeur pour la reproductibilité.\n",
    "\n",
    "L’utilisation de notebooks permet d’intégrer dans un même document du texte rédactionnel, du code informatique et les résultats de ce code, et sont donc aussi des outils intéressants pour la reproductibilité, notamment en documentant l’usage du logiciel (favorisant la réplicabilité).\n",
    "\n",
    "A fin de garantir la réplicabilité il est hautement conseille partager le notebook, les données d'entrée ainsi comme les libreries avec ses versions utilisées.   "
   ]
  },
  {
   "metadata": {},
   "cell_type": "markdown",
   "source": [
    "# Exportez le fichier de configuration de l’environnement actuel avec: \n",
    "conda list -e > requirements.txt"
   ],
   "id": "869281b9245331df"
  },
  {
   "cell_type": "code",
   "execution_count": null,
   "id": "1915ed85-5ded-4462-8499-9ad323ceff26",
   "metadata": {},
   "outputs": [],
   "source": [
    "# La commande suivante installera les packages conformément au fichier de configuration requirements.txt.\n",
    "\n",
    "# conda install -r requirements.txt"
   ]
  },
  {
   "metadata": {},
   "cell_type": "markdown",
   "source": [
    "## 10. Un mot sur les modules : mode python pur\n",
    "\n",
    "- Un module est un fichier python (.py) contenant des fonctions (ou des classes).\n",
    "- Pour appeler les fonctions (ou les classes) définies dans un fichier à partir d’un autre fichier, on utilise import.\n",
    "Exemple :\n",
    "\n",
    "```python\n",
    "    # -*- coding: utf-8 -*-\n",
    "    # file import.py\n",
    "    import random\n",
    "\n",
    "    a = 5\n",
    "    for i in range(0, a):\n",
    "        print(random.randint(0, a), end='')\n",
    "    print()\n",
    "```\n",
    "\n",
    "Il y a plusieurs façons d’importer un module :\n",
    "```import monmodule```\n",
    "- Importe toutes les fonctions (ou classes) de monmodule. Les appels se font avec monmodule.\n",
    "```import monmodule as mm```\n",
    "- Importe toutes les fonctions (ou classes) de monmodule. Les appels se font avec mm.\n",
    "```from monmodule import mafonction```\n",
    "- Importe uniquement mafonction. L’appel se fait directement avec son nom (mafonction()).\n",
    "```from monmodule import mafonction as f```\n",
    "- Importe uniquement mafonction. L’appel se fait avec (f()).\n"
   ],
   "id": "93126b5734d72ae3"
  },
  {
   "metadata": {
    "ExecuteTime": {
     "end_time": "2025-02-28T16:15:05.891314Z",
     "start_time": "2025-02-28T16:15:05.886362Z"
    }
   },
   "cell_type": "code",
   "source": [
    "import random\n",
    "a = random.randint(0,10)\n",
    "import random as rd\n",
    "a = rd.randint(0, 10)\n",
    "from random import randint\n",
    "a = randint(0, 10)\n",
    "from random import randint as rdi\n",
    "a = rdi(0, 10)\n",
    "from random import *\n",
    "a = randint(0, 10)"
   ],
   "id": "b9e6ed57a90a9074",
   "outputs": [],
   "execution_count": 324
  },
  {
   "metadata": {},
   "cell_type": "markdown",
   "source": [
    "Pour importer un module il faut que python le trouve. . .\n",
    "Plusieurs possibilités :\n",
    "- Le module est dans le répertoire courant.\n",
    "- Le module est dans un répertoire du PYTHONPATH\n",
    "- Spécifier le chemin directement :\n",
    "\n",
    "```\n",
    "import sys\n",
    "sys.path.append('/chemin/vers/monmodule/')\n",
    "import monmodule\n",
    "```"
   ],
   "id": "e14122b30383ce5d"
  },
  {
   "cell_type": "markdown",
   "id": "2060ab63-1870-415c-a20f-990dc5df4f3b",
   "metadata": {
    "tags": []
   },
   "source": [
    " #### [Go to index](#Index01)  \n",
    " # Ce NB se termine ici"
   ]
  },
  {
   "cell_type": "markdown",
   "id": "ee41d70d-bc49-43fa-bfb9-050a54f4834d",
   "metadata": {
    "colapsed": true,
    "deletable": false,
    "editable": false,
    "tags": []
   },
   "source": [
    "<!--Recopilation by : Eulalio Torres (AMU/CEDRE)-->\n",
    "<!-- Disclaimer for content of the formation:\n",
    "\n",
    "The information provided is sourced from the internet and various others books is intended for general informational-formational purposes only. While efforts have been made to ensure accuracy and reliability, we cannot guarantee the completeness, suitability, or validity of the information found here. Any reliance you place on such material is strictly at your own risk.\n",
    "\n",
    "We do not endorse or vouch for the accuracy of any third-party content, and we strongly advise independent verification of any information obtained from this source. The inclusion of links, references, or citations to external websites does not imply endorsement or approval of the content therein.\n",
    "\n",
    "Furthermore, we are not liable for any direct, indirect, or consequential damages or any other losses or damages of any kind arising out of or in connection with the use of this information or reliance on it. This disclaimer extends to any linked third-party websites and their content.\n",
    "\n",
    "Always consult with qualified professionals or experts for specific advice or information related to your individual circumstances. It is recommended to seek the counsel of appropriate professionals when dealing with legal, financial, medical, or other specialized matters.\n",
    "\n",
    "This disclaimer is subject to change without notice and was last updated on the date indicated below. It is advisable to review this disclaimer regularly for any updates or modifications.  -- >"
   ]
  },
  {
   "metadata": {},
   "cell_type": "raw",
   "source": [
    "\n",
    "--- "
   ],
   "id": "f11effa72acf120a"
  }
 ],
 "metadata": {
  "kernelspec": {
   "display_name": "Python 3 (ipykernel)",
   "language": "python",
   "name": "python3"
  },
  "language_info": {
   "codemirror_mode": {
    "name": "ipython",
    "version": 3
   },
   "file_extension": ".py",
   "mimetype": "text/x-python",
   "name": "python",
   "nbconvert_exporter": "python",
   "pygments_lexer": "ipython3",
   "version": "3.11.11"
  },
  "widgets": {
   "application/vnd.jupyter.widget-state+json": {
    "state": {},
    "version_major": 2,
    "version_minor": 0
   }
  }
 },
 "nbformat": 4,
 "nbformat_minor": 5
}
